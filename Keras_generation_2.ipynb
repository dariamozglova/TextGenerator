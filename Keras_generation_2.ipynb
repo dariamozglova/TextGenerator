{
 "cells": [
  {
   "cell_type": "markdown",
   "id": "326db295",
   "metadata": {},
   "source": [
    "## Check GPU enabled"
   ]
  },
  {
   "cell_type": "code",
   "execution_count": 1,
   "id": "8bf9cdbc",
   "metadata": {},
   "outputs": [
    {
     "name": "stderr",
     "output_type": "stream",
     "text": [
      "2024-03-21 22:41:07.113005: E external/local_xla/xla/stream_executor/cuda/cuda_dnn.cc:9261] Unable to register cuDNN factory: Attempting to register factory for plugin cuDNN when one has already been registered\n",
      "2024-03-21 22:41:07.113067: E external/local_xla/xla/stream_executor/cuda/cuda_fft.cc:607] Unable to register cuFFT factory: Attempting to register factory for plugin cuFFT when one has already been registered\n",
      "2024-03-21 22:41:07.113969: E external/local_xla/xla/stream_executor/cuda/cuda_blas.cc:1515] Unable to register cuBLAS factory: Attempting to register factory for plugin cuBLAS when one has already been registered\n",
      "2024-03-21 22:41:07.119539: I tensorflow/core/platform/cpu_feature_guard.cc:182] This TensorFlow binary is optimized to use available CPU instructions in performance-critical operations.\n",
      "To enable the following instructions: AVX2 FMA, in other operations, rebuild TensorFlow with the appropriate compiler flags.\n",
      "2024-03-21 22:41:07.730436: W tensorflow/compiler/tf2tensorrt/utils/py_utils.cc:38] TF-TRT Warning: Could not find TensorRT\n"
     ]
    },
    {
     "name": "stdout",
     "output_type": "stream",
     "text": [
      "1 Physical GPUs, 1 Logical GPUs\n"
     ]
    },
    {
     "name": "stderr",
     "output_type": "stream",
     "text": [
      "2024-03-21 22:41:08.237554: I external/local_xla/xla/stream_executor/cuda/cuda_executor.cc:901] successful NUMA node read from SysFS had negative value (-1), but there must be at least one NUMA node, so returning NUMA node zero. See more at https://github.com/torvalds/linux/blob/v6.0/Documentation/ABI/testing/sysfs-bus-pci#L344-L355\n",
      "2024-03-21 22:41:08.267150: I external/local_xla/xla/stream_executor/cuda/cuda_executor.cc:901] successful NUMA node read from SysFS had negative value (-1), but there must be at least one NUMA node, so returning NUMA node zero. See more at https://github.com/torvalds/linux/blob/v6.0/Documentation/ABI/testing/sysfs-bus-pci#L344-L355\n",
      "2024-03-21 22:41:08.267349: I external/local_xla/xla/stream_executor/cuda/cuda_executor.cc:901] successful NUMA node read from SysFS had negative value (-1), but there must be at least one NUMA node, so returning NUMA node zero. See more at https://github.com/torvalds/linux/blob/v6.0/Documentation/ABI/testing/sysfs-bus-pci#L344-L355\n",
      "2024-03-21 22:41:08.268251: I external/local_xla/xla/stream_executor/cuda/cuda_executor.cc:901] successful NUMA node read from SysFS had negative value (-1), but there must be at least one NUMA node, so returning NUMA node zero. See more at https://github.com/torvalds/linux/blob/v6.0/Documentation/ABI/testing/sysfs-bus-pci#L344-L355\n",
      "2024-03-21 22:41:08.268389: I external/local_xla/xla/stream_executor/cuda/cuda_executor.cc:901] successful NUMA node read from SysFS had negative value (-1), but there must be at least one NUMA node, so returning NUMA node zero. See more at https://github.com/torvalds/linux/blob/v6.0/Documentation/ABI/testing/sysfs-bus-pci#L344-L355\n",
      "2024-03-21 22:41:08.268509: I external/local_xla/xla/stream_executor/cuda/cuda_executor.cc:901] successful NUMA node read from SysFS had negative value (-1), but there must be at least one NUMA node, so returning NUMA node zero. See more at https://github.com/torvalds/linux/blob/v6.0/Documentation/ABI/testing/sysfs-bus-pci#L344-L355\n",
      "2024-03-21 22:41:08.324514: I external/local_xla/xla/stream_executor/cuda/cuda_executor.cc:901] successful NUMA node read from SysFS had negative value (-1), but there must be at least one NUMA node, so returning NUMA node zero. See more at https://github.com/torvalds/linux/blob/v6.0/Documentation/ABI/testing/sysfs-bus-pci#L344-L355\n",
      "2024-03-21 22:41:08.324676: I external/local_xla/xla/stream_executor/cuda/cuda_executor.cc:901] successful NUMA node read from SysFS had negative value (-1), but there must be at least one NUMA node, so returning NUMA node zero. See more at https://github.com/torvalds/linux/blob/v6.0/Documentation/ABI/testing/sysfs-bus-pci#L344-L355\n",
      "2024-03-21 22:41:08.324807: I external/local_xla/xla/stream_executor/cuda/cuda_executor.cc:901] successful NUMA node read from SysFS had negative value (-1), but there must be at least one NUMA node, so returning NUMA node zero. See more at https://github.com/torvalds/linux/blob/v6.0/Documentation/ABI/testing/sysfs-bus-pci#L344-L355\n",
      "2024-03-21 22:41:08.324915: I tensorflow/core/common_runtime/gpu/gpu_device.cc:1929] Created device /job:localhost/replica:0/task:0/device:GPU:0 with 2765 MB memory:  -> device: 0, name: NVIDIA GeForce GTX 1050 Ti, pci bus id: 0000:06:00.0, compute capability: 6.1\n"
     ]
    }
   ],
   "source": [
    "import tensorflow as tf\n",
    "\n",
    "gpus = tf.config.list_physical_devices('GPU')\n",
    "if gpus:\n",
    "    try:\n",
    "    # Currently, memory growth needs to be the same across GPUs\n",
    "        for gpu in gpus:\n",
    "            tf.config.experimental.set_memory_growth(gpu, True)\n",
    "        logical_gpus = tf.config.list_logical_devices('GPU')\n",
    "        print(len(gpus), \"Physical GPUs,\", len(logical_gpus), \"Logical GPUs\")\n",
    "    except RuntimeError as e:\n",
    "        # Memory growth must be set before GPUs have been initialized\n",
    "        print(e)"
   ]
  },
  {
   "cell_type": "code",
   "execution_count": 2,
   "id": "7ef45530",
   "metadata": {},
   "outputs": [
    {
     "name": "stdout",
     "output_type": "stream",
     "text": [
      "['/device:CPU:0', '/device:GPU:0']\n"
     ]
    },
    {
     "name": "stderr",
     "output_type": "stream",
     "text": [
      "2024-03-21 22:41:08.332079: I external/local_xla/xla/stream_executor/cuda/cuda_executor.cc:901] successful NUMA node read from SysFS had negative value (-1), but there must be at least one NUMA node, so returning NUMA node zero. See more at https://github.com/torvalds/linux/blob/v6.0/Documentation/ABI/testing/sysfs-bus-pci#L344-L355\n",
      "2024-03-21 22:41:08.332265: I external/local_xla/xla/stream_executor/cuda/cuda_executor.cc:901] successful NUMA node read from SysFS had negative value (-1), but there must be at least one NUMA node, so returning NUMA node zero. See more at https://github.com/torvalds/linux/blob/v6.0/Documentation/ABI/testing/sysfs-bus-pci#L344-L355\n",
      "2024-03-21 22:41:08.332386: I external/local_xla/xla/stream_executor/cuda/cuda_executor.cc:901] successful NUMA node read from SysFS had negative value (-1), but there must be at least one NUMA node, so returning NUMA node zero. See more at https://github.com/torvalds/linux/blob/v6.0/Documentation/ABI/testing/sysfs-bus-pci#L344-L355\n",
      "2024-03-21 22:41:08.332553: I external/local_xla/xla/stream_executor/cuda/cuda_executor.cc:901] successful NUMA node read from SysFS had negative value (-1), but there must be at least one NUMA node, so returning NUMA node zero. See more at https://github.com/torvalds/linux/blob/v6.0/Documentation/ABI/testing/sysfs-bus-pci#L344-L355\n",
      "2024-03-21 22:41:08.332680: I external/local_xla/xla/stream_executor/cuda/cuda_executor.cc:901] successful NUMA node read from SysFS had negative value (-1), but there must be at least one NUMA node, so returning NUMA node zero. See more at https://github.com/torvalds/linux/blob/v6.0/Documentation/ABI/testing/sysfs-bus-pci#L344-L355\n",
      "2024-03-21 22:41:08.332775: I tensorflow/core/common_runtime/gpu/gpu_device.cc:1929] Created device /device:GPU:0 with 2765 MB memory:  -> device: 0, name: NVIDIA GeForce GTX 1050 Ti, pci bus id: 0000:06:00.0, compute capability: 6.1\n"
     ]
    },
    {
     "data": {
      "text/plain": [
       "\"\\nshould be ['/device:CPU:0', '/device:GPU:0']\\nnot ['/device:CPU:0']\\n\""
      ]
     },
     "execution_count": 2,
     "metadata": {},
     "output_type": "execute_result"
    }
   ],
   "source": [
    "from tensorflow.python.client import device_lib\n",
    "\n",
    "def get_available_devices():\n",
    "    local_device_protos = device_lib.list_local_devices()\n",
    "    return [x.name for x in local_device_protos]\n",
    "\n",
    "print(get_available_devices())\n",
    "\n",
    "'''\n",
    "should be ['/device:CPU:0', '/device:GPU:0']\n",
    "not ['/device:CPU:0']\n",
    "'''"
   ]
  },
  {
   "cell_type": "code",
   "execution_count": 3,
   "id": "a12193e3",
   "metadata": {},
   "outputs": [
    {
     "data": {
      "text/plain": [
       "[PhysicalDevice(name='/physical_device:GPU:0', device_type='GPU')]"
      ]
     },
     "execution_count": 3,
     "metadata": {},
     "output_type": "execute_result"
    }
   ],
   "source": [
    "tf.config.list_physical_devices('GPU')"
   ]
  },
  {
   "cell_type": "markdown",
   "id": "03630a5a",
   "metadata": {},
   "source": [
    "# Imports"
   ]
  },
  {
   "cell_type": "code",
   "execution_count": 4,
   "id": "91d8159c",
   "metadata": {},
   "outputs": [],
   "source": [
    "import re"
   ]
  },
  {
   "cell_type": "code",
   "execution_count": 5,
   "id": "3ab5fbac",
   "metadata": {},
   "outputs": [],
   "source": [
    "import tensorflow as tf\n",
    "import tensorflow_text as text"
   ]
  },
  {
   "cell_type": "code",
   "execution_count": 6,
   "id": "3f24c5f3-091b-4ac2-8456-0aae15cea211",
   "metadata": {},
   "outputs": [],
   "source": [
    "from tensorflow import keras\n",
    "from tensorflow.keras.layers import TextVectorization\n",
    "from tensorflow.keras import layers\n",
    "from tensorflow import data"
   ]
  },
  {
   "cell_type": "code",
   "execution_count": 7,
   "id": "b5c2b609-887f-4d5a-99ae-5001fd4de362",
   "metadata": {},
   "outputs": [],
   "source": [
    "import pandas as pd\n",
    "import numpy as np"
   ]
  },
  {
   "cell_type": "code",
   "execution_count": 8,
   "id": "5d6e350e",
   "metadata": {},
   "outputs": [],
   "source": [
    "import pickle"
   ]
  },
  {
   "cell_type": "markdown",
   "id": "e6dc4b35",
   "metadata": {},
   "source": [
    "## Data "
   ]
  },
  {
   "cell_type": "code",
   "execution_count": null,
   "id": "582c8987",
   "metadata": {},
   "outputs": [],
   "source": [
    "'''\n",
    "Загрузка датасета, уменьшение обучающей выборки до 20к строк из-за недостатка ресурсов\n",
    "\n",
    "keras_dataset - полный датасет на 106793 строк\n",
    "keras_dataset_short - датасет на 20000 строк\n",
    "'''"
   ]
  },
  {
   "cell_type": "code",
   "execution_count": 9,
   "id": "84894cb6",
   "metadata": {},
   "outputs": [],
   "source": [
    "dataset = pd.read_csv('datas/data_fant.txt')"
   ]
  },
  {
   "cell_type": "code",
   "execution_count": 10,
   "id": "346848c5",
   "metadata": {},
   "outputs": [
    {
     "data": {
      "text/html": [
       "<div>\n",
       "<style scoped>\n",
       "    .dataframe tbody tr th:only-of-type {\n",
       "        vertical-align: middle;\n",
       "    }\n",
       "\n",
       "    .dataframe tbody tr th {\n",
       "        vertical-align: top;\n",
       "    }\n",
       "\n",
       "    .dataframe thead th {\n",
       "        text-align: right;\n",
       "    }\n",
       "</style>\n",
       "<table border=\"1\" class=\"dataframe\">\n",
       "  <thead>\n",
       "    <tr style=\"text-align: right;\">\n",
       "      <th></th>\n",
       "      <th>description</th>\n",
       "    </tr>\n",
       "  </thead>\n",
       "  <tbody>\n",
       "    <tr>\n",
       "      <th>0</th>\n",
       "      <td>множество творений дивных и странных оставалос...</td>\n",
       "    </tr>\n",
       "    <tr>\n",
       "      <th>1</th>\n",
       "      <td>агдалон мы все ждем тебя сейчас капитан сейча...</td>\n",
       "    </tr>\n",
       "    <tr>\n",
       "      <th>2</th>\n",
       "      <td>смерть глядит ему в самые очи и ухмыляется гн...</td>\n",
       "    </tr>\n",
       "    <tr>\n",
       "      <th>3</th>\n",
       "      <td>брызги уха разлетаются во все стороны гоблин ...</td>\n",
       "    </tr>\n",
       "    <tr>\n",
       "      <th>4</th>\n",
       "      <td>на кончике вяло загорается пламя затем хлопае...</td>\n",
       "    </tr>\n",
       "  </tbody>\n",
       "</table>\n",
       "</div>"
      ],
      "text/plain": [
       "                                         description\n",
       "0  множество творений дивных и странных оставалос...\n",
       "1   агдалон мы все ждем тебя сейчас капитан сейча...\n",
       "2   смерть глядит ему в самые очи и ухмыляется гн...\n",
       "3   брызги уха разлетаются во все стороны гоблин ...\n",
       "4   на кончике вяло загорается пламя затем хлопае..."
      ]
     },
     "execution_count": 10,
     "metadata": {},
     "output_type": "execute_result"
    }
   ],
   "source": [
    "dataset.head()"
   ]
  },
  {
   "cell_type": "code",
   "execution_count": 11,
   "id": "a1bc62ff",
   "metadata": {},
   "outputs": [
    {
     "name": "stdout",
     "output_type": "stream",
     "text": [
      "(110763, 1)\n",
      "(106793, 1)\n"
     ]
    }
   ],
   "source": [
    "print(dataset.shape)\n",
    "dataset = dataset.drop_duplicates(subset='description').dropna()\n",
    "print(dataset.shape)"
   ]
  },
  {
   "cell_type": "code",
   "execution_count": 12,
   "id": "c7c1224a",
   "metadata": {},
   "outputs": [],
   "source": [
    "keras_dataset = tf.data.Dataset.from_tensor_slices((dataset))"
   ]
  },
  {
   "cell_type": "code",
   "execution_count": 13,
   "id": "677c9f10",
   "metadata": {},
   "outputs": [],
   "source": [
    "dataset_short = dataset.iloc[:20000]"
   ]
  },
  {
   "cell_type": "code",
   "execution_count": 14,
   "id": "c66770b2",
   "metadata": {},
   "outputs": [],
   "source": [
    "keras_dataset_short = tf.data.Dataset.from_tensor_slices((dataset_short))"
   ]
  },
  {
   "cell_type": "markdown",
   "id": "088bdb1f",
   "metadata": {},
   "source": [
    "# Do train_dataset"
   ]
  },
  {
   "cell_type": "code",
   "execution_count": null,
   "id": "5629a0c9",
   "metadata": {},
   "outputs": [],
   "source": [
    "'''\n",
    "Разобью датасет на 90% трейна и 10% валида\n",
    "'''"
   ]
  },
  {
   "cell_type": "code",
   "execution_count": 15,
   "id": "f5ae6952",
   "metadata": {},
   "outputs": [],
   "source": [
    "n = int(0.9 * len(dataset))  \n",
    "train_examples = dataset[:n]\n",
    "val_examples = dataset[n:]"
   ]
  },
  {
   "cell_type": "code",
   "execution_count": 16,
   "id": "5c6f805d",
   "metadata": {},
   "outputs": [],
   "source": [
    "n = int(0.9 * len(dataset_short))  \n",
    "train_examples_short = dataset_short[:n]\n",
    "val_examples_short = dataset_short[n:]"
   ]
  },
  {
   "cell_type": "code",
   "execution_count": 17,
   "id": "1776a9d1",
   "metadata": {},
   "outputs": [
    {
     "data": {
      "text/plain": [
       "description\n",
       "<class 'str'>    106793\n",
       "Name: count, dtype: int64"
      ]
     },
     "execution_count": 17,
     "metadata": {},
     "output_type": "execute_result"
    }
   ],
   "source": [
    "dataset.description.apply(type).value_counts()"
   ]
  },
  {
   "cell_type": "code",
   "execution_count": 18,
   "id": "4513f6a7",
   "metadata": {},
   "outputs": [],
   "source": [
    "train_examples = tf.data.Dataset.from_tensor_slices((train_examples))\n",
    "val_examples = tf.data.Dataset.from_tensor_slices((val_examples))"
   ]
  },
  {
   "cell_type": "code",
   "execution_count": 19,
   "id": "9c2df3fd",
   "metadata": {},
   "outputs": [],
   "source": [
    "train_examples_short = tf.data.Dataset.from_tensor_slices((train_examples_short))\n",
    "val_examples_short = tf.data.Dataset.from_tensor_slices((val_examples_short))"
   ]
  },
  {
   "cell_type": "markdown",
   "id": "83f84a98",
   "metadata": {},
   "source": [
    "# Subword tokenizer"
   ]
  },
  {
   "cell_type": "code",
   "execution_count": null,
   "id": "b341055f",
   "metadata": {},
   "outputs": [],
   "source": [
    "'''\n",
    "Загружу и проверю токейнайзер.\n",
    "В ноутбуке остались закомментированными строки, которые позволяют откатиться к версии с этим токенизатором. \n",
    "'''"
   ]
  },
  {
   "cell_type": "code",
   "execution_count": 39,
   "id": "e78663b5",
   "metadata": {},
   "outputs": [
    {
     "data": {
      "text/plain": [
       "7653"
      ]
     },
     "execution_count": 39,
     "metadata": {},
     "output_type": "execute_result"
    }
   ],
   "source": [
    "model_name = 'ru_tokenizer'\n",
    "tokenizers = tf.saved_model.load(model_name)\n",
    "tokenizers.ru.get_vocab_size().numpy()"
   ]
  },
  {
   "cell_type": "code",
   "execution_count": 40,
   "id": "7833ec14",
   "metadata": {},
   "outputs": [],
   "source": [
    "vocab_size = tokenizers.ru.get_vocab_size().numpy()"
   ]
  },
  {
   "cell_type": "code",
   "execution_count": 41,
   "id": "b1c35302",
   "metadata": {},
   "outputs": [
    {
     "data": {
      "text/plain": [
       "['detokenize',\n",
       " 'get_reserved_tokens',\n",
       " 'get_vocab_path',\n",
       " 'get_vocab_size',\n",
       " 'lookup',\n",
       " 'tokenize',\n",
       " 'tokenizer',\n",
       " 'vocab']"
      ]
     },
     "execution_count": 41,
     "metadata": {},
     "output_type": "execute_result"
    }
   ],
   "source": [
    "[item for item in dir(tokenizers.ru) if not item.startswith('_')]"
   ]
  },
  {
   "cell_type": "code",
   "execution_count": 42,
   "id": "3e8db372",
   "metadata": {},
   "outputs": [
    {
     "name": "stdout",
     "output_type": "stream",
     "text": [
      "> This is a batch of strings:\n",
      "множество творений дивных и странных оставалось еще в мире но немало было и лихого жуткого орки тролли драконы и хищные твари в лесах бродили неведомые и мудрые создания гномы трудились в горах терпеливым искусством творя из металла и камня вещи которым не было равных но близилось владычество людей и все менялось вороток на баллисте никак не хотел отпустить тетиву беатор в отчаянии ковырял его ножом впрочем безо всякого успеха эльф опустошил половину колчана и ни разу не промахнулся но его стрелы одна за другой отскакивали от гоблинских доспехов кое что кажется застряло во вражьей шкуре но что им исчадью ангмара эльфийские стрелы не страшнее шильных тычков заговоренные что ли с суеверным ужасом бормочет кэбидж свинцовые шарики из его пращи отлетают от громадин гоблинов не причиняя им ни малейшего вреда жуть какая гоблины переростки они же не бывают такими здоровыми просто не бывают никогда никогда \n",
      " агдалон мы все ждем тебя сейчас капитан сейчас сейчас в сырую погоду магический посох не работает один из гоблинов на равных рубился с дунаданом торном оба рослые медлительные и могучие обрабатывали друг друга точь в точь два добрых кузнеца лупящих по наковальне те тень бам те тень бам те тень бам кто кого возьмет измором данно акайн черноволосый красавчик получил удар гоблинским кулаком в грудь и был бы кулак голым полбеды а то ведь на нем перчатка с медными нашивками лежит арнорец в кустах стонет подняться пробует и толку от него ровным счетом никакого толк если и есть то исключительно от двух бойцов сам капитан хаддар молча отбивается от второго гоблина раза в два выше его ростом и раза в полтора шире щит его расколот левая рука висит плетью из предплечья хлещет кровь дела капитана совсем нехороши \n",
      " смерть глядит ему в самые очи и ухмыляется гном табарин отчаянно сквернословя рассерженным петушком наскакивает на третьего гоблина агдалон сейчас во от громкий шип и от верхушки его посоха отрывается легкое облачко пара по обличию своему пар этот кровная родня банному третий гоблин ловким ударом сбивает с табарина шлем но тот ничуть не замедляет бешеных наскоков наконец беатор призвав илуватара и все его небесное воинство на помощь бьет деревянным молотком по непослушному воротку тот разлетается на части содрогается станина баллисты и с верхнего самострела сходит тяжелое метательное копье зато на нижнем заедает пусковой крюк копье летит кажется прямо в лоб гоблину сражающемуся с хаддаром но потом оно попадает почему то совсем не в лоб а в огромное гоблинское ухо \n"
     ]
    }
   ],
   "source": [
    "print('> This is a batch of strings:')\n",
    "for ru_ex in keras_dataset.batch(3).take(1):\n",
    "  for ru in ru_ex.numpy():\n",
    "    for i in ru:\n",
    "      print(i.decode('utf-8'))"
   ]
  },
  {
   "cell_type": "code",
   "execution_count": 43,
   "id": "c86989db",
   "metadata": {},
   "outputs": [
    {
     "name": "stdout",
     "output_type": "stream",
     "text": [
      "> This is a padded-batch of token IDs:\n"
     ]
    },
    {
     "name": "stderr",
     "output_type": "stream",
     "text": [
      "2024-03-21 22:41:31.515184: W tensorflow/core/grappler/optimizers/loop_optimizer.cc:933] Skipping loop optimization for Merge node with control input: StatefulPartitionedCall/RaggedFromUniformRowLength/RowPartitionFromUniformRowLength/assert_greater_equal/Assert/AssertGuard/branch_executed/_113\n"
     ]
    },
    {
     "name": "stdout",
     "output_type": "stream",
     "text": [
      "[1503, 26, 773, 2272, 332, 13, 600, 167, 17, 6850, 1192, 70, 11, 746, 45, 1780, 64, 17, 116, 6978, 114, 15, 656, 2006, 726, 3280, 4325, 17, 29, 5478, 150, 2467, 11, 4924, 10, 4543, 393, 40, 1165, 1753, 277, 17, 20, 3950, 4021, 4964, 561, 26, 4921, 504, 11, 2199, 3340, 3441, 2723, 6467, 58, 26, 773, 2362, 51, 5072, 17, 1083, 1346, 948, 40, 64, 24, 2492, 167, 45, 10, 139, 5264, 11, 7132, 77, 1515, 280, 17, 52, 86, 1394, 1062, 197, 41, 6754, 3819, 3985, 53, 957, 40, 347, 60, 1907, 348, 6197, 62, 10, 53, 1745, 554, 11, 3878, 702, 839, 2362, 124, 48, 4712, 620, 170, 75, 3443, 27, 6523, 44, 672, 22, 1556, 5463, 2175, 4535, 702, 124, 625, 149, 17, 85, 2427, 40, 569, 4310, 45, 48, 1214, 416, 57, 357, 60, 1639, 6079, 60, 12, 5579, 1356, 455, 87, 6523, 93, 482, 42, 498, 57, 7103, 2936, 130, 11, 270, 6948, 46, 32, 179, 627, 45, 42, 138, 17, 199, 625, 1961, 106, 5133, 330, 4986, 3035, 1214, 40, 25, 3492, 3565, 32, 2638, 167, 54, 6327, 57, 3643, 1269, 42, 116, 25, 25, 62, 686, 724, 161, 4929, 5335, 4146, 75, 1493, 18, 615, 2527, 251, 1278, 25, 4531, 2000, 277, 4656, 1559, 51, 48, 23, 270, 2128, 60, 7025, 372, 60, 6058, 2733, 339, 12, 5579, 1356, 93, 40, 7498, 1473, 138, 85, 6276, 6112, 15, 1988, 617, 12, 5579, 3322, 23, 724, 3766, 1148, 115, 55, 65, 40, 6220, 2043, 16, 2724, 5462, 169, 40, 6220, 219, 219]\n",
      "[9, 330, 911, 541, 73, 52, 15, 2325, 103, 142, 1719, 142, 142, 11, 25, 77, 3971, 56, 114, 588, 6245, 2548, 2446, 40, 2658, 173, 140, 51, 12, 5579, 1356, 93, 41, 24, 2492, 167, 24, 6752, 386, 25, 13, 2256, 6646, 371, 3125, 371, 935, 24, 3273, 1677, 20, 3887, 3439, 6077, 17, 321, 1520, 214, 270, 858, 7197, 46, 316, 527, 49, 766, 11, 49, 766, 319, 6984, 4326, 44, 19, 62, 557, 2091, 56, 41, 6097, 146, 267, 348, 775, 6754, 58, 348, 775, 6754, 58, 348, 775, 6754, 58, 95, 344, 130, 5266, 3440, 51, 1494, 1242, 91, 1115, 9, 6372, 104, 31, 3598, 5459, 18, 270, 419, 177, 1792, 1656, 929, 12, 5579, 1356, 1106, 4662, 11, 1538, 17, 74, 66, 4772, 12, 1276, 301, 1061, 1541, 857, 9, 49, 185, 41, 366, 23, 724, 2665, 132, 25, 20, 3887, 326, 769, 4945, 83, 2182, 5304, 4791, 556, 11, 18, 6927, 290, 2361, 575, 2745, 569, 1234, 173, 17, 3011, 60, 98, 24, 5749, 4008, 67, 1104, 7469, 159, 71, 17, 143, 49, 5754, 60, 610, 6575, 193, 1719, 2754, 251, 4982, 684, 60, 5283, 1325, 60, 3787, 12, 5579, 3377, 2980, 11, 319, 958, 48, 3642, 17, 2980, 11, 1061, 4802, 3367, 3379, 48, 24, 2913, 492, 2755, 19, 4307, 802, 11, 2155, 237, 23, 1332, 827, 51, 23, 1919, 557, 598, 1965, 29, 598, 681, 101, 623, 693, 7212, 243, 40, 6978, 1472, 1041]\n",
      "[797, 7567, 101, 84, 11, 1424, 22, 674, 17, 27, 80, 1440, 4282, 535, 597, 5474, 339, 2332, 25, 159, 5825, 199, 2302, 92, 24, 2913, 1195, 155, 2786, 23, 173, 62, 4575, 127, 132, 115, 959, 41, 7057, 12, 5579, 3377, 9, 330, 911, 541, 142, 130, 60, 6058, 722, 32, 6834, 17, 60, 11, 7023, 2441, 48, 2446, 44, 60, 6052, 547, 777, 53, 214, 135, 2810, 1962, 56, 214, 139, 674, 106, 1048, 874, 145, 18, 1051, 191, 4402, 655, 6754, 5026, 1790, 12, 5579, 1356, 19, 7289, 58, 3809, 25, 5283, 520, 25, 597, 5474, 634, 3390, 45, 181, 3371, 40, 57, 1498, 251, 2094, 10, 53, 4671, 80, 127, 492, 418, 228, 10, 53, 1745, 554, 229, 515, 3050, 6846, 17, 52, 48, 1906, 5899, 1288, 420, 41, 907, 10, 862, 101, 2854, 5532, 3603, 161, 3258, 1443, 281, 56, 40, 3733, 199, 918, 1990, 294, 1062, 179, 181, 121, 7025, 547, 41, 1741, 129, 251, 1472, 6900, 25, 2591, 634, 6754, 3819, 3985, 77, 17, 25, 11, 7023, 1492, 2300, 7103, 808, 25, 2559, 7279, 20, 6501, 1769, 53, 2069, 1663, 41, 85, 1278, 953, 57, 3120, 173, 23, 4284, 418, 148, 18, 3587, 159, 2069, 383, 237, 498, 345, 11, 2405, 12, 5579, 5783, 25, 270, 1334, 2965, 294, 63, 25, 2754, 251, 4982, 67, 45, 119, 287, 56, 6128, 184, 49, 243, 40, 11, 2405, 9, 11, 4073, 12, 5579, 1356, 1371, 3104]\n"
     ]
    }
   ],
   "source": [
    "print('> This is a padded-batch of token IDs:')\n",
    "encoded = tokenizers.ru.tokenize(ru_ex)\n",
    "for row in encoded.to_list():\n",
    "  print(row)\n",
    "round_trip = tokenizers.ru.detokenize(encoded)"
   ]
  },
  {
   "cell_type": "code",
   "execution_count": 45,
   "id": "eed98031",
   "metadata": {},
   "outputs": [],
   "source": [
    "def decode_string(ints):\n",
    "  strs = [chr(i) for i in ints]\n",
    "  joined = [''.join(strs)]\n",
    "  return joined"
   ]
  },
  {
   "cell_type": "code",
   "execution_count": 46,
   "id": "6780248f",
   "metadata": {},
   "outputs": [
    {
     "name": "stdout",
     "output_type": "stream",
     "text": [
      "> This is the text split into tokens:\n",
      "[['множество т ##во ##рен ##ии д ##ив ##ных и странных оставалось еще в мире но немало было и ли ##хо ##го ж ##ут ##кого орки тролли драконы и х ##ищ ##ные твари в лесах б ##род ##или не ##ве ##дом ##ые и м ##уд ##рые создания гномы т ##руд ##ились в горах тер ##пели ##вым искусство ##м т ##во ##ря из металла и камня вещи которым не было р ##ав ##ных но б ##ли ##зилось в ##лад ##ы ##чество людеи и все меня ##лось ворот ##ок на ба ##лл ##ист ##е никак не хотел от ##пустить те ##тив ##у б ##е ##ат ##ор в отчаянии ко ##вы ##ря ##л его ножом впрочем без ##о всякого у ##спех ##а эльф о ##пу ##сто ##шил половину ко ##л ##ча ##на и ни разу не про ##махнулся но его стрелы одна за другои от ##ска ##кивали от г ##об ##лин ##ских до ##спех ##ов кое что кажется за ##стр ##яло во в ##ра ##жье ##и ш ##ку ##ре но что им и ##с ##ча ##дь ##ю ан ##г ##мара эльфииские стрелы не с ##тра ##шнее ш ##иль ##ных ты ##чков за ##говор ##енные что ли с с ##у ##ев ##ер ##ным ужасом бо ##рм ##о ##чет к ##э ##би ##д ##ж с ##вин ##цов ##ые шар ##ики из его п ##ра ##щи от ##лета ##ют от гром ##ад ##ин г ##об ##лин ##ов не причин ##яя им ни малеишего вреда ж ##уть какая г ##об ##лины п ##ер ##еро ##ст ##ки они же не бывают такими з ##дор ##овыми просто не бывают никогда никогда'], ['а ##г ##дал ##он мы все ж ##дем тебя сеичас капитан сеичас сеичас в с ##ы ##рую по ##го ##ду маги ##ческии посох не работа ##ет один из г ##об ##лин ##ов на р ##ав ##ных р ##уб ##ился с д ##ун ##ада ##ном тор ##ном оба р ##ос ##лые м ##ед ##лит ##ельные и могу ##чие об ##ра ##ба ##тывал ##и друг друга то ##чь в то ##чь два добрых кузнец ##а л ##у ##п ##ящих по на ##ковал ##ь ##не те тень ба ##м те тень ба ##м те тень ба ##м кто кого во ##зь ##мет из ##мо ##ром да ##нно а ##каи ##н ч ##ерно ##волосыи к ##ра ##са ##в ##чик получил удар г ##об ##лин ##ским кулаком в грудь и был бы кулак г ##ол ##ым пол ##бе ##ды а то ведь на нем п ##ер ##чат ##ка с м ##ед ##ными наши ##вка ##ми лежит ар ##нор ##ец в к ##уст ##ах сто ##нет подняться про ##бу ##ет и толку от него р ##овным счет ##ом никакого тол ##к если и есть то исключительно от двух боицов сам капитан ха ##д ##дар молча от ##бив ##ается от второго г ##об ##лина раза в два выше его ростом и раза в пол ##тора шире щит его р ##ас ##ко ##лот л ##евая рука в ##ис ##ит п ##лет ##ью из п ##ред ##п ##ле ##чья х ##ле ##ще ##т кровь дела капитана совсем не ##хо ##ро ##ши'], ['смерть гляди ##т ему в самые о ##чи и у ##х ##мы ##ляется гном та ##бар ##ин отчаянно с ##к ##верно ##с ##лов ##я р ##ас ##се ##р ##женным п ##ет ##у ##шком нас ##ка ##ки ##вает на третьего г ##об ##лина а ##г ##дал ##он сеичас во от гром ##кии ш ##ип и от в ##ерх ##ушки его посох ##а от ##рыва ##ется легко ##е об ##ла ##чко пара по об ##ли ##чи ##ю своему пар этот к ##ров ##ная род ##ня ба ##нному третии г ##об ##лин л ##овки ##м ударом с ##бив ##ает с та ##бар ##ина шлем но тот ничуть не за ##ме ##д ##ляет б ##е ##шены ##х нас ##ко ##ков наконец б ##е ##ат ##ор при ##з ##вав илуватара и все его небе ##сное воин ##ство на помощь б ##ье ##т де ##рев ##ян ##ным мол ##от ##ком по не ##по ##с ##лу ##шно ##му ворот ##ку тот раз ##лета ##ется на части со ##д ##ро ##гается с ##тан ##ина ба ##лл ##ист ##ы и с в ##ерх ##него само ##стр ##ела с ##ходит тяжелое м ##ета ##тельно ##е копье зато на ни ##ж ##нем за ##еда ##ет п ##ус ##ков ##ои к ##рю ##к копье лет ##ит кажется прямо в лоб г ##об ##лину с ##ра ##жа ##юще ##му ##ся с ха ##д ##дар ##ом но потом оно по ##падает почему то совсем не в лоб а в огромное г ##об ##лин ##ское ухо']]\n"
     ]
    }
   ],
   "source": [
    "print('> This is the text split into tokens:')\n",
    "tokens = tokenizers.ru.lookup(encoded)\n",
    "joined_txt = tf.strings.reduce_join(tokens, separator=' ', axis=-1)\n",
    "\n",
    "decoded_list = [decode_string(ex) for ex in tf.strings.unicode_decode(joined_txt, 'utf-8').numpy()]\n",
    "print(decoded_list)"
   ]
  },
  {
   "cell_type": "markdown",
   "id": "742533c0",
   "metadata": {},
   "source": [
    "# Keras vectorization"
   ]
  },
  {
   "cell_type": "code",
   "execution_count": 33,
   "id": "bc4f8195",
   "metadata": {},
   "outputs": [],
   "source": [
    "vectorize_layer = tf.keras.layers.TextVectorization(\n",
    "        max_tokens=30000)\n",
    "vectorize_layer.adapt(keras_dataset_short, batch_size=None)"
   ]
  },
  {
   "cell_type": "code",
   "execution_count": 34,
   "id": "e89a3947",
   "metadata": {},
   "outputs": [],
   "source": [
    "vocabulary_keras = vectorize_layer.get_vocabulary()"
   ]
  },
  {
   "cell_type": "code",
   "execution_count": 35,
   "id": "6abcbd3d",
   "metadata": {},
   "outputs": [],
   "source": [
    "keras_vocab_size = len(vocabulary_keras)"
   ]
  },
  {
   "cell_type": "markdown",
   "id": "b0167f7f",
   "metadata": {},
   "source": [
    "# Make batches\n"
   ]
  },
  {
   "cell_type": "code",
   "execution_count": null,
   "id": "dd035b68",
   "metadata": {},
   "outputs": [],
   "source": [
    "BUFFER_SIZE = 20000\n",
    "BATCH_SIZE = 8\n",
    "sequence_length = 2000"
   ]
  },
  {
   "cell_type": "code",
   "execution_count": 22,
   "id": "581164e8",
   "metadata": {},
   "outputs": [],
   "source": [
    "MAX_TOKENS=sequence_length\n",
    "\n",
    "def prepare_batch(txt, vectorize='krs'):\n",
    "    if vectorize == 'krs':\n",
    "        txt_tokenized = vectorize_layer(txt)\n",
    "    else:\n",
    "        txt_tokenized = tokenizers.ru.tokenize(txt)     \n",
    "        txt_tokenized = txt_tokenized.to_tensor()\n",
    "\n",
    "    x = txt_tokenized[:, :-1]\n",
    "    y = txt_tokenized[:, 1:]\n",
    "    \n",
    "    # ru = ru[:, :MAX_TOKENS]    # Trim to MAX_TOKENS. (так как я заранее разбила тексты на фрагменты до 2к символов, в повторе нет необходимости)\n",
    "  \n",
    "    return x, y"
   ]
  },
  {
   "cell_type": "code",
   "execution_count": 23,
   "id": "b899c61d",
   "metadata": {},
   "outputs": [],
   "source": [
    "def make_batches(ds):\n",
    "  return (\n",
    "      ds\n",
    "      .shuffle(BUFFER_SIZE)\n",
    "      .batch(BATCH_SIZE)\n",
    "      .map(prepare_batch, tf.data.AUTOTUNE)\n",
    "      .prefetch(buffer_size=tf.data.AUTOTUNE))"
   ]
  },
  {
   "cell_type": "code",
   "execution_count": 36,
   "id": "0d53d710",
   "metadata": {},
   "outputs": [],
   "source": [
    "train_batches = make_batches(train_examples)\n",
    "val_batches = make_batches(val_examples)"
   ]
  },
  {
   "cell_type": "code",
   "execution_count": 37,
   "id": "bddc8978",
   "metadata": {},
   "outputs": [],
   "source": [
    "train_batches_short = make_batches(train_examples_short)\n",
    "val_batches_short = make_batches(val_examples_short)"
   ]
  },
  {
   "cell_type": "code",
   "execution_count": 38,
   "id": "306ab777",
   "metadata": {},
   "outputs": [
    {
     "name": "stdout",
     "output_type": "stream",
     "text": [
      "(8, 154)\n",
      "(8, 154)\n"
     ]
    }
   ],
   "source": [
    "for X_train, y_train in train_batches.take(1):\n",
    "    break\n",
    "print(X_train.shape)\n",
    "print(y_train.shape)"
   ]
  },
  {
   "cell_type": "markdown",
   "id": "fdb76382",
   "metadata": {},
   "source": [
    "# Pos Embedding"
   ]
  },
  {
   "cell_type": "code",
   "execution_count": 48,
   "id": "0b3f41f4",
   "metadata": {},
   "outputs": [],
   "source": [
    "def positional_encoding(length, depth):\n",
    "  depth = depth/2\n",
    "\n",
    "  positions = np.arange(length)[:, np.newaxis]     # (seq, 1)\n",
    "  depths = np.arange(depth)[np.newaxis, :]/depth   # (1, depth)\n",
    "\n",
    "  angle_rates = 1 / (10000**depths)         # (1, depth)\n",
    "  angle_rads = positions * angle_rates      # (pos, depth)\n",
    "\n",
    "  pos_encoding = np.concatenate(\n",
    "      [np.sin(angle_rads), np.cos(angle_rads)],\n",
    "      axis=-1) \n",
    "\n",
    "  return tf.cast(pos_encoding, dtype=tf.float32)"
   ]
  },
  {
   "cell_type": "code",
   "execution_count": 49,
   "id": "408cdacb",
   "metadata": {},
   "outputs": [],
   "source": [
    "class PositionalEmbedding(tf.keras.layers.Layer):\n",
    "  def __init__(self, vocab_size, d_model):\n",
    "    super().__init__()\n",
    "    self.d_model = d_model\n",
    "    self.embedding = tf.keras.layers.Embedding(vocab_size, d_model, mask_zero=True) \n",
    "    self.pos_encoding = positional_encoding(length=2048, depth=d_model)\n",
    "\n",
    "  def compute_mask(self, *args, **kwargs):\n",
    "    return self.embedding.compute_mask(*args, **kwargs)\n",
    "\n",
    "  def call(self, x):\n",
    "    length = tf.shape(x)[1]\n",
    "    x = self.embedding(x)\n",
    "    # This factor sets the relative scale of the embedding and positonal_encoding.\n",
    "    x *= tf.math.sqrt(tf.cast(self.d_model, tf.float32))\n",
    "    x = x + self.pos_encoding[tf.newaxis, :length, :]\n",
    "    return x"
   ]
  },
  {
   "cell_type": "markdown",
   "id": "c5943cd8",
   "metadata": {},
   "source": [
    "# Attention Layers"
   ]
  },
  {
   "cell_type": "code",
   "execution_count": 50,
   "id": "e6ce73ce",
   "metadata": {},
   "outputs": [],
   "source": [
    "class BaseAttention(tf.keras.layers.Layer):\n",
    "  def __init__(self, **kwargs):\n",
    "    super().__init__()\n",
    "    self.mha = tf.keras.layers.MultiHeadAttention(**kwargs)\n",
    "    self.layernorm = tf.keras.layers.LayerNormalization()\n",
    "    self.add = tf.keras.layers.Add()"
   ]
  },
  {
   "attachments": {
    "image.png": {
     "image/png": "[encoded data removed]"
    }
   },
   "cell_type": "markdown",
   "id": "0da8dfdb",
   "metadata": {},
   "source": [
    "![image.png](attachment:image.png)"
   ]
  },
  {
   "cell_type": "code",
   "execution_count": 51,
   "id": "6180c459",
   "metadata": {},
   "outputs": [],
   "source": [
    "class CausalSelfAttention(BaseAttention):\n",
    "  def call(self, x):\n",
    "    attn_output, attn_scores = self.mha(\n",
    "        query=x,\n",
    "        value=x,\n",
    "        key=x,\n",
    "        return_attention_scores=True,\n",
    "        use_causal_mask = True)\n",
    "    self.last_attn_scores = attn_scores\n",
    "    x = self.add([x, attn_output])\n",
    "    x = self.layernorm(x)\n",
    "    return x"
   ]
  },
  {
   "attachments": {
    "image.png": {
     "image/png": "[encoded data removed]"
    }
   },
   "cell_type": "markdown",
   "id": "cc4f135b",
   "metadata": {},
   "source": [
    "![image.png](attachment:image.png)"
   ]
  },
  {
   "cell_type": "code",
   "execution_count": 52,
   "id": "5c9c4da5",
   "metadata": {},
   "outputs": [],
   "source": [
    "for x_batch, y_batch in train_batches.take(1):\n",
    "    break"
   ]
  },
  {
   "cell_type": "code",
   "execution_count": 53,
   "id": "dd8852bf",
   "metadata": {},
   "outputs": [],
   "source": [
    "x_batch_emb = PositionalEmbedding(vocab_size=vocab_size, d_model=512)\n",
    "x_batch_emb = x_batch_emb(x_batch)"
   ]
  },
  {
   "cell_type": "code",
   "execution_count": 54,
   "id": "94a89859",
   "metadata": {},
   "outputs": [
    {
     "name": "stdout",
     "output_type": "stream",
     "text": [
      "(8, 218, 512)\n",
      "(8, 218, 512)\n"
     ]
    },
    {
     "name": "stderr",
     "output_type": "stream",
     "text": [
      "2024-03-21 22:41:40.388854: I external/local_xla/xla/stream_executor/cuda/cuda_dnn.cc:454] Loaded cuDNN version 8904\n"
     ]
    }
   ],
   "source": [
    "sample_csa = CausalSelfAttention(num_heads=2, key_dim=512)\n",
    "\n",
    "print(x_batch_emb.shape)\n",
    "print(sample_csa(x_batch_emb).shape)"
   ]
  },
  {
   "cell_type": "markdown",
   "id": "6a19041b",
   "metadata": {},
   "source": [
    "# FeedForward"
   ]
  },
  {
   "cell_type": "code",
   "execution_count": 55,
   "id": "3cf00f72",
   "metadata": {},
   "outputs": [],
   "source": [
    "class FeedForward(tf.keras.layers.Layer):\n",
    "  def __init__(self, d_model, dff, dropout_rate=0.1):\n",
    "    super().__init__()\n",
    "    self.seq = tf.keras.Sequential([\n",
    "      tf.keras.layers.Dense(dff, activation='relu'),\n",
    "      tf.keras.layers.Dense(d_model),\n",
    "      tf.keras.layers.Dropout(dropout_rate)\n",
    "    ])\n",
    "    self.add = tf.keras.layers.Add()\n",
    "    self.layer_norm = tf.keras.layers.LayerNormalization()\n",
    "\n",
    "  def call(self, x):\n",
    "    x = self.add([x, self.seq(x)])\n",
    "    x = self.layer_norm(x) \n",
    "    return x"
   ]
  },
  {
   "attachments": {
    "image.png": {
     "image/png": "[encoded data removed]"
    }
   },
   "cell_type": "markdown",
   "id": "24e01d59",
   "metadata": {},
   "source": [
    "![image.png](attachment:image.png)"
   ]
  },
  {
   "cell_type": "markdown",
   "id": "b1566a3e",
   "metadata": {},
   "source": [
    "# Decoder"
   ]
  },
  {
   "cell_type": "code",
   "execution_count": 56,
   "id": "fb9a525b",
   "metadata": {},
   "outputs": [],
   "source": [
    "class DecoderLayer(tf.keras.layers.Layer):\n",
    "  def __init__(self,\n",
    "               *,\n",
    "               d_model,\n",
    "               num_heads,\n",
    "               dff,\n",
    "               dropout_rate=0.1):\n",
    "    super(DecoderLayer, self).__init__()\n",
    "\n",
    "    self.causal_self_attention = CausalSelfAttention(\n",
    "        num_heads=num_heads,\n",
    "        key_dim=d_model,\n",
    "        dropout=dropout_rate)\n",
    "\n",
    "    # self.cross_attention = CrossAttention(\n",
    "    #     num_heads=num_heads,\n",
    "    #     key_dim=d_model,\n",
    "    #     dropout=dropout_rate)\n",
    "\n",
    "    self.ffn = FeedForward(d_model, dff)\n",
    "\n",
    "  def call(self, x):\n",
    "    x = self.causal_self_attention(x=x)\n",
    "    # x = self.cross_attention(x=x)\n",
    "\n",
    "    # Сохранение метрик для графика\n",
    "    self.last_attn_scores = self.causal_self_attention.last_attn_scores\n",
    "\n",
    "    x = self.ffn(x)  # Shape `(batch_size, seq_len, d_model)`.\n",
    "    return x"
   ]
  },
  {
   "cell_type": "code",
   "execution_count": 57,
   "id": "54525e1c",
   "metadata": {},
   "outputs": [],
   "source": [
    "class Decoder(tf.keras.layers.Layer):\n",
    "  def __init__(self, *, num_layers, d_model, num_heads, dff, vocab_size,\n",
    "               dropout_rate=0.1):\n",
    "    super(Decoder, self).__init__()\n",
    "\n",
    "    self.d_model = d_model\n",
    "    self.num_layers = num_layers\n",
    "\n",
    "    self.pos_embedding = PositionalEmbedding(vocab_size=vocab_size,\n",
    "                                             d_model=d_model)\n",
    "    self.dropout = tf.keras.layers.Dropout(dropout_rate)\n",
    "    self.dec_layers = [\n",
    "        DecoderLayer(d_model=d_model, num_heads=num_heads,\n",
    "                     dff=dff, dropout_rate=dropout_rate)\n",
    "        for _ in range(num_layers)\n",
    "        ]\n",
    "\n",
    "    self.last_attn_scores = None\n",
    "\n",
    "  def call(self, x):\n",
    "    # `x` is token-IDs shape (batch, target_seq_len)\n",
    "    x = self.pos_embedding(x)  # (batch_size, target_seq_len, d_model)\n",
    "\n",
    "    x = self.dropout(x)\n",
    "\n",
    "    for i in range(self.num_layers):\n",
    "      x  = self.dec_layers[i](x)\n",
    "\n",
    "    self.last_attn_scores = self.dec_layers[-1].last_attn_scores\n",
    "\n",
    "    # The shape of x is (batch_size, target_seq_len, d_model).\n",
    "    return x"
   ]
  },
  {
   "cell_type": "code",
   "execution_count": 58,
   "id": "59d9d78c",
   "metadata": {},
   "outputs": [
    {
     "name": "stdout",
     "output_type": "stream",
     "text": [
      "(8, 218)\n",
      "(8, 218, 512)\n",
      "(8, 218, 512)\n"
     ]
    }
   ],
   "source": [
    "sample_decoder = Decoder(\n",
    "    num_layers=4, d_model=512, num_heads=8, dff=2048, vocab_size=8000\n",
    ")\n",
    "\n",
    "output = sample_decoder(x=x_batch)\n",
    "\n",
    "print(x_batch.shape)\n",
    "print(x_batch_emb.shape)\n",
    "print(output.shape)"
   ]
  },
  {
   "cell_type": "markdown",
   "id": "8a723e00",
   "metadata": {},
   "source": [
    "# Transformer"
   ]
  },
  {
   "cell_type": "code",
   "execution_count": 59,
   "id": "ae5436c1",
   "metadata": {},
   "outputs": [],
   "source": [
    "class Transformer(tf.keras.Model):\n",
    "  def __init__(self, *, num_layers, d_model, num_heads, dff,\n",
    "               vocab_size, \n",
    "               dropout_rate=0.1): \n",
    "    super().__init__()\n",
    "    # self.encoder = Encoder(num_layers=num_layers, d_model=d_model,\n",
    "    #                        num_heads=num_heads, dff=dff,\n",
    "    #                        vocab_size=vocab_size,\n",
    "    #                        dropout_rate=dropout_rate)\n",
    "\n",
    "    self.decoder = Decoder(num_layers=num_layers, d_model=d_model,\n",
    "                           num_heads=num_heads, dff=dff,\n",
    "                           vocab_size=vocab_size, \n",
    "                           dropout_rate=dropout_rate)\n",
    "\n",
    "    self.final_layer = tf.keras.layers.Dense(vocab_size) \n",
    "\n",
    "  def call(self, inputs):\n",
    "\n",
    "    x  = inputs\n",
    "\n",
    "    x = self.decoder(x)  # (batch_size, target_len, d_model)\n",
    "\n",
    "    logits = self.final_layer(x)  # (batch_size, target_len, target_vocab_size)\n",
    "\n",
    "    try:\n",
    "      del logits._keras_mask\n",
    "    except AttributeError:\n",
    "      pass\n",
    "\n",
    "    return logits"
   ]
  },
  {
   "cell_type": "markdown",
   "id": "0606aca0",
   "metadata": {},
   "source": [
    "# ..."
   ]
  },
  {
   "cell_type": "code",
   "execution_count": 60,
   "id": "2656177a",
   "metadata": {},
   "outputs": [],
   "source": [
    "class CustomSchedule(tf.keras.optimizers.schedules.LearningRateSchedule):\n",
    "  def __init__(self, d_model, warmup_steps=4000):\n",
    "    super().__init__()\n",
    "\n",
    "    self.d_model = d_model\n",
    "    self.d_model = tf.cast(self.d_model, tf.float32)\n",
    "\n",
    "    self.warmup_steps = warmup_steps\n",
    "\n",
    "  def __call__(self, step):\n",
    "    step = tf.cast(step, dtype=tf.float32)\n",
    "    arg1 = tf.math.rsqrt(step)\n",
    "    arg2 = step * (self.warmup_steps ** -1.5)\n",
    "\n",
    "    return tf.math.rsqrt(self.d_model) * tf.math.minimum(arg1, arg2)"
   ]
  },
  {
   "cell_type": "code",
   "execution_count": 61,
   "id": "6a7a555e",
   "metadata": {},
   "outputs": [],
   "source": [
    "num_layers = 4\n",
    "d_model = 128 #dimensionality of the embeddings \n",
    "dff = 512 #dimensionality of the FeedForward layer\n",
    "num_heads = 8\n",
    "dropout_rate = 0.1\n",
    "#The base model described in the original Transformer paper used num_layers=6, d_model=512, and dff=2048."
   ]
  },
  {
   "cell_type": "code",
   "execution_count": 62,
   "id": "32fea4dd",
   "metadata": {},
   "outputs": [],
   "source": [
    "learning_rate = CustomSchedule(d_model)\n",
    "\n",
    "optimizer = tf.keras.optimizers.Adam(learning_rate, beta_1=0.9, beta_2=0.98,\n",
    "                                     epsilon=1e-9)"
   ]
  },
  {
   "cell_type": "markdown",
   "id": "62358b4b",
   "metadata": {},
   "source": [
    "# Metrics"
   ]
  },
  {
   "cell_type": "code",
   "execution_count": 63,
   "id": "ab1b4062",
   "metadata": {},
   "outputs": [],
   "source": [
    "def masked_loss(label, pred):\n",
    "  mask = label != 0\n",
    "  loss_object = tf.keras.losses.SparseCategoricalCrossentropy(\n",
    "    from_logits=True, reduction='none')\n",
    "  loss = loss_object(label, pred)\n",
    "\n",
    "  mask = tf.cast(mask, dtype=loss.dtype)\n",
    "  loss *= mask\n",
    "\n",
    "  loss = tf.reduce_sum(loss)/tf.reduce_sum(mask)\n",
    "  return loss\n",
    "\n",
    "\n",
    "def masked_accuracy(label, pred):\n",
    "  pred = tf.argmax(pred, axis=2)\n",
    "  label = tf.cast(label, pred.dtype)\n",
    "  match = label == pred\n",
    "\n",
    "  mask = label != 0\n",
    "\n",
    "  match = match & mask\n",
    "\n",
    "  match = tf.cast(match, dtype=tf.float32)\n",
    "  mask = tf.cast(mask, dtype=tf.float32)\n",
    "  return tf.reduce_sum(match)/tf.reduce_sum(mask)"
   ]
  },
  {
   "cell_type": "code",
   "execution_count": 64,
   "id": "6449f330",
   "metadata": {},
   "outputs": [],
   "source": [
    "transformer = Transformer(\n",
    "    num_layers=num_layers,\n",
    "    d_model=d_model,\n",
    "    num_heads=num_heads,\n",
    "    dff=dff,\n",
    "    vocab_size=keras_vocab_size,\n",
    "    dropout_rate=dropout_rate)"
   ]
  },
  {
   "cell_type": "code",
   "execution_count": 65,
   "id": "76e452bf",
   "metadata": {},
   "outputs": [],
   "source": [
    "transformer.compile(\n",
    "    loss=masked_loss,\n",
    "    optimizer=optimizer,\n",
    "    metrics=[masked_accuracy])"
   ]
  },
  {
   "cell_type": "code",
   "execution_count": 66,
   "id": "08b32af5",
   "metadata": {},
   "outputs": [
    {
     "data": {
      "text/plain": [
       "<tf.Tensor: shape=(8, 218, 30000), dtype=float32, numpy=\n",
       "array([[[-1.39904365e-01,  1.97253302e-01, -1.80641219e-01, ...,\n",
       "          1.55927882e-01, -2.23187000e-01,  6.75293617e-03],\n",
       "        [-1.62697181e-01,  1.75722852e-01, -1.66557789e-01, ...,\n",
       "          1.34681374e-01, -1.60953045e-01, -1.21608805e-02],\n",
       "        [-1.31542265e-01,  2.01404169e-01, -5.77773228e-02, ...,\n",
       "          1.63977802e-01, -1.94728270e-01, -8.05034414e-02],\n",
       "        ...,\n",
       "        [-1.45372048e-01,  3.34725752e-02,  4.16248068e-02, ...,\n",
       "          1.07977659e-01, -1.40173823e-01, -4.00734805e-02],\n",
       "        [-1.34739026e-01,  5.89806214e-03,  2.56850738e-02, ...,\n",
       "          1.03322759e-01, -1.53123841e-01, -3.60805425e-03],\n",
       "        [-1.32831693e-01, -3.85835511e-03,  2.24041082e-02, ...,\n",
       "          8.90066996e-02, -1.82507932e-01,  2.08441075e-02]],\n",
       "\n",
       "       [[-5.55106997e-02,  1.69248253e-01, -8.16773251e-02, ...,\n",
       "          3.46971676e-02, -2.04845801e-01,  2.39243433e-02],\n",
       "        [-2.23167002e-01,  1.91431284e-01, -1.70751959e-01, ...,\n",
       "          6.48073405e-02, -2.49008670e-01,  1.60507318e-02],\n",
       "        [-1.21863924e-01,  1.48129031e-01, -1.01566568e-01, ...,\n",
       "          1.35359362e-01, -1.65598214e-01, -1.58344978e-03],\n",
       "        ...,\n",
       "        [-1.44310772e-01,  3.92323956e-02,  4.19322923e-02, ...,\n",
       "          1.10385858e-01, -1.44816384e-01, -4.51390035e-02],\n",
       "        [-1.34288549e-01,  1.15528619e-02,  2.67909430e-02, ...,\n",
       "          1.08219191e-01, -1.56590909e-01, -8.57546460e-03],\n",
       "        [-1.32527679e-01,  2.08558026e-03,  2.13542152e-02, ...,\n",
       "          9.35087427e-02, -1.85529515e-01,  1.58035252e-02]],\n",
       "\n",
       "       [[-2.87564937e-02,  1.93738312e-01, -1.03993811e-01, ...,\n",
       "          1.55517891e-01, -2.33016193e-01,  2.54434459e-02],\n",
       "        [-9.59024802e-02,  2.22483575e-01, -5.71306311e-02, ...,\n",
       "          1.66527435e-01, -2.24885345e-01,  2.11741552e-02],\n",
       "        [-1.14959516e-01,  1.95815563e-01, -8.03446546e-02, ...,\n",
       "          1.38695136e-01, -1.73784897e-01, -3.04086339e-02],\n",
       "        ...,\n",
       "        [-1.44038960e-01,  3.82084548e-02,  4.18708250e-02, ...,\n",
       "          1.10768721e-01, -1.42740846e-01, -4.37636562e-02],\n",
       "        [-1.33614257e-01,  1.05383210e-02,  2.67803874e-02, ...,\n",
       "          1.07869737e-01, -1.55055299e-01, -7.21473154e-03],\n",
       "        [-1.32054120e-01,  8.90393741e-04,  2.17089374e-02, ...,\n",
       "          9.33870003e-02, -1.84080571e-01,  1.69265084e-02]],\n",
       "\n",
       "       ...,\n",
       "\n",
       "       [[-8.12799856e-02,  1.95776105e-01, -8.84654075e-02, ...,\n",
       "          7.05904886e-02, -2.34515294e-01, -2.08046883e-02],\n",
       "        [-1.32649928e-01,  2.01491117e-01, -1.09873608e-01, ...,\n",
       "          7.55534321e-02, -2.38549799e-01,  4.82512414e-02],\n",
       "        [-1.58881456e-01,  2.30567679e-01, -1.45266756e-01, ...,\n",
       "          1.72720943e-02, -1.93540871e-01, -5.17854467e-02],\n",
       "        ...,\n",
       "        [-1.45003870e-01,  3.74340415e-02,  4.25362326e-02, ...,\n",
       "          1.09121151e-01, -1.42457739e-01, -4.33798619e-02],\n",
       "        [-1.34549022e-01,  9.85304918e-03,  2.69006304e-02, ...,\n",
       "          1.05975740e-01, -1.54754460e-01, -6.85928017e-03],\n",
       "        [-1.32847846e-01,  1.97594461e-04,  2.23358013e-02, ...,\n",
       "          9.14473832e-02, -1.84041142e-01,  1.72626320e-02]],\n",
       "\n",
       "       [[-2.87564937e-02,  1.93738312e-01, -1.03993811e-01, ...,\n",
       "          1.55517891e-01, -2.33016193e-01,  2.54434459e-02],\n",
       "        [-1.26783058e-01,  2.11330697e-01, -7.51505494e-02, ...,\n",
       "          8.32123160e-02, -2.52156347e-01,  1.47979679e-02],\n",
       "        [-1.41275302e-01,  1.40728667e-01, -1.40936032e-01, ...,\n",
       "          8.03622380e-02, -1.45542249e-01,  2.53626872e-02],\n",
       "        ...,\n",
       "        [-1.46045879e-01,  3.40796597e-02,  4.16756757e-02, ...,\n",
       "          1.07689939e-01, -1.40926227e-01, -4.05767635e-02],\n",
       "        [-1.35621682e-01,  6.75699208e-03,  2.59126797e-02, ...,\n",
       "          1.03492372e-01, -1.53849289e-01, -4.05640248e-03],\n",
       "        [-1.34040222e-01, -3.16161057e-03,  2.24050432e-02, ...,\n",
       "          8.90626460e-02, -1.82853475e-01,  2.02564355e-02]],\n",
       "\n",
       "       [[-1.54433772e-01,  2.10999295e-01, -7.67503083e-02, ...,\n",
       "          6.48202002e-02, -2.82168418e-01,  8.75010788e-02],\n",
       "        [-1.64079443e-01,  2.33491823e-01, -1.01982877e-01, ...,\n",
       "          4.96793725e-02, -1.81082204e-01,  4.65899929e-02],\n",
       "        [-1.96894825e-01,  2.17303485e-01, -1.78225800e-01, ...,\n",
       "          1.64921954e-01, -1.49176434e-01, -6.75156862e-02],\n",
       "        ...,\n",
       "        [-1.43394768e-01,  4.01856191e-02,  4.20761108e-02, ...,\n",
       "          1.10748254e-01, -1.44738257e-01, -4.59537618e-02],\n",
       "        [-1.33112460e-01,  1.23920990e-02,  2.69515738e-02, ...,\n",
       "          1.08770877e-01, -1.56400025e-01, -9.29009169e-03],\n",
       "        [-1.31449059e-01,  2.83239945e-03,  2.13798936e-02, ...,\n",
       "          9.40270349e-02, -1.85444906e-01,  1.50435269e-02]]],\n",
       "      dtype=float32)>"
      ]
     },
     "execution_count": 66,
     "metadata": {},
     "output_type": "execute_result"
    }
   ],
   "source": [
    "transformer((x_batch)) #финально проверю трансформер"
   ]
  },
  {
   "cell_type": "markdown",
   "id": "90757733",
   "metadata": {},
   "source": [
    "# Fit"
   ]
  },
  {
   "cell_type": "markdown",
   "id": "e77864f8",
   "metadata": {},
   "source": [
    "## small data for testing"
   ]
  },
  {
   "cell_type": "code",
   "execution_count": null,
   "id": "39dd5de7",
   "metadata": {},
   "outputs": [],
   "source": [
    "'''Загрузить веса для обученной с subword tokenizer модели!\n",
    "10 эпох, subword tokenizer'''\n",
    "\n",
    "transformer.load_weights('checkpoint_subword/checkpoint')"
   ]
  },
  {
   "cell_type": "code",
   "execution_count": null,
   "id": "8b353775",
   "metadata": {},
   "outputs": [],
   "source": [
    "'''Загрузить веса для обученной с keras vectorization модели!\n",
    "120 эпох'''\n",
    "\n",
    "transformer.load_weights('checkpoint_keras_120epochs/checkpoint')"
   ]
  },
  {
   "cell_type": "code",
   "execution_count": 68,
   "id": "fd0fd836",
   "metadata": {},
   "outputs": [],
   "source": [
    "short_data = dataset.iloc[:500] #Совсем крошечный датасет для дебаггинга "
   ]
  },
  {
   "cell_type": "code",
   "execution_count": null,
   "id": "08a94aec",
   "metadata": {},
   "outputs": [
    {
     "data": {
      "text/plain": [
       "(5000, 1)"
      ]
     },
     "execution_count": 190,
     "metadata": {},
     "output_type": "execute_result"
    }
   ],
   "source": [
    "short_data.shape"
   ]
  },
  {
   "cell_type": "code",
   "execution_count": null,
   "id": "01fb3b15",
   "metadata": {},
   "outputs": [
    {
     "name": "stdout",
     "output_type": "stream",
     "text": [
      "(8, 151)\n",
      "(8, 151)\n"
     ]
    }
   ],
   "source": [
    "n = int(0.9 * len(short_data))  # first 90% will be train, rest val\n",
    "sh_train_examples = short_data[:n]\n",
    "sh_val_examples = short_data[n:]\n",
    "sh_train_examples = tf.data.Dataset.from_tensor_slices((sh_train_examples))\n",
    "sh_val_examples = tf.data.Dataset.from_tensor_slices((sh_val_examples))\n",
    "sh_train_batches = make_batches(sh_train_examples)\n",
    "sh_val_batches = make_batches(sh_val_examples)\n",
    "for X_train, y_train in sh_train_batches.take(1):\n",
    "    break\n",
    "print(X_train.shape)\n",
    "print(y_train.shape)"
   ]
  },
  {
   "cell_type": "markdown",
   "id": "0859ddd8",
   "metadata": {},
   "source": [
    "## callback generator"
   ]
  },
  {
   "cell_type": "code",
   "execution_count": 69,
   "id": "98b360cf",
   "metadata": {},
   "outputs": [],
   "source": [
    "'''Для subword tokenizer'''\n",
    "# tokens_index = dict(enumerate(tokenizers.ru.vocab.numpy()))\n",
    "'''Для keras'''\n",
    "tokens_index = dict(enumerate(vectorize_layer.get_vocabulary()))\n",
    "\n",
    "def sample_next(predictions, temperature=1.0):\n",
    "    predictions = np.asarray(predictions).astype('float64')\n",
    "    # predictions = np.log(predictions) / temperature\n",
    "    # exp_preds = np.exp(predictions)\n",
    "    predictions = predictions / temperature\n",
    "    # predictions = exp_preds / np.sum(exp_preds)\n",
    "    # probas = np.random.multinomial(1, predictions, 1)\n",
    "    return np.argmax(predictions)"
   ]
  },
  {
   "cell_type": "code",
   "execution_count": 70,
   "id": "afa4c59f",
   "metadata": {},
   "outputs": [],
   "source": [
    "def cleanup_text(token_txt):\n",
    "    return token_txt.replace(' ##', '').replace('## ', '')"
   ]
  },
  {
   "cell_type": "code",
   "execution_count": 71,
   "id": "1b6db0c8",
   "metadata": {},
   "outputs": [],
   "source": [
    "class TextGenerator(keras.callbacks.Callback):\n",
    "    def __init__(self,\n",
    "                 prompt,\n",
    "                 tokenizer,\n",
    "                 generate_length,\n",
    "                 model_input_length,\n",
    "                 temperatures=(1.,),\n",
    "                 print_freq=1, \n",
    "                 ):\n",
    "        self.prompt = prompt\n",
    "        self.tokenizer = tokenizer\n",
    "        self.generate_length = generate_length\n",
    "        self.model_input_length = model_input_length\n",
    "        self.temperatures = temperatures\n",
    "        self.print_freq = print_freq\n",
    "\n",
    "    def on_epoch_end(self, epoch, logs=None):\n",
    "        if (epoch + 1) % self.print_freq != 0: \n",
    "            return\n",
    "        for temperature in self.temperatures:\n",
    "            print(\"==Generating with temperature\", temperature, \"==\")\n",
    "            sentence = self.prompt\n",
    "            \n",
    "            for i in range(self.generate_length):\n",
    "                '''if generation == tokenizer'''\n",
    "                # tokenized_sentence = tf.convert_to_tensor(sentence)\n",
    "                # tokenized_sentence = tf.reshape(tokenized_sentence, [1, ])\n",
    "                # tokenized_sentence = self.tokenizer.tokenize(tokenized_sentence)\n",
    "                # tokenized_sentence = tf.reshape(tokenized_sentence, [1, -1])\n",
    "\n",
    "                '''if generation == keras'''\n",
    "                tokenized_sentence = self.tokenizer(sentence)\n",
    "                tokenized_sentence = tf.expand_dims(tokenized_sentence, axis=0)\n",
    "                \n",
    "                predictions = self.model(tokenized_sentence, training=False)\n",
    "                next_token = sample_next(predictions[0, i, :])\n",
    "                sampled_token = tokens_index[next_token]\n",
    "                \n",
    "                '''if generation == tokenizer'''\n",
    "                #sentence += \" \" + str(sampled_token.decode('utf-8'))\n",
    "                '''if generation == keras'''\n",
    "                sentence += \" \" + str(sampled_token)\n",
    "            print(cleanup_text(sentence))"
   ]
  },
  {
   "cell_type": "code",
   "execution_count": 72,
   "id": "2e9cc7d2",
   "metadata": {},
   "outputs": [],
   "source": [
    "prompt = \"эльф разбойник\"\n",
    "reserved_tokens=[\"[PAD]\", \"[UNK]\", \"[START]\", \"[END]\"]\n",
    "text_gen_callback = TextGenerator(\n",
    "    prompt,\n",
    "    # '''tokenizer'''\n",
    "    # tokenizer=tokenizers.ru,\n",
    "    # '''keras'''\n",
    "    tokenizer=vectorize_layer,\n",
    "    generate_length=25,\n",
    "    model_input_length=sequence_length,\n",
    "    temperatures=(0, )\n",
    ")"
   ]
  },
  {
   "cell_type": "markdown",
   "id": "af3a805b",
   "metadata": {},
   "source": [
    "## fit"
   ]
  },
  {
   "cell_type": "code",
   "execution_count": 77,
   "id": "31b8d8d3",
   "metadata": {},
   "outputs": [
    {
     "name": "stdout",
     "output_type": "stream",
     "text": [
      "Epoch 1/200\n"
     ]
    },
    {
     "name": "stdout",
     "output_type": "stream",
     "text": [
      "   6/2250 [..............................] - ETA: 4:55 - loss: 4.3147WARNING:tensorflow:Callback method `on_train_batch_end` is slow compared to the batch time (batch time: 0.0545s vs `on_train_batch_end` time: 0.0813s). Check your callbacks.\n",
      "2250/2250 [==============================] - ETA: 0s - loss: 4.5197==Generating with temperature 0 ==\n",
      "эльф разбойник и [UNK] [UNK] [UNK] [UNK] [UNK] [UNK] [UNK] [UNK] [UNK] [UNK] [UNK] [UNK] [UNK] [UNK] [UNK] [UNK] [UNK] [UNK] [UNK] [UNK] [UNK] [UNK] [UNK] [UNK]\n",
      "2250/2250 [==============================] - 304s 135ms/step - loss: 4.5197 - val_loss: 7.3217\n",
      "Epoch 2/200\n",
      "2250/2250 [==============================] - ETA: 0s - loss: 4.5072==Generating with temperature 0 ==\n",
      "эльф разбойник и [UNK] [UNK] [UNK] [UNK] [UNK] [UNK] [UNK] [UNK] [UNK] [UNK] [UNK] [UNK] [UNK] [UNK] [UNK] [UNK] [UNK] [UNK] [UNK] [UNK] [UNK] [UNK] [UNK] [UNK]\n",
      "2250/2250 [==============================] - 307s 136ms/step - loss: 4.5072 - val_loss: 7.3144\n",
      "Epoch 3/200\n",
      "2250/2250 [==============================] - ETA: 0s - loss: 4.4946==Generating with temperature 0 ==\n",
      "эльф разбойник и [UNK] [UNK] [UNK] [UNK] [UNK] [UNK] [UNK] [UNK] [UNK] [UNK] [UNK] [UNK] [UNK] [UNK] [UNK] [UNK] [UNK] [UNK] [UNK] [UNK] [UNK] [UNK] [UNK] [UNK]\n",
      "2250/2250 [==============================] - 305s 135ms/step - loss: 4.4946 - val_loss: 7.3396\n",
      "Epoch 4/200\n",
      "2250/2250 [==============================] - ETA: 0s - loss: 4.4835==Generating with temperature 0 ==\n",
      "эльф разбойник поднял [UNK] голову [UNK] и [UNK] [UNK] [UNK] [UNK] [UNK] [UNK] [UNK] [UNK] [UNK] [UNK] [UNK] [UNK] [UNK] [UNK] [UNK] [UNK] [UNK] [UNK] [UNK] [UNK]\n",
      "2250/2250 [==============================] - 305s 136ms/step - loss: 4.4835 - val_loss: 7.3112\n",
      "Epoch 5/200\n",
      "2250/2250 [==============================] - ETA: 0s - loss: 4.4670==Generating with temperature 0 ==\n",
      "эльф разбойник был [UNK] [UNK] [UNK] [UNK] [UNK] [UNK] [UNK] [UNK] [UNK] [UNK] [UNK] [UNK] [UNK] [UNK] [UNK] [UNK] [UNK] [UNK] [UNK] [UNK] [UNK] [UNK] [UNK] [UNK]\n",
      "2250/2250 [==============================] - 306s 136ms/step - loss: 4.4670 - val_loss: 7.3622\n",
      "Epoch 6/200\n",
      "2250/2250 [==============================] - ETA: 0s - loss: 4.4588==Generating with temperature 0 ==\n",
      "эльф разбойник повернулся [UNK] к на [UNK] [UNK] [UNK] [UNK] [UNK] [UNK] [UNK] [UNK] [UNK] [UNK] [UNK] [UNK] [UNK] [UNK] [UNK] [UNK] [UNK] [UNK] [UNK] [UNK] [UNK]\n",
      "2250/2250 [==============================] - 305s 136ms/step - loss: 4.4588 - val_loss: 7.3660\n",
      "Epoch 7/200\n",
      "2250/2250 [==============================] - ETA: 0s - loss: 4.4474==Generating with temperature 0 ==\n",
      "эльф разбойник и [UNK] [UNK] [UNK] [UNK] [UNK] [UNK] [UNK] [UNK] [UNK] [UNK] [UNK] [UNK] [UNK] [UNK] [UNK] [UNK] [UNK] [UNK] [UNK] [UNK] [UNK] [UNK] [UNK] [UNK]\n",
      "2250/2250 [==============================] - 305s 135ms/step - loss: 4.4474 - val_loss: 7.3486\n",
      "Epoch 8/200\n",
      "2250/2250 [==============================] - ETA: 0s - loss: 4.4380==Generating with temperature 0 ==\n",
      "эльф разбойник кивнул [UNK] геральт [UNK] [UNK] [UNK] [UNK] [UNK] [UNK] [UNK] [UNK] [UNK] [UNK] [UNK] [UNK] [UNK] [UNK] [UNK] [UNK] [UNK] [UNK] [UNK] [UNK] [UNK] [UNK]\n",
      "2250/2250 [==============================] - 306s 136ms/step - loss: 4.4380 - val_loss: 7.3880\n",
      "Epoch 9/200\n",
      "2250/2250 [==============================] - ETA: 0s - loss: 4.4288==Generating with temperature 0 ==\n",
      "эльф разбойник кивнул [UNK] затем [UNK] [UNK] [UNK] [UNK] [UNK] [UNK] [UNK] [UNK] [UNK] [UNK] [UNK] [UNK] [UNK] [UNK] [UNK] [UNK] [UNK] [UNK] [UNK] [UNK] [UNK] [UNK]\n",
      "2250/2250 [==============================] - 306s 136ms/step - loss: 4.4288 - val_loss: 7.3933\n",
      "Epoch 10/200\n",
      "2250/2250 [==============================] - ETA: 0s - loss: 4.4142==Generating with temperature 0 ==\n",
      "эльф разбойник и [UNK] [UNK] [UNK] [UNK] [UNK] [UNK] [UNK] [UNK] [UNK] [UNK] [UNK] [UNK] [UNK] [UNK] [UNK] [UNK] [UNK] [UNK] [UNK] [UNK] [UNK] [UNK] [UNK] [UNK]\n",
      "2250/2250 [==============================] - 306s 136ms/step - loss: 4.4142 - val_loss: 7.3759\n",
      "Epoch 11/200\n",
      "2250/2250 [==============================] - ETA: 0s - loss: 4.4061==Generating with temperature 0 ==\n",
      "эльф разбойник и [UNK] [UNK] [UNK] [UNK] [UNK] [UNK] [UNK] [UNK] [UNK] [UNK] [UNK] [UNK] [UNK] [UNK] [UNK] [UNK] [UNK] [UNK] [UNK] [UNK] [UNK] [UNK] [UNK] [UNK]\n",
      "2250/2250 [==============================] - 306s 136ms/step - loss: 4.4061 - val_loss: 7.3780\n",
      "Epoch 12/200\n",
      "2250/2250 [==============================] - ETA: 0s - loss: 4.4000==Generating with temperature 0 ==\n",
      "эльф разбойник и [UNK] [UNK] [UNK] [UNK] [UNK] [UNK] [UNK] [UNK] [UNK] [UNK] [UNK] [UNK] [UNK] [UNK] [UNK] [UNK] [UNK] [UNK] [UNK] [UNK] [UNK] [UNK] [UNK] [UNK]\n",
      "2250/2250 [==============================] - 306s 136ms/step - loss: 4.4000 - val_loss: 7.4212\n",
      "Epoch 13/200\n",
      "2250/2250 [==============================] - ETA: 0s - loss: 4.3866==Generating with temperature 0 ==\n",
      "эльф разбойник и [UNK] [UNK] [UNK] [UNK] [UNK] [UNK] [UNK] [UNK] [UNK] [UNK] [UNK] [UNK] [UNK] [UNK] [UNK] [UNK] [UNK] [UNK] [UNK] [UNK] [UNK] [UNK] [UNK] [UNK]\n",
      "2250/2250 [==============================] - 306s 136ms/step - loss: 4.3866 - val_loss: 7.4329\n",
      "Epoch 14/200\n",
      "2250/2250 [==============================] - ETA: 0s - loss: 4.3808==Generating with temperature 0 ==\n",
      "эльф разбойник кивнул [UNK] [UNK] [UNK] [UNK] [UNK] [UNK] [UNK] [UNK] [UNK] [UNK] [UNK] [UNK] [UNK] [UNK] [UNK] [UNK] [UNK] [UNK] [UNK] [UNK] [UNK] [UNK] [UNK] [UNK]\n",
      "2250/2250 [==============================] - 304s 135ms/step - loss: 4.3808 - val_loss: 7.4373\n",
      "Epoch 15/200\n",
      "2250/2250 [==============================] - ETA: 0s - loss: 4.3712==Generating with temperature 0 ==\n",
      "эльф разбойник и [UNK] [UNK] [UNK] [UNK] [UNK] [UNK] [UNK] [UNK] [UNK] [UNK] [UNK] [UNK] [UNK] [UNK] [UNK] [UNK] [UNK] [UNK] [UNK] [UNK] [UNK] [UNK] [UNK] [UNK]\n",
      "2250/2250 [==============================] - 307s 136ms/step - loss: 4.3712 - val_loss: 7.4172\n",
      "Epoch 16/200\n",
      "2250/2250 [==============================] - ETA: 0s - loss: 4.3607==Generating with temperature 0 ==\n",
      "эльф разбойник и [UNK] [UNK] [UNK] [UNK] [UNK] [UNK] [UNK] [UNK] [UNK] [UNK] [UNK] [UNK] [UNK] [UNK] [UNK] [UNK] [UNK] [UNK] [UNK] [UNK] [UNK] [UNK] [UNK] [UNK]\n",
      "2250/2250 [==============================] - 306s 136ms/step - loss: 4.3607 - val_loss: 7.4492\n",
      "Epoch 17/200\n",
      "2250/2250 [==============================] - ETA: 0s - loss: 4.3527==Generating with temperature 0 ==\n",
      "эльф разбойник и [UNK] [UNK] [UNK] [UNK] [UNK] [UNK] [UNK] [UNK] [UNK] [UNK] [UNK] [UNK] [UNK] [UNK] [UNK] [UNK] [UNK] [UNK] [UNK] [UNK] [UNK] [UNK] [UNK] [UNK]\n",
      "2250/2250 [==============================] - 307s 136ms/step - loss: 4.3527 - val_loss: 7.4228\n",
      "Epoch 18/200\n",
      "2250/2250 [==============================] - ETA: 0s - loss: 4.3452==Generating with temperature 0 ==\n",
      "эльф разбойник кивнул [UNK] [UNK] [UNK] [UNK] [UNK] [UNK] [UNK] [UNK] [UNK] [UNK] [UNK] [UNK] [UNK] [UNK] [UNK] [UNK] [UNK] [UNK] [UNK] [UNK] [UNK] [UNK] [UNK] [UNK]\n",
      "2250/2250 [==============================] - 305s 136ms/step - loss: 4.3452 - val_loss: 7.4342\n",
      "Epoch 19/200\n",
      "2250/2250 [==============================] - ETA: 0s - loss: 4.3374==Generating with temperature 0 ==\n",
      "эльф разбойник и [UNK] [UNK] [UNK] [UNK] [UNK] [UNK] [UNK] [UNK] [UNK] [UNK] [UNK] [UNK] [UNK] [UNK] [UNK] [UNK] [UNK] [UNK] [UNK] [UNK] [UNK] [UNK] [UNK] [UNK]\n",
      "2250/2250 [==============================] - 306s 136ms/step - loss: 4.3374 - val_loss: 7.4296\n",
      "Epoch 20/200\n",
      "2250/2250 [==============================] - ETA: 0s - loss: 4.3278==Generating with temperature 0 ==\n",
      "эльф разбойник и [UNK] [UNK] [UNK] [UNK] [UNK] [UNK] [UNK] [UNK] [UNK] [UNK] [UNK] [UNK] [UNK] [UNK] [UNK] [UNK] [UNK] [UNK] [UNK] [UNK] [UNK] [UNK] [UNK] [UNK]\n",
      "2250/2250 [==============================] - 306s 136ms/step - loss: 4.3278 - val_loss: 7.4748\n",
      "Epoch 21/200\n",
      "2250/2250 [==============================] - ETA: 0s - loss: 4.3222==Generating with temperature 0 ==\n",
      "эльф разбойник и [UNK] [UNK] [UNK] [UNK] [UNK] [UNK] [UNK] [UNK] [UNK] [UNK] [UNK] [UNK] [UNK] [UNK] [UNK] [UNK] [UNK] [UNK] [UNK] [UNK] [UNK] [UNK] [UNK] [UNK]\n",
      "2250/2250 [==============================] - 307s 136ms/step - loss: 4.3222 - val_loss: 7.4310\n",
      "Epoch 22/200\n",
      "2250/2250 [==============================] - ETA: 0s - loss: 4.3103==Generating with temperature 0 ==\n",
      "эльф разбойник и [UNK] [UNK] [UNK] [UNK] [UNK] [UNK] [UNK] [UNK] [UNK] [UNK] [UNK] [UNK] [UNK] [UNK] [UNK] [UNK] [UNK] [UNK] [UNK] [UNK] [UNK] [UNK] [UNK] [UNK]\n",
      "2250/2250 [==============================] - 306s 136ms/step - loss: 4.3103 - val_loss: 7.4373\n",
      "Epoch 23/200\n",
      "2250/2250 [==============================] - ETA: 0s - loss: 4.3051==Generating with temperature 0 ==\n",
      "эльф разбойник и [UNK] [UNK] [UNK] [UNK] [UNK] [UNK] [UNK] [UNK] [UNK] [UNK] [UNK] [UNK] [UNK] [UNK] [UNK] [UNK] [UNK] [UNK] [UNK] [UNK] [UNK] [UNK] [UNK] [UNK]\n",
      "2250/2250 [==============================] - 306s 136ms/step - loss: 4.3051 - val_loss: 7.4743\n",
      "Epoch 24/200\n",
      "2250/2250 [==============================] - ETA: 0s - loss: 4.2960==Generating with temperature 0 ==\n",
      "эльф разбойник и [UNK] [UNK] [UNK] [UNK] [UNK] [UNK] [UNK] [UNK] [UNK] [UNK] [UNK] [UNK] [UNK] [UNK] [UNK] [UNK] [UNK] [UNK] [UNK] [UNK] [UNK] [UNK] [UNK] [UNK]\n",
      "2250/2250 [==============================] - 306s 136ms/step - loss: 4.2960 - val_loss: 7.4566\n",
      "Epoch 25/200\n",
      "2250/2250 [==============================] - ETA: 0s - loss: 4.2900==Generating with temperature 0 ==\n",
      "эльф разбойник и [UNK] [UNK] [UNK] [UNK] [UNK] [UNK] [UNK] [UNK] [UNK] [UNK] [UNK] [UNK] [UNK] [UNK] [UNK] [UNK] [UNK] [UNK] [UNK] [UNK] [UNK] [UNK] [UNK] [UNK]\n",
      "2250/2250 [==============================] - 305s 136ms/step - loss: 4.2900 - val_loss: 7.4668\n",
      "Epoch 26/200\n",
      "2250/2250 [==============================] - ETA: 0s - loss: 4.2829==Generating with temperature 0 ==\n",
      "эльф разбойник кивнул [UNK] [UNK] [UNK] [UNK] [UNK] [UNK] [UNK] [UNK] [UNK] [UNK] [UNK] [UNK] [UNK] [UNK] [UNK] [UNK] [UNK] [UNK] [UNK] [UNK] [UNK] [UNK] [UNK] [UNK]\n",
      "2250/2250 [==============================] - 305s 136ms/step - loss: 4.2829 - val_loss: 7.4537\n",
      "Epoch 27/200\n",
      "2250/2250 [==============================] - ETA: 0s - loss: 4.2750==Generating with temperature 0 ==\n",
      "эльф разбойник знал [UNK] что [UNK] это [UNK] [UNK] [UNK] [UNK] [UNK] [UNK] [UNK] [UNK] [UNK] [UNK] [UNK] [UNK] [UNK] [UNK] [UNK] [UNK] [UNK] [UNK] [UNK] [UNK]\n",
      "2250/2250 [==============================] - 306s 136ms/step - loss: 4.2750 - val_loss: 7.4901\n",
      "Epoch 28/200\n",
      "2250/2250 [==============================] - ETA: 0s - loss: 4.2678==Generating with temperature 0 ==\n",
      "эльф разбойник кивнул [UNK] [UNK] [UNK] [UNK] [UNK] [UNK] [UNK] [UNK] [UNK] [UNK] [UNK] [UNK] [UNK] [UNK] [UNK] [UNK] [UNK] [UNK] [UNK] [UNK] [UNK] [UNK] [UNK] [UNK]\n",
      "2250/2250 [==============================] - 306s 136ms/step - loss: 4.2678 - val_loss: 7.4810\n",
      "Epoch 29/200\n",
      "2250/2250 [==============================] - ETA: 0s - loss: 4.2638==Generating with temperature 0 ==\n",
      "эльф разбойник и [UNK] [UNK] [UNK] [UNK] [UNK] [UNK] [UNK] [UNK] [UNK] [UNK] [UNK] [UNK] [UNK] [UNK] [UNK] [UNK] [UNK] [UNK] [UNK] [UNK] [UNK] [UNK] [UNK] [UNK]\n",
      "2250/2250 [==============================] - 305s 136ms/step - loss: 4.2638 - val_loss: 7.5029\n",
      "Epoch 30/200\n",
      "2250/2250 [==============================] - ETA: 0s - loss: 4.2581==Generating with temperature 0 ==\n",
      "эльф разбойник и [UNK] [UNK] [UNK] [UNK] [UNK] [UNK] [UNK] [UNK] [UNK] [UNK] [UNK] [UNK] [UNK] [UNK] [UNK] [UNK] [UNK] [UNK] [UNK] [UNK] [UNK] [UNK] [UNK] [UNK]\n",
      "2250/2250 [==============================] - 306s 136ms/step - loss: 4.2581 - val_loss: 7.5086\n",
      "Epoch 31/200\n",
      "2250/2250 [==============================] - ETA: 0s - loss: 4.2495==Generating with temperature 0 ==\n",
      "эльф разбойник поднял [UNK] голову голову на на [UNK] [UNK] [UNK] [UNK] [UNK] [UNK] [UNK] [UNK] [UNK] [UNK] [UNK] [UNK] [UNK] [UNK] [UNK] [UNK] [UNK] [UNK] [UNK]\n",
      "2250/2250 [==============================] - 306s 136ms/step - loss: 4.2495 - val_loss: 7.5141\n",
      "Epoch 32/200\n",
      "2250/2250 [==============================] - ETA: 0s - loss: 4.2484==Generating with temperature 0 ==\n",
      "эльф разбойник кивнул [UNK] и [UNK] [UNK] [UNK] [UNK] [UNK] [UNK] [UNK] [UNK] [UNK] [UNK] [UNK] [UNK] [UNK] [UNK] [UNK] [UNK] [UNK] [UNK] [UNK] [UNK] [UNK] [UNK]\n",
      "2250/2250 [==============================] - 305s 136ms/step - loss: 4.2484 - val_loss: 7.4895\n",
      "Epoch 33/200\n",
      "2250/2250 [==============================] - ETA: 0s - loss: 4.2386==Generating with temperature 0 ==\n",
      "эльф разбойник кивнул [UNK] [UNK] [UNK] [UNK] [UNK] [UNK] [UNK] [UNK] [UNK] [UNK] [UNK] [UNK] [UNK] [UNK] [UNK] [UNK] [UNK] [UNK] [UNK] [UNK] [UNK] [UNK] [UNK] [UNK]\n",
      "2250/2250 [==============================] - 306s 136ms/step - loss: 4.2386 - val_loss: 7.5115\n",
      "Epoch 34/200\n",
      "2250/2250 [==============================] - ETA: 0s - loss: 4.2350==Generating with temperature 0 ==\n",
      "эльф разбойник кивнул [UNK] [UNK] [UNK] [UNK] [UNK] [UNK] [UNK] [UNK] [UNK] [UNK] [UNK] [UNK] [UNK] [UNK] [UNK] [UNK] [UNK] [UNK] [UNK] [UNK] [UNK] [UNK] [UNK] [UNK]\n",
      "2250/2250 [==============================] - 306s 136ms/step - loss: 4.2350 - val_loss: 7.5009\n",
      "Epoch 35/200\n",
      "2250/2250 [==============================] - ETA: 0s - loss: 4.2276==Generating with temperature 0 ==\n",
      "эльф разбойник кивнул [UNK] [UNK] [UNK] [UNK] [UNK] [UNK] [UNK] [UNK] [UNK] [UNK] [UNK] [UNK] [UNK] [UNK] [UNK] [UNK] [UNK] [UNK] [UNK] [UNK] [UNK] [UNK] [UNK] [UNK]\n",
      "2250/2250 [==============================] - 305s 136ms/step - loss: 4.2276 - val_loss: 7.5043\n",
      "Epoch 36/200\n",
      "2250/2250 [==============================] - ETA: 0s - loss: 4.2243==Generating with temperature 0 ==\n",
      "эльф разбойник и [UNK] [UNK] [UNK] [UNK] [UNK] [UNK] [UNK] [UNK] [UNK] [UNK] [UNK] [UNK] [UNK] [UNK] [UNK] [UNK] [UNK] [UNK] [UNK] [UNK] [UNK] [UNK] [UNK] [UNK]\n",
      "2250/2250 [==============================] - 306s 136ms/step - loss: 4.2243 - val_loss: 7.5269\n",
      "Epoch 37/200\n",
      "2250/2250 [==============================] - ETA: 0s - loss: 4.2203==Generating with temperature 0 ==\n",
      "эльф разбойник и [UNK] [UNK] [UNK] [UNK] [UNK] [UNK] [UNK] [UNK] [UNK] [UNK] [UNK] [UNK] [UNK] [UNK] [UNK] [UNK] [UNK] [UNK] [UNK] [UNK] [UNK] [UNK] [UNK] [UNK]\n",
      "2250/2250 [==============================] - 305s 136ms/step - loss: 4.2203 - val_loss: 7.5135\n",
      "Epoch 38/200\n",
      "2250/2250 [==============================] - ETA: 0s - loss: 4.2157==Generating with temperature 0 ==\n",
      "эльф разбойник и [UNK] [UNK] [UNK] [UNK] [UNK] [UNK] [UNK] [UNK] [UNK] [UNK] [UNK] [UNK] [UNK] [UNK] [UNK] [UNK] [UNK] [UNK] [UNK] [UNK] [UNK] [UNK] [UNK] [UNK]\n",
      "2250/2250 [==============================] - 307s 136ms/step - loss: 4.2157 - val_loss: 7.5363\n",
      "Epoch 39/200\n",
      "2250/2250 [==============================] - ETA: 0s - loss: 4.2050==Generating with temperature 0 ==\n",
      "эльф разбойник кивнул [UNK] [UNK] [UNK] [UNK] [UNK] [UNK] [UNK] [UNK] [UNK] [UNK] [UNK] [UNK] [UNK] [UNK] [UNK] [UNK] [UNK] [UNK] [UNK] [UNK] [UNK] [UNK] [UNK] [UNK]\n",
      "2250/2250 [==============================] - 306s 136ms/step - loss: 4.2050 - val_loss: 7.5110\n",
      "Epoch 40/200\n",
      "2250/2250 [==============================] - ETA: 0s - loss: 4.2026==Generating with temperature 0 ==\n",
      "эльф разбойник и или [UNK] [UNK] [UNK] [UNK] [UNK] [UNK] [UNK] [UNK] [UNK] [UNK] [UNK] [UNK] [UNK] [UNK] [UNK] [UNK] [UNK] [UNK] [UNK] [UNK] [UNK] [UNK] [UNK]\n",
      "2250/2250 [==============================] - 306s 136ms/step - loss: 4.2026 - val_loss: 7.5353\n",
      "Epoch 41/200\n",
      "2250/2250 [==============================] - ETA: 0s - loss: 4.2003==Generating with temperature 0 ==\n",
      "эльф разбойник и [UNK] [UNK] [UNK] [UNK] [UNK] [UNK] [UNK] [UNK] [UNK] [UNK] [UNK] [UNK] [UNK] [UNK] [UNK] [UNK] [UNK] [UNK] [UNK] [UNK] [UNK] [UNK] [UNK] [UNK]\n",
      "2250/2250 [==============================] - 306s 136ms/step - loss: 4.2003 - val_loss: 7.5276\n",
      "Epoch 42/200\n",
      "2250/2250 [==============================] - ETA: 0s - loss: 4.1957==Generating with temperature 0 ==\n",
      "эльф разбойник и [UNK] [UNK] на на [UNK] [UNK] [UNK] [UNK] [UNK] [UNK] [UNK] [UNK] [UNK] [UNK] [UNK] [UNK] [UNK] [UNK] [UNK] [UNK] [UNK] [UNK] [UNK] [UNK]\n",
      "2250/2250 [==============================] - 306s 136ms/step - loss: 4.1957 - val_loss: 7.5370\n",
      "Epoch 43/200\n",
      "2250/2250 [==============================] - ETA: 0s - loss: 4.1933==Generating with temperature 0 ==\n",
      "эльф разбойник увидел [UNK] [UNK] [UNK] [UNK] [UNK] [UNK] [UNK] [UNK] [UNK] [UNK] [UNK] [UNK] [UNK] [UNK] [UNK] [UNK] [UNK] [UNK] [UNK] [UNK] [UNK] [UNK] [UNK] [UNK]\n",
      "2250/2250 [==============================] - 306s 136ms/step - loss: 4.1933 - val_loss: 7.5553\n",
      "Epoch 44/200\n",
      "2250/2250 [==============================] - ETA: 0s - loss: 4.1846==Generating with temperature 0 ==\n",
      "эльф разбойник остановился [UNK] на [UNK] [UNK] [UNK] [UNK] [UNK] [UNK] [UNK] [UNK] [UNK] [UNK] [UNK] [UNK] [UNK] [UNK] [UNK] [UNK] [UNK] [UNK] [UNK] [UNK] [UNK] [UNK]\n",
      "2250/2250 [==============================] - 305s 136ms/step - loss: 4.1846 - val_loss: 7.5616\n",
      "Epoch 45/200\n",
      "2250/2250 [==============================] - ETA: 0s - loss: 4.1825==Generating with temperature 0 ==\n",
      "эльф разбойник повернулся [UNK] к [UNK] [UNK] [UNK] [UNK] [UNK] [UNK] [UNK] [UNK] [UNK] [UNK] [UNK] [UNK] [UNK] [UNK] [UNK] [UNK] [UNK] [UNK] [UNK] [UNK] [UNK] [UNK]\n",
      "2250/2250 [==============================] - 306s 136ms/step - loss: 4.1825 - val_loss: 7.5277\n",
      "Epoch 46/200\n",
      "2250/2250 [==============================] - ETA: 0s - loss: 4.1756==Generating with temperature 0 ==\n",
      "эльф разбойник пожал [UNK] плечами руку и на опустил мгновение [UNK] [UNK] затем затем [UNK] повернулся [UNK] и [UNK] пошел [UNK] к [UNK] [UNK] [UNK] [UNK] [UNK]\n",
      "2250/2250 [==============================] - 306s 136ms/step - loss: 4.1756 - val_loss: 7.5456\n",
      "Epoch 47/200\n",
      "2250/2250 [==============================] - ETA: 0s - loss: 4.1741==Generating with temperature 0 ==\n",
      "эльф разбойник кивнул [UNK] [UNK] [UNK] [UNK] [UNK] [UNK] [UNK] [UNK] [UNK] [UNK] [UNK] [UNK] [UNK] [UNK] [UNK] [UNK] [UNK] [UNK] [UNK] [UNK] [UNK] [UNK] [UNK] [UNK]\n",
      "2250/2250 [==============================] - 306s 136ms/step - loss: 4.1741 - val_loss: 7.5771\n",
      "Epoch 48/200\n",
      "2250/2250 [==============================] - ETA: 0s - loss: 4.1683==Generating with temperature 0 ==\n",
      "эльф разбойник и [UNK] [UNK] [UNK] [UNK] [UNK] [UNK] [UNK] [UNK] [UNK] [UNK] [UNK] [UNK] [UNK] [UNK] [UNK] [UNK] [UNK] [UNK] [UNK] [UNK] [UNK] [UNK] [UNK] [UNK]\n",
      "2250/2250 [==============================] - 305s 135ms/step - loss: 4.1683 - val_loss: 7.5756\n",
      "Epoch 49/200\n",
      "2250/2250 [==============================] - ETA: 0s - loss: 4.1608==Generating with temperature 0 ==\n",
      "эльф разбойник и [UNK] [UNK] [UNK] [UNK] [UNK] [UNK] [UNK] [UNK] [UNK] [UNK] [UNK] [UNK] [UNK] [UNK] [UNK] [UNK] [UNK] [UNK] [UNK] [UNK] [UNK] [UNK] [UNK] [UNK]\n",
      "2250/2250 [==============================] - 306s 136ms/step - loss: 4.1608 - val_loss: 7.5552\n",
      "Epoch 50/200\n",
      "2250/2250 [==============================] - ETA: 0s - loss: 4.1613==Generating with temperature 0 ==\n",
      "эльф разбойник почувствовал [UNK] как [UNK] у [UNK] него [UNK] на [UNK] спине [UNK] [UNK] [UNK] [UNK] [UNK] [UNK] [UNK] [UNK] [UNK] [UNK] [UNK] [UNK] [UNK] [UNK]\n",
      "2250/2250 [==============================] - 305s 136ms/step - loss: 4.1613 - val_loss: 7.5722\n",
      "Epoch 51/200\n",
      "2250/2250 [==============================] - ETA: 0s - loss: 4.1530==Generating with temperature 0 ==\n",
      "эльф разбойник кивнул [UNK] [UNK] [UNK] [UNK] [UNK] [UNK] [UNK] [UNK] [UNK] [UNK] [UNK] [UNK] [UNK] [UNK] [UNK] [UNK] [UNK] [UNK] [UNK] [UNK] [UNK] [UNK] [UNK] [UNK]\n",
      "2250/2250 [==============================] - 306s 136ms/step - loss: 4.1530 - val_loss: 7.5497\n",
      "Epoch 52/200\n",
      "2250/2250 [==============================] - ETA: 0s - loss: 4.1522==Generating with temperature 0 ==\n",
      "эльф разбойник показал [UNK] на [UNK] [UNK] [UNK] [UNK] [UNK] [UNK] [UNK] [UNK] [UNK] [UNK] [UNK] [UNK] [UNK] [UNK] [UNK] [UNK] [UNK] [UNK] [UNK] [UNK] [UNK] [UNK]\n",
      "2250/2250 [==============================] - 306s 136ms/step - loss: 4.1522 - val_loss: 7.5575\n",
      "Epoch 53/200\n",
      "2250/2250 [==============================] - ETA: 0s - loss: 4.1439==Generating with temperature 0 ==\n",
      "эльф разбойник и или [UNK] [UNK] [UNK] [UNK] [UNK] [UNK] [UNK] [UNK] [UNK] [UNK] [UNK] [UNK] [UNK] [UNK] [UNK] [UNK] [UNK] [UNK] [UNK] [UNK] [UNK] [UNK] [UNK]\n",
      "2250/2250 [==============================] - 306s 136ms/step - loss: 4.1439 - val_loss: 7.5698\n",
      "Epoch 54/200\n",
      "2250/2250 [==============================] - ETA: 0s - loss: 4.1482==Generating with temperature 0 ==\n",
      "эльф разбойник и [UNK] [UNK] [UNK] [UNK] [UNK] [UNK] [UNK] [UNK] [UNK] [UNK] [UNK] [UNK] [UNK] [UNK] [UNK] [UNK] [UNK] [UNK] [UNK] [UNK] [UNK] [UNK] [UNK] [UNK]\n",
      "2250/2250 [==============================] - 306s 136ms/step - loss: 4.1482 - val_loss: 7.5689\n",
      "Epoch 55/200\n",
      "2250/2250 [==============================] - ETA: 0s - loss: 4.1433==Generating with temperature 0 ==\n",
      "эльф разбойник и [UNK] [UNK] [UNK] [UNK] [UNK] [UNK] [UNK] [UNK] [UNK] [UNK] [UNK] [UNK] [UNK] [UNK] [UNK] [UNK] [UNK] [UNK] [UNK] [UNK] [UNK] [UNK] [UNK] [UNK]\n",
      "2250/2250 [==============================] - 308s 137ms/step - loss: 4.1433 - val_loss: 7.5846\n",
      "Epoch 56/200\n",
      "2250/2250 [==============================] - ETA: 0s - loss: 4.1370==Generating with temperature 0 ==\n",
      "эльф разбойник и [UNK] [UNK] [UNK] [UNK] [UNK] [UNK] [UNK] [UNK] [UNK] [UNK] [UNK] [UNK] [UNK] [UNK] [UNK] [UNK] [UNK] [UNK] [UNK] [UNK] [UNK] [UNK] [UNK] [UNK]\n",
      "2250/2250 [==============================] - 307s 137ms/step - loss: 4.1370 - val_loss: 7.5798\n",
      "Epoch 57/200\n",
      "2250/2250 [==============================] - ETA: 0s - loss: 4.1298==Generating with temperature 0 ==\n",
      "эльф разбойник и [UNK] [UNK] [UNK] [UNK] [UNK] [UNK] [UNK] [UNK] [UNK] [UNK] [UNK] [UNK] [UNK] [UNK] [UNK] [UNK] [UNK] [UNK] [UNK] [UNK] [UNK] [UNK] [UNK] [UNK]\n",
      "2250/2250 [==============================] - 308s 137ms/step - loss: 4.1298 - val_loss: 7.5739\n",
      "Epoch 58/200\n",
      "2250/2250 [==============================] - ETA: 0s - loss: 4.1299==Generating with temperature 0 ==\n",
      "эльф разбойник и [UNK] [UNK] [UNK] [UNK] [UNK] [UNK] [UNK] [UNK] [UNK] [UNK] [UNK] [UNK] [UNK] [UNK] [UNK] [UNK] [UNK] [UNK] [UNK] [UNK] [UNK] [UNK] [UNK] [UNK]\n",
      "2250/2250 [==============================] - 308s 137ms/step - loss: 4.1299 - val_loss: 7.5804\n",
      "Epoch 59/200\n",
      "2250/2250 [==============================] - ETA: 0s - loss: 4.1252==Generating with temperature 0 ==\n",
      "эльф разбойник и или [UNK] [UNK] [UNK] [UNK] [UNK] [UNK] [UNK] [UNK] [UNK] [UNK] [UNK] [UNK] [UNK] [UNK] [UNK] [UNK] [UNK] [UNK] [UNK] [UNK] [UNK] [UNK] [UNK]\n",
      "2250/2250 [==============================] - 307s 136ms/step - loss: 4.1252 - val_loss: 7.5933\n",
      "Epoch 60/200\n",
      "2250/2250 [==============================] - ETA: 0s - loss: 4.1238==Generating with temperature 0 ==\n",
      "эльф разбойник повернулся или к два [UNK] всадника [UNK] [UNK] [UNK] [UNK] [UNK] [UNK] [UNK] [UNK] [UNK] [UNK] [UNK] [UNK] [UNK] [UNK] [UNK] [UNK] [UNK] [UNK] [UNK]\n",
      "2250/2250 [==============================] - 307s 136ms/step - loss: 4.1238 - val_loss: 7.5956\n",
      "Epoch 61/200\n",
      "2250/2250 [==============================] - ETA: 0s - loss: 4.1203==Generating with temperature 0 ==\n",
      "эльф разбойник и [UNK] [UNK] [UNK] [UNK] [UNK] [UNK] [UNK] [UNK] [UNK] [UNK] [UNK] [UNK] [UNK] [UNK] [UNK] [UNK] [UNK] [UNK] [UNK] [UNK] [UNK] [UNK] [UNK] [UNK]\n",
      "2250/2250 [==============================] - 309s 137ms/step - loss: 4.1203 - val_loss: 7.5861\n",
      "Epoch 62/200\n",
      "2250/2250 [==============================] - ETA: 0s - loss: 4.1142==Generating with temperature 0 ==\n",
      "эльф разбойник и [UNK] [UNK] [UNK] [UNK] [UNK] [UNK] [UNK] [UNK] [UNK] [UNK] [UNK] [UNK] [UNK] [UNK] [UNK] [UNK] [UNK] [UNK] [UNK] [UNK] [UNK] [UNK] [UNK] [UNK]\n",
      "2250/2250 [==============================] - 308s 137ms/step - loss: 4.1142 - val_loss: 7.5959\n",
      "Epoch 63/200\n",
      "2250/2250 [==============================] - ETA: 0s - loss: 4.1125==Generating with temperature 0 ==\n",
      "эльф разбойник и [UNK] [UNK] [UNK] [UNK] [UNK] [UNK] [UNK] [UNK] [UNK] [UNK] [UNK] [UNK] [UNK] [UNK] [UNK] [UNK] [UNK] [UNK] [UNK] [UNK] [UNK] [UNK] [UNK] [UNK]\n",
      "2250/2250 [==============================] - 309s 137ms/step - loss: 4.1125 - val_loss: 7.6203\n",
      "Epoch 64/200\n",
      "2250/2250 [==============================] - ETA: 0s - loss: 4.1065==Generating with temperature 0 ==\n",
      "эльф разбойник и [UNK] [UNK] [UNK] [UNK] [UNK] [UNK] [UNK] [UNK] [UNK] [UNK] [UNK] [UNK] [UNK] [UNK] [UNK] [UNK] [UNK] [UNK] [UNK] [UNK] [UNK] [UNK] [UNK] [UNK]\n",
      "2250/2250 [==============================] - 308s 137ms/step - loss: 4.1065 - val_loss: 7.5806\n",
      "Epoch 65/200\n",
      "2250/2250 [==============================] - ETA: 0s - loss: 4.1066==Generating with temperature 0 ==\n",
      "эльф разбойник кивнул [UNK] и [UNK] [UNK] [UNK] [UNK] [UNK] [UNK] [UNK] [UNK] [UNK] [UNK] [UNK] [UNK] [UNK] [UNK] [UNK] [UNK] [UNK] [UNK] [UNK] [UNK] [UNK] [UNK]\n",
      "2250/2250 [==============================] - 308s 137ms/step - loss: 4.1066 - val_loss: 7.6149\n",
      "Epoch 66/200\n",
      "2250/2250 [==============================] - ETA: 0s - loss: 4.1005==Generating with temperature 0 ==\n",
      "эльф разбойник кивнул [UNK] [UNK] [UNK] [UNK] [UNK] [UNK] [UNK] [UNK] [UNK] [UNK] [UNK] [UNK] [UNK] [UNK] [UNK] [UNK] [UNK] [UNK] [UNK] [UNK] [UNK] [UNK] [UNK] [UNK]\n",
      "2250/2250 [==============================] - 309s 138ms/step - loss: 4.1005 - val_loss: 7.6108\n",
      "Epoch 67/200\n",
      "2250/2250 [==============================] - ETA: 0s - loss: 4.1010==Generating with temperature 0 ==\n",
      "эльф разбойник и [UNK] [UNK] [UNK] [UNK] [UNK] [UNK] [UNK] [UNK] [UNK] [UNK] [UNK] [UNK] [UNK] [UNK] [UNK] [UNK] [UNK] [UNK] [UNK] [UNK] [UNK] [UNK] [UNK] [UNK]\n",
      "2250/2250 [==============================] - 308s 137ms/step - loss: 4.1010 - val_loss: 7.5960\n",
      "Epoch 68/200\n",
      "2250/2250 [==============================] - ETA: 0s - loss: 4.0948==Generating with temperature 0 ==\n",
      "эльф разбойник и или [UNK] [UNK] [UNK] [UNK] [UNK] [UNK] [UNK] [UNK] [UNK] [UNK] [UNK] [UNK] [UNK] [UNK] [UNK] [UNK] [UNK] [UNK] [UNK] [UNK] [UNK] [UNK] [UNK]\n",
      "2250/2250 [==============================] - 308s 137ms/step - loss: 4.0948 - val_loss: 7.6126\n",
      "Epoch 69/200\n",
      "2250/2250 [==============================] - ETA: 0s - loss: 4.0897==Generating with temperature 0 ==\n",
      "эльф разбойник был [UNK] [UNK] [UNK] [UNK] [UNK] [UNK] [UNK] [UNK] [UNK] [UNK] [UNK] [UNK] [UNK] [UNK] [UNK] [UNK] [UNK] [UNK] [UNK] [UNK] [UNK] [UNK] [UNK] [UNK]\n",
      "2250/2250 [==============================] - 308s 137ms/step - loss: 4.0897 - val_loss: 7.6072\n",
      "Epoch 70/200\n",
      "2250/2250 [==============================] - ETA: 0s - loss: 4.0868==Generating with temperature 0 ==\n",
      "эльф разбойник и или [UNK] [UNK] [UNK] [UNK] [UNK] [UNK] [UNK] [UNK] [UNK] [UNK] [UNK] [UNK] [UNK] [UNK] [UNK] [UNK] [UNK] [UNK] [UNK] [UNK] [UNK] [UNK] [UNK]\n",
      "2250/2250 [==============================] - 309s 137ms/step - loss: 4.0868 - val_loss: 7.6134\n",
      "Epoch 71/200\n",
      "2250/2250 [==============================] - ETA: 0s - loss: 4.0862==Generating with temperature 0 ==\n",
      "эльф разбойник и [UNK] [UNK] [UNK] [UNK] [UNK] [UNK] [UNK] [UNK] [UNK] [UNK] [UNK] [UNK] [UNK] [UNK] [UNK] [UNK] [UNK] [UNK] [UNK] [UNK] [UNK] [UNK] [UNK] [UNK]\n",
      "2250/2250 [==============================] - 309s 137ms/step - loss: 4.0862 - val_loss: 7.6229\n",
      "Epoch 72/200\n",
      "2250/2250 [==============================] - ETA: 0s - loss: 4.0803==Generating with temperature 0 ==\n",
      "эльф разбойник пожал [UNK] плечами руку затем затем [UNK] повернулся [UNK] к [UNK] [UNK] [UNK] [UNK] [UNK] [UNK] [UNK] [UNK] [UNK] [UNK] [UNK] [UNK] [UNK] [UNK] [UNK]\n",
      "2250/2250 [==============================] - 309s 137ms/step - loss: 4.0803 - val_loss: 7.5996\n",
      "Epoch 73/200\n",
      "2250/2250 [==============================] - ETA: 0s - loss: 4.0778==Generating with temperature 0 ==\n",
      "эльф разбойник был [UNK] [UNK] [UNK] [UNK] [UNK] [UNK] [UNK] [UNK] [UNK] [UNK] [UNK] [UNK] [UNK] [UNK] [UNK] [UNK] [UNK] [UNK] [UNK] [UNK] [UNK] [UNK] [UNK] [UNK]\n",
      "2250/2250 [==============================] - 309s 137ms/step - loss: 4.0778 - val_loss: 7.6139\n",
      "Epoch 74/200\n",
      "2250/2250 [==============================] - ETA: 0s - loss: 4.0732==Generating with temperature 0 ==\n",
      "эльф разбойник и [UNK] [UNK] [UNK] [UNK] [UNK] [UNK] [UNK] [UNK] [UNK] [UNK] [UNK] [UNK] [UNK] [UNK] [UNK] [UNK] [UNK] [UNK] [UNK] [UNK] [UNK] [UNK] [UNK] [UNK]\n",
      "2250/2250 [==============================] - 309s 137ms/step - loss: 4.0732 - val_loss: 7.6051\n",
      "Epoch 75/200\n",
      "2250/2250 [==============================] - ETA: 0s - loss: 4.0731==Generating with temperature 0 ==\n",
      "эльф разбойник почувствовал [UNK] как [UNK] у [UNK] него [UNK] в [UNK] ножны [UNK] и [UNK] [UNK] [UNK] [UNK] [UNK] [UNK] [UNK] [UNK] [UNK] [UNK] [UNK] [UNK]\n",
      "2250/2250 [==============================] - 308s 137ms/step - loss: 4.0731 - val_loss: 7.6227\n",
      "Epoch 76/200\n",
      "2250/2250 [==============================] - ETA: 0s - loss: 4.0721==Generating with temperature 0 ==\n",
      "эльф разбойник кивнул [UNK] затем [UNK] [UNK] [UNK] [UNK] [UNK] [UNK] [UNK] [UNK] [UNK] [UNK] [UNK] [UNK] [UNK] [UNK] [UNK] [UNK] [UNK] [UNK] [UNK] [UNK] [UNK] [UNK]\n",
      "2250/2250 [==============================] - 308s 137ms/step - loss: 4.0721 - val_loss: 7.6379\n",
      "Epoch 77/200\n",
      "2250/2250 [==============================] - ETA: 0s - loss: 4.0672==Generating with temperature 0 ==\n",
      "эльф разбойник кивнул или [UNK] [UNK] [UNK] [UNK] [UNK] [UNK] [UNK] [UNK] [UNK] [UNK] [UNK] [UNK] [UNK] [UNK] [UNK] [UNK] [UNK] [UNK] [UNK] [UNK] [UNK] [UNK] [UNK]\n",
      "2250/2250 [==============================] - 308s 137ms/step - loss: 4.0672 - val_loss: 7.6294\n",
      "Epoch 78/200\n",
      "2250/2250 [==============================] - ETA: 0s - loss: 4.0655==Generating with temperature 0 ==\n",
      "эльф разбойник кивнул или [UNK] [UNK] [UNK] [UNK] [UNK] [UNK] [UNK] [UNK] [UNK] [UNK] [UNK] [UNK] [UNK] [UNK] [UNK] [UNK] [UNK] [UNK] [UNK] [UNK] [UNK] [UNK] [UNK]\n",
      "2250/2250 [==============================] - 307s 137ms/step - loss: 4.0655 - val_loss: 7.6277\n",
      "Epoch 79/200\n",
      "2250/2250 [==============================] - ETA: 0s - loss: 4.0645==Generating with temperature 0 ==\n",
      "эльф разбойник остановился [UNK] и [UNK] [UNK] [UNK] [UNK] [UNK] [UNK] [UNK] [UNK] [UNK] [UNK] [UNK] [UNK] [UNK] [UNK] [UNK] [UNK] [UNK] [UNK] [UNK] [UNK] [UNK] [UNK]\n",
      "2250/2250 [==============================] - 308s 137ms/step - loss: 4.0645 - val_loss: 7.6167\n",
      "Epoch 80/200\n",
      "2250/2250 [==============================] - ETA: 0s - loss: 4.0609==Generating with temperature 0 ==\n",
      "эльф разбойник и или [UNK] [UNK] [UNK] [UNK] [UNK] [UNK] [UNK] [UNK] [UNK] [UNK] [UNK] [UNK] [UNK] [UNK] [UNK] [UNK] [UNK] [UNK] [UNK] [UNK] [UNK] [UNK] [UNK]\n",
      "2250/2250 [==============================] - 309s 137ms/step - loss: 4.0609 - val_loss: 7.6392\n",
      "Epoch 81/200\n",
      "2250/2250 [==============================] - ETA: 0s - loss: 4.0587==Generating with temperature 0 ==\n",
      "эльф разбойник и или [UNK] [UNK] [UNK] [UNK] [UNK] [UNK] [UNK] [UNK] [UNK] [UNK] [UNK] [UNK] [UNK] [UNK] [UNK] [UNK] [UNK] [UNK] [UNK] [UNK] [UNK] [UNK] [UNK]\n",
      "2250/2250 [==============================] - 309s 137ms/step - loss: 4.0587 - val_loss: 7.6291\n",
      "Epoch 82/200\n",
      "2250/2250 [==============================] - ETA: 0s - loss: 4.0549==Generating with temperature 0 ==\n",
      "эльф разбойник и или [UNK] [UNK] [UNK] [UNK] [UNK] [UNK] [UNK] [UNK] [UNK] [UNK] [UNK] [UNK] [UNK] [UNK] [UNK] [UNK] [UNK] [UNK] [UNK] [UNK] [UNK] [UNK] [UNK]\n",
      "2250/2250 [==============================] - 307s 137ms/step - loss: 4.0549 - val_loss: 7.6311\n",
      "Epoch 83/200\n",
      "2250/2250 [==============================] - ETA: 0s - loss: 4.0519==Generating with temperature 0 ==\n",
      "эльф разбойник и [UNK] [UNK] [UNK] [UNK] [UNK] [UNK] [UNK] [UNK] [UNK] [UNK] [UNK] [UNK] [UNK] [UNK] [UNK] [UNK] [UNK] [UNK] [UNK] [UNK] [UNK] [UNK] [UNK] [UNK]\n",
      "2250/2250 [==============================] - 308s 137ms/step - loss: 4.0519 - val_loss: 7.6029\n",
      "Epoch 84/200\n",
      "2250/2250 [==============================] - ETA: 0s - loss: 4.0516==Generating with temperature 0 ==\n",
      "эльф разбойник пожал [UNK] плечами руку и [UNK] [UNK] [UNK] [UNK] [UNK] [UNK] [UNK] [UNK] [UNK] [UNK] [UNK] [UNK] [UNK] [UNK] [UNK] [UNK] [UNK] [UNK] [UNK] [UNK]\n",
      "2250/2250 [==============================] - 308s 137ms/step - loss: 4.0516 - val_loss: 7.6358\n",
      "Epoch 85/200\n",
      "2250/2250 [==============================] - ETA: 0s - loss: 4.0526==Generating with temperature 0 ==\n",
      "эльф разбойник и [UNK] [UNK] [UNK] [UNK] [UNK] [UNK] [UNK] [UNK] [UNK] [UNK] [UNK] [UNK] [UNK] [UNK] [UNK] [UNK] [UNK] [UNK] [UNK] [UNK] [UNK] [UNK] [UNK] [UNK]\n",
      "2250/2250 [==============================] - 308s 137ms/step - loss: 4.0526 - val_loss: 7.6299\n",
      "Epoch 86/200\n",
      "2250/2250 [==============================] - ETA: 0s - loss: 4.0505==Generating with temperature 0 ==\n",
      "эльф разбойник и [UNK] [UNK] [UNK] [UNK] [UNK] [UNK] [UNK] [UNK] [UNK] [UNK] [UNK] [UNK] [UNK] [UNK] [UNK] [UNK] [UNK] [UNK] [UNK] [UNK] [UNK] [UNK] [UNK] [UNK]\n",
      "2250/2250 [==============================] - 307s 137ms/step - loss: 4.0505 - val_loss: 7.6271\n",
      "Epoch 87/200\n",
      "2250/2250 [==============================] - ETA: 0s - loss: 4.0511==Generating with temperature 0 ==\n",
      "эльф разбойник и или [UNK] [UNK] [UNK] [UNK] [UNK] [UNK] [UNK] [UNK] [UNK] [UNK] [UNK] [UNK] [UNK] [UNK] [UNK] [UNK] [UNK] [UNK] [UNK] [UNK] [UNK] [UNK] [UNK]\n",
      "2250/2250 [==============================] - 308s 137ms/step - loss: 4.0511 - val_loss: 7.6162\n",
      "Epoch 88/200\n",
      "2250/2250 [==============================] - ETA: 0s - loss: 4.0444==Generating with temperature 0 ==\n",
      "эльф разбойник поднял [UNK] голову голову и и опустил опустил голову голову затем затем повернулся повернулся к к [UNK] [UNK] [UNK] [UNK] [UNK] [UNK] [UNK] [UNK] [UNK]\n",
      "2250/2250 [==============================] - 308s 137ms/step - loss: 4.0444 - val_loss: 7.6290\n",
      "Epoch 89/200\n",
      "2250/2250 [==============================] - ETA: 0s - loss: 4.0379==Generating with temperature 0 ==\n",
      "эльф разбойник и [UNK] [UNK] [UNK] [UNK] [UNK] [UNK] [UNK] [UNK] [UNK] [UNK] [UNK] [UNK] [UNK] [UNK] [UNK] [UNK] [UNK] [UNK] [UNK] [UNK] [UNK] [UNK] [UNK] [UNK]\n",
      "2250/2250 [==============================] - 314s 140ms/step - loss: 4.0379 - val_loss: 7.6466\n",
      "Epoch 90/200\n",
      "2250/2250 [==============================] - ETA: 0s - loss: 4.0372==Generating with temperature 0 ==\n",
      "эльф разбойник и [UNK] [UNK] [UNK] [UNK] [UNK] [UNK] [UNK] [UNK] [UNK] [UNK] [UNK] [UNK] [UNK] [UNK] [UNK] [UNK] [UNK] [UNK] [UNK] [UNK] [UNK] [UNK] [UNK] [UNK]\n",
      "2250/2250 [==============================] - 322s 143ms/step - loss: 4.0372 - val_loss: 7.6291\n",
      "Epoch 91/200\n",
      "2250/2250 [==============================] - ETA: 0s - loss: 4.0371==Generating with temperature 0 ==\n",
      "эльф разбойник и [UNK] [UNK] [UNK] [UNK] [UNK] [UNK] [UNK] [UNK] [UNK] [UNK] [UNK] [UNK] [UNK] [UNK] [UNK] [UNK] [UNK] [UNK] [UNK] [UNK] [UNK] [UNK] [UNK] [UNK]\n",
      "2250/2250 [==============================] - 322s 143ms/step - loss: 4.0371 - val_loss: 7.6367\n",
      "Epoch 92/200\n",
      "2250/2250 [==============================] - ETA: 0s - loss: 4.0325==Generating with temperature 0 ==\n",
      "эльф разбойник и или [UNK] [UNK] [UNK] [UNK] [UNK] [UNK] [UNK] [UNK] [UNK] [UNK] [UNK] [UNK] [UNK] [UNK] [UNK] [UNK] [UNK] [UNK] [UNK] [UNK] [UNK] [UNK] [UNK]\n",
      "2250/2250 [==============================] - 312s 139ms/step - loss: 4.0325 - val_loss: 7.6356\n",
      "Epoch 93/200\n",
      "2250/2250 [==============================] - ETA: 0s - loss: 4.0283==Generating with temperature 0 ==\n",
      "эльф разбойник и [UNK] [UNK] [UNK] [UNK] [UNK] [UNK] [UNK] [UNK] [UNK] [UNK] [UNK] [UNK] [UNK] [UNK] [UNK] [UNK] [UNK] [UNK] [UNK] [UNK] [UNK] [UNK] [UNK] [UNK]\n",
      "2250/2250 [==============================] - 311s 138ms/step - loss: 4.0283 - val_loss: 7.6193\n",
      "Epoch 94/200\n",
      "2250/2250 [==============================] - ETA: 0s - loss: 4.0294==Generating with temperature 0 ==\n",
      "эльф разбойник и или [UNK] [UNK] [UNK] [UNK] [UNK] [UNK] [UNK] [UNK] [UNK] [UNK] [UNK] [UNK] [UNK] [UNK] [UNK] [UNK] [UNK] [UNK] [UNK] [UNK] [UNK] [UNK] [UNK]\n",
      "2250/2250 [==============================] - 322s 143ms/step - loss: 4.0294 - val_loss: 7.6552\n",
      "Epoch 95/200\n",
      "2250/2250 [==============================] - ETA: 0s - loss: 4.0282==Generating with temperature 0 ==\n",
      "эльф разбойник и или [UNK] [UNK] [UNK] [UNK] [UNK] [UNK] [UNK] [UNK] [UNK] [UNK] [UNK] [UNK] [UNK] [UNK] [UNK] [UNK] [UNK] [UNK] [UNK] [UNK] [UNK] [UNK] [UNK]\n",
      "2250/2250 [==============================] - 321s 143ms/step - loss: 4.0282 - val_loss: 7.6463\n",
      "Epoch 96/200\n",
      "2250/2250 [==============================] - ETA: 0s - loss: 4.0269==Generating with temperature 0 ==\n",
      "эльф разбойник кивнул [UNK] и [UNK] [UNK] [UNK] [UNK] [UNK] [UNK] [UNK] [UNK] [UNK] [UNK] [UNK] [UNK] [UNK] [UNK] [UNK] [UNK] [UNK] [UNK] [UNK] [UNK] [UNK] [UNK]\n",
      "2250/2250 [==============================] - 322s 143ms/step - loss: 4.0269 - val_loss: 7.6399\n",
      "Epoch 97/200\n",
      "2250/2250 [==============================] - ETA: 0s - loss: 4.0240==Generating with temperature 0 ==\n",
      "эльф разбойник и [UNK] [UNK] [UNK] [UNK] [UNK] [UNK] [UNK] [UNK] [UNK] [UNK] [UNK] [UNK] [UNK] [UNK] [UNK] [UNK] [UNK] [UNK] [UNK] [UNK] [UNK] [UNK] [UNK] [UNK]\n",
      "2250/2250 [==============================] - 321s 143ms/step - loss: 4.0240 - val_loss: 7.6339\n",
      "Epoch 98/200\n",
      "2250/2250 [==============================] - ETA: 0s - loss: 4.0183==Generating with temperature 0 ==\n",
      "эльф разбойник покачал или головой [UNK] нет голову [UNK] [UNK] [UNK] [UNK] [UNK] [UNK] [UNK] [UNK] [UNK] [UNK] [UNK] [UNK] [UNK] [UNK] [UNK] [UNK] [UNK] [UNK] [UNK]\n",
      "2250/2250 [==============================] - 321s 143ms/step - loss: 4.0183 - val_loss: 7.6308\n",
      "Epoch 99/200\n",
      "2250/2250 [==============================] - ETA: 0s - loss: 4.0176==Generating with temperature 0 ==\n",
      "эльф разбойник и или [UNK] [UNK] [UNK] [UNK] [UNK] [UNK] [UNK] [UNK] [UNK] [UNK] [UNK] [UNK] [UNK] [UNK] [UNK] [UNK] [UNK] [UNK] [UNK] [UNK] [UNK] [UNK] [UNK]\n",
      "2250/2250 [==============================] - 319s 142ms/step - loss: 4.0176 - val_loss: 7.6595\n",
      "Epoch 100/200\n",
      "2250/2250 [==============================] - ETA: 0s - loss: 4.0141==Generating with temperature 0 ==\n",
      "эльф разбойник и или [UNK] [UNK] [UNK] [UNK] [UNK] [UNK] [UNK] [UNK] [UNK] [UNK] [UNK] [UNK] [UNK] [UNK] [UNK] [UNK] [UNK] [UNK] [UNK] [UNK] [UNK] [UNK] [UNK]\n",
      "2250/2250 [==============================] - 321s 142ms/step - loss: 4.0141 - val_loss: 7.6344\n",
      "Epoch 101/200\n",
      "2250/2250 [==============================] - ETA: 0s - loss: 4.0148"
     ]
    },
    {
     "ename": "KeyboardInterrupt",
     "evalue": "",
     "output_type": "error",
     "traceback": [
      "\u001b[0;31m---------------------------------------------------------------------------\u001b[0m",
      "\u001b[0;31mKeyboardInterrupt\u001b[0m                         Traceback (most recent call last)",
      "Cell \u001b[0;32mIn[77], line 1\u001b[0m\n\u001b[0;32m----> 1\u001b[0m history \u001b[38;5;241m=\u001b[39m \u001b[43mtransformer\u001b[49m\u001b[38;5;241;43m.\u001b[39;49m\u001b[43mfit\u001b[49m\u001b[43m(\u001b[49m\u001b[43mtrain_batches_short\u001b[49m\u001b[43m,\u001b[49m\u001b[43m \u001b[49m\u001b[43mepochs\u001b[49m\u001b[38;5;241;43m=\u001b[39;49m\u001b[38;5;241;43m200\u001b[39;49m\u001b[43m,\u001b[49m\u001b[43m \u001b[49m\u001b[43mvalidation_data\u001b[49m\u001b[38;5;241;43m=\u001b[39;49m\u001b[43mval_batches_short\u001b[49m\u001b[43m,\u001b[49m\u001b[43m \u001b[49m\u001b[43mcallbacks\u001b[49m\u001b[38;5;241;43m=\u001b[39;49m\u001b[43m[\u001b[49m\u001b[43mtext_gen_callback\u001b[49m\u001b[43m]\u001b[49m\u001b[43m)\u001b[49m\n",
      "File \u001b[0;32m~/.local/lib/python3.10/site-packages/keras/src/utils/traceback_utils.py:65\u001b[0m, in \u001b[0;36mfilter_traceback.<locals>.error_handler\u001b[0;34m(*args, **kwargs)\u001b[0m\n\u001b[1;32m     63\u001b[0m filtered_tb \u001b[38;5;241m=\u001b[39m \u001b[38;5;28;01mNone\u001b[39;00m\n\u001b[1;32m     64\u001b[0m \u001b[38;5;28;01mtry\u001b[39;00m:\n\u001b[0;32m---> 65\u001b[0m     \u001b[38;5;28;01mreturn\u001b[39;00m \u001b[43mfn\u001b[49m\u001b[43m(\u001b[49m\u001b[38;5;241;43m*\u001b[39;49m\u001b[43margs\u001b[49m\u001b[43m,\u001b[49m\u001b[43m \u001b[49m\u001b[38;5;241;43m*\u001b[39;49m\u001b[38;5;241;43m*\u001b[39;49m\u001b[43mkwargs\u001b[49m\u001b[43m)\u001b[49m\n\u001b[1;32m     66\u001b[0m \u001b[38;5;28;01mexcept\u001b[39;00m \u001b[38;5;167;01mException\u001b[39;00m \u001b[38;5;28;01mas\u001b[39;00m e:\n\u001b[1;32m     67\u001b[0m     filtered_tb \u001b[38;5;241m=\u001b[39m _process_traceback_frames(e\u001b[38;5;241m.\u001b[39m__traceback__)\n",
      "File \u001b[0;32m~/.local/lib/python3.10/site-packages/keras/src/engine/training.py:1856\u001b[0m, in \u001b[0;36mModel.fit\u001b[0;34m(self, x, y, batch_size, epochs, verbose, callbacks, validation_split, validation_data, shuffle, class_weight, sample_weight, initial_epoch, steps_per_epoch, validation_steps, validation_batch_size, validation_freq, max_queue_size, workers, use_multiprocessing)\u001b[0m\n\u001b[1;32m   1840\u001b[0m \u001b[38;5;28;01mif\u001b[39;00m \u001b[38;5;28mgetattr\u001b[39m(\u001b[38;5;28mself\u001b[39m, \u001b[38;5;124m\"\u001b[39m\u001b[38;5;124m_eval_data_handler\u001b[39m\u001b[38;5;124m\"\u001b[39m, \u001b[38;5;28;01mNone\u001b[39;00m) \u001b[38;5;129;01mis\u001b[39;00m \u001b[38;5;28;01mNone\u001b[39;00m:\n\u001b[1;32m   1841\u001b[0m     \u001b[38;5;28mself\u001b[39m\u001b[38;5;241m.\u001b[39m_eval_data_handler \u001b[38;5;241m=\u001b[39m data_adapter\u001b[38;5;241m.\u001b[39mget_data_handler(\n\u001b[1;32m   1842\u001b[0m         x\u001b[38;5;241m=\u001b[39mval_x,\n\u001b[1;32m   1843\u001b[0m         y\u001b[38;5;241m=\u001b[39mval_y,\n\u001b[0;32m   (...)\u001b[0m\n\u001b[1;32m   1854\u001b[0m         pss_evaluation_shards\u001b[38;5;241m=\u001b[39m\u001b[38;5;28mself\u001b[39m\u001b[38;5;241m.\u001b[39m_pss_evaluation_shards,\n\u001b[1;32m   1855\u001b[0m     )\n\u001b[0;32m-> 1856\u001b[0m val_logs \u001b[38;5;241m=\u001b[39m \u001b[38;5;28;43mself\u001b[39;49m\u001b[38;5;241;43m.\u001b[39;49m\u001b[43mevaluate\u001b[49m\u001b[43m(\u001b[49m\n\u001b[1;32m   1857\u001b[0m \u001b[43m    \u001b[49m\u001b[43mx\u001b[49m\u001b[38;5;241;43m=\u001b[39;49m\u001b[43mval_x\u001b[49m\u001b[43m,\u001b[49m\n\u001b[1;32m   1858\u001b[0m \u001b[43m    \u001b[49m\u001b[43my\u001b[49m\u001b[38;5;241;43m=\u001b[39;49m\u001b[43mval_y\u001b[49m\u001b[43m,\u001b[49m\n\u001b[1;32m   1859\u001b[0m \u001b[43m    \u001b[49m\u001b[43msample_weight\u001b[49m\u001b[38;5;241;43m=\u001b[39;49m\u001b[43mval_sample_weight\u001b[49m\u001b[43m,\u001b[49m\n\u001b[1;32m   1860\u001b[0m \u001b[43m    \u001b[49m\u001b[43mbatch_size\u001b[49m\u001b[38;5;241;43m=\u001b[39;49m\u001b[43mvalidation_batch_size\u001b[49m\u001b[43m \u001b[49m\u001b[38;5;129;43;01mor\u001b[39;49;00m\u001b[43m \u001b[49m\u001b[43mbatch_size\u001b[49m\u001b[43m,\u001b[49m\n\u001b[1;32m   1861\u001b[0m \u001b[43m    \u001b[49m\u001b[43msteps\u001b[49m\u001b[38;5;241;43m=\u001b[39;49m\u001b[43mvalidation_steps\u001b[49m\u001b[43m,\u001b[49m\n\u001b[1;32m   1862\u001b[0m \u001b[43m    \u001b[49m\u001b[43mcallbacks\u001b[49m\u001b[38;5;241;43m=\u001b[39;49m\u001b[43mcallbacks\u001b[49m\u001b[43m,\u001b[49m\n\u001b[1;32m   1863\u001b[0m \u001b[43m    \u001b[49m\u001b[43mmax_queue_size\u001b[49m\u001b[38;5;241;43m=\u001b[39;49m\u001b[43mmax_queue_size\u001b[49m\u001b[43m,\u001b[49m\n\u001b[1;32m   1864\u001b[0m \u001b[43m    \u001b[49m\u001b[43mworkers\u001b[49m\u001b[38;5;241;43m=\u001b[39;49m\u001b[43mworkers\u001b[49m\u001b[43m,\u001b[49m\n\u001b[1;32m   1865\u001b[0m \u001b[43m    \u001b[49m\u001b[43muse_multiprocessing\u001b[49m\u001b[38;5;241;43m=\u001b[39;49m\u001b[43muse_multiprocessing\u001b[49m\u001b[43m,\u001b[49m\n\u001b[1;32m   1866\u001b[0m \u001b[43m    \u001b[49m\u001b[43mreturn_dict\u001b[49m\u001b[38;5;241;43m=\u001b[39;49m\u001b[38;5;28;43;01mTrue\u001b[39;49;00m\u001b[43m,\u001b[49m\n\u001b[1;32m   1867\u001b[0m \u001b[43m    \u001b[49m\u001b[43m_use_cached_eval_dataset\u001b[49m\u001b[38;5;241;43m=\u001b[39;49m\u001b[38;5;28;43;01mTrue\u001b[39;49;00m\u001b[43m,\u001b[49m\n\u001b[1;32m   1868\u001b[0m \u001b[43m\u001b[49m\u001b[43m)\u001b[49m\n\u001b[1;32m   1869\u001b[0m val_logs \u001b[38;5;241m=\u001b[39m {\n\u001b[1;32m   1870\u001b[0m     \u001b[38;5;124m\"\u001b[39m\u001b[38;5;124mval_\u001b[39m\u001b[38;5;124m\"\u001b[39m \u001b[38;5;241m+\u001b[39m name: val \u001b[38;5;28;01mfor\u001b[39;00m name, val \u001b[38;5;129;01min\u001b[39;00m val_logs\u001b[38;5;241m.\u001b[39mitems()\n\u001b[1;32m   1871\u001b[0m }\n\u001b[1;32m   1872\u001b[0m epoch_logs\u001b[38;5;241m.\u001b[39mupdate(val_logs)\n",
      "File \u001b[0;32m~/.local/lib/python3.10/site-packages/keras/src/utils/traceback_utils.py:65\u001b[0m, in \u001b[0;36mfilter_traceback.<locals>.error_handler\u001b[0;34m(*args, **kwargs)\u001b[0m\n\u001b[1;32m     63\u001b[0m filtered_tb \u001b[38;5;241m=\u001b[39m \u001b[38;5;28;01mNone\u001b[39;00m\n\u001b[1;32m     64\u001b[0m \u001b[38;5;28;01mtry\u001b[39;00m:\n\u001b[0;32m---> 65\u001b[0m     \u001b[38;5;28;01mreturn\u001b[39;00m \u001b[43mfn\u001b[49m\u001b[43m(\u001b[49m\u001b[38;5;241;43m*\u001b[39;49m\u001b[43margs\u001b[49m\u001b[43m,\u001b[49m\u001b[43m \u001b[49m\u001b[38;5;241;43m*\u001b[39;49m\u001b[38;5;241;43m*\u001b[39;49m\u001b[43mkwargs\u001b[49m\u001b[43m)\u001b[49m\n\u001b[1;32m     66\u001b[0m \u001b[38;5;28;01mexcept\u001b[39;00m \u001b[38;5;167;01mException\u001b[39;00m \u001b[38;5;28;01mas\u001b[39;00m e:\n\u001b[1;32m     67\u001b[0m     filtered_tb \u001b[38;5;241m=\u001b[39m _process_traceback_frames(e\u001b[38;5;241m.\u001b[39m__traceback__)\n",
      "File \u001b[0;32m~/.local/lib/python3.10/site-packages/keras/src/engine/training.py:2296\u001b[0m, in \u001b[0;36mModel.evaluate\u001b[0;34m(self, x, y, batch_size, verbose, sample_weight, steps, callbacks, max_queue_size, workers, use_multiprocessing, return_dict, **kwargs)\u001b[0m\n\u001b[1;32m   2292\u001b[0m             \u001b[38;5;28;01mwith\u001b[39;00m tf\u001b[38;5;241m.\u001b[39mprofiler\u001b[38;5;241m.\u001b[39mexperimental\u001b[38;5;241m.\u001b[39mTrace(\n\u001b[1;32m   2293\u001b[0m                 \u001b[38;5;124m\"\u001b[39m\u001b[38;5;124mtest\u001b[39m\u001b[38;5;124m\"\u001b[39m, step_num\u001b[38;5;241m=\u001b[39mstep, _r\u001b[38;5;241m=\u001b[39m\u001b[38;5;241m1\u001b[39m\n\u001b[1;32m   2294\u001b[0m             ):\n\u001b[1;32m   2295\u001b[0m                 callbacks\u001b[38;5;241m.\u001b[39mon_test_batch_begin(step)\n\u001b[0;32m-> 2296\u001b[0m                 logs \u001b[38;5;241m=\u001b[39m \u001b[43mtest_function_runner\u001b[49m\u001b[38;5;241;43m.\u001b[39;49m\u001b[43mrun_step\u001b[49m\u001b[43m(\u001b[49m\n\u001b[1;32m   2297\u001b[0m \u001b[43m                    \u001b[49m\u001b[43mdataset_or_iterator\u001b[49m\u001b[43m,\u001b[49m\n\u001b[1;32m   2298\u001b[0m \u001b[43m                    \u001b[49m\u001b[43mdata_handler\u001b[49m\u001b[43m,\u001b[49m\n\u001b[1;32m   2299\u001b[0m \u001b[43m                    \u001b[49m\u001b[43mstep\u001b[49m\u001b[43m,\u001b[49m\n\u001b[1;32m   2300\u001b[0m \u001b[43m                    \u001b[49m\u001b[38;5;28;43mself\u001b[39;49m\u001b[38;5;241;43m.\u001b[39;49m\u001b[43m_pss_evaluation_shards\u001b[49m\u001b[43m,\u001b[49m\n\u001b[1;32m   2301\u001b[0m \u001b[43m                \u001b[49m\u001b[43m)\u001b[49m\n\u001b[1;32m   2303\u001b[0m logs \u001b[38;5;241m=\u001b[39m tf_utils\u001b[38;5;241m.\u001b[39msync_to_numpy_or_python_type(logs)\n\u001b[1;32m   2304\u001b[0m \u001b[38;5;66;03m# Override with model metrics instead of last step logs\u001b[39;00m\n",
      "File \u001b[0;32m~/.local/lib/python3.10/site-packages/keras/src/engine/training.py:4108\u001b[0m, in \u001b[0;36m_TestFunction.run_step\u001b[0;34m(self, dataset_or_iterator, data_handler, step, unused_shards)\u001b[0m\n\u001b[1;32m   4107\u001b[0m \u001b[38;5;28;01mdef\u001b[39;00m \u001b[38;5;21mrun_step\u001b[39m(\u001b[38;5;28mself\u001b[39m, dataset_or_iterator, data_handler, step, unused_shards):\n\u001b[0;32m-> 4108\u001b[0m     tmp_logs \u001b[38;5;241m=\u001b[39m \u001b[38;5;28;43mself\u001b[39;49m\u001b[38;5;241;43m.\u001b[39;49m\u001b[43m_function\u001b[49m\u001b[43m(\u001b[49m\u001b[43mdataset_or_iterator\u001b[49m\u001b[43m)\u001b[49m\n\u001b[1;32m   4109\u001b[0m     \u001b[38;5;28;01mif\u001b[39;00m data_handler\u001b[38;5;241m.\u001b[39mshould_sync:\n\u001b[1;32m   4110\u001b[0m         context\u001b[38;5;241m.\u001b[39masync_wait()\n",
      "File \u001b[0;32m~/.local/lib/python3.10/site-packages/tensorflow/python/util/traceback_utils.py:150\u001b[0m, in \u001b[0;36mfilter_traceback.<locals>.error_handler\u001b[0;34m(*args, **kwargs)\u001b[0m\n\u001b[1;32m    148\u001b[0m filtered_tb \u001b[38;5;241m=\u001b[39m \u001b[38;5;28;01mNone\u001b[39;00m\n\u001b[1;32m    149\u001b[0m \u001b[38;5;28;01mtry\u001b[39;00m:\n\u001b[0;32m--> 150\u001b[0m   \u001b[38;5;28;01mreturn\u001b[39;00m \u001b[43mfn\u001b[49m\u001b[43m(\u001b[49m\u001b[38;5;241;43m*\u001b[39;49m\u001b[43margs\u001b[49m\u001b[43m,\u001b[49m\u001b[43m \u001b[49m\u001b[38;5;241;43m*\u001b[39;49m\u001b[38;5;241;43m*\u001b[39;49m\u001b[43mkwargs\u001b[49m\u001b[43m)\u001b[49m\n\u001b[1;32m    151\u001b[0m \u001b[38;5;28;01mexcept\u001b[39;00m \u001b[38;5;167;01mException\u001b[39;00m \u001b[38;5;28;01mas\u001b[39;00m e:\n\u001b[1;32m    152\u001b[0m   filtered_tb \u001b[38;5;241m=\u001b[39m _process_traceback_frames(e\u001b[38;5;241m.\u001b[39m__traceback__)\n",
      "File \u001b[0;32m~/.local/lib/python3.10/site-packages/tensorflow/python/eager/polymorphic_function/polymorphic_function.py:832\u001b[0m, in \u001b[0;36mFunction.__call__\u001b[0;34m(self, *args, **kwds)\u001b[0m\n\u001b[1;32m    829\u001b[0m compiler \u001b[38;5;241m=\u001b[39m \u001b[38;5;124m\"\u001b[39m\u001b[38;5;124mxla\u001b[39m\u001b[38;5;124m\"\u001b[39m \u001b[38;5;28;01mif\u001b[39;00m \u001b[38;5;28mself\u001b[39m\u001b[38;5;241m.\u001b[39m_jit_compile \u001b[38;5;28;01melse\u001b[39;00m \u001b[38;5;124m\"\u001b[39m\u001b[38;5;124mnonXla\u001b[39m\u001b[38;5;124m\"\u001b[39m\n\u001b[1;32m    831\u001b[0m \u001b[38;5;28;01mwith\u001b[39;00m OptionalXlaContext(\u001b[38;5;28mself\u001b[39m\u001b[38;5;241m.\u001b[39m_jit_compile):\n\u001b[0;32m--> 832\u001b[0m   result \u001b[38;5;241m=\u001b[39m \u001b[38;5;28;43mself\u001b[39;49m\u001b[38;5;241;43m.\u001b[39;49m\u001b[43m_call\u001b[49m\u001b[43m(\u001b[49m\u001b[38;5;241;43m*\u001b[39;49m\u001b[43margs\u001b[49m\u001b[43m,\u001b[49m\u001b[43m \u001b[49m\u001b[38;5;241;43m*\u001b[39;49m\u001b[38;5;241;43m*\u001b[39;49m\u001b[43mkwds\u001b[49m\u001b[43m)\u001b[49m\n\u001b[1;32m    834\u001b[0m new_tracing_count \u001b[38;5;241m=\u001b[39m \u001b[38;5;28mself\u001b[39m\u001b[38;5;241m.\u001b[39mexperimental_get_tracing_count()\n\u001b[1;32m    835\u001b[0m without_tracing \u001b[38;5;241m=\u001b[39m (tracing_count \u001b[38;5;241m==\u001b[39m new_tracing_count)\n",
      "File \u001b[0;32m~/.local/lib/python3.10/site-packages/tensorflow/python/eager/polymorphic_function/polymorphic_function.py:877\u001b[0m, in \u001b[0;36mFunction._call\u001b[0;34m(self, *args, **kwds)\u001b[0m\n\u001b[1;32m    874\u001b[0m \u001b[38;5;28mself\u001b[39m\u001b[38;5;241m.\u001b[39m_lock\u001b[38;5;241m.\u001b[39mrelease()\n\u001b[1;32m    875\u001b[0m \u001b[38;5;66;03m# In this case we have not created variables on the first call. So we can\u001b[39;00m\n\u001b[1;32m    876\u001b[0m \u001b[38;5;66;03m# run the first trace but we should fail if variables are created.\u001b[39;00m\n\u001b[0;32m--> 877\u001b[0m results \u001b[38;5;241m=\u001b[39m \u001b[43mtracing_compilation\u001b[49m\u001b[38;5;241;43m.\u001b[39;49m\u001b[43mcall_function\u001b[49m\u001b[43m(\u001b[49m\n\u001b[1;32m    878\u001b[0m \u001b[43m    \u001b[49m\u001b[43margs\u001b[49m\u001b[43m,\u001b[49m\u001b[43m \u001b[49m\u001b[43mkwds\u001b[49m\u001b[43m,\u001b[49m\u001b[43m \u001b[49m\u001b[38;5;28;43mself\u001b[39;49m\u001b[38;5;241;43m.\u001b[39;49m\u001b[43m_variable_creation_config\u001b[49m\n\u001b[1;32m    879\u001b[0m \u001b[43m\u001b[49m\u001b[43m)\u001b[49m\n\u001b[1;32m    880\u001b[0m \u001b[38;5;28;01mif\u001b[39;00m \u001b[38;5;28mself\u001b[39m\u001b[38;5;241m.\u001b[39m_created_variables:\n\u001b[1;32m    881\u001b[0m   \u001b[38;5;28;01mraise\u001b[39;00m \u001b[38;5;167;01mValueError\u001b[39;00m(\u001b[38;5;124m\"\u001b[39m\u001b[38;5;124mCreating variables on a non-first call to a function\u001b[39m\u001b[38;5;124m\"\u001b[39m\n\u001b[1;32m    882\u001b[0m                    \u001b[38;5;124m\"\u001b[39m\u001b[38;5;124m decorated with tf.function.\u001b[39m\u001b[38;5;124m\"\u001b[39m)\n",
      "File \u001b[0;32m~/.local/lib/python3.10/site-packages/tensorflow/python/eager/polymorphic_function/tracing_compilation.py:139\u001b[0m, in \u001b[0;36mcall_function\u001b[0;34m(args, kwargs, tracing_options)\u001b[0m\n\u001b[1;32m    137\u001b[0m bound_args \u001b[38;5;241m=\u001b[39m function\u001b[38;5;241m.\u001b[39mfunction_type\u001b[38;5;241m.\u001b[39mbind(\u001b[38;5;241m*\u001b[39margs, \u001b[38;5;241m*\u001b[39m\u001b[38;5;241m*\u001b[39mkwargs)\n\u001b[1;32m    138\u001b[0m flat_inputs \u001b[38;5;241m=\u001b[39m function\u001b[38;5;241m.\u001b[39mfunction_type\u001b[38;5;241m.\u001b[39munpack_inputs(bound_args)\n\u001b[0;32m--> 139\u001b[0m \u001b[38;5;28;01mreturn\u001b[39;00m \u001b[43mfunction\u001b[49m\u001b[38;5;241;43m.\u001b[39;49m\u001b[43m_call_flat\u001b[49m\u001b[43m(\u001b[49m\u001b[43m  \u001b[49m\u001b[38;5;66;43;03m# pylint: disable=protected-access\u001b[39;49;00m\n\u001b[1;32m    140\u001b[0m \u001b[43m    \u001b[49m\u001b[43mflat_inputs\u001b[49m\u001b[43m,\u001b[49m\u001b[43m \u001b[49m\u001b[43mcaptured_inputs\u001b[49m\u001b[38;5;241;43m=\u001b[39;49m\u001b[43mfunction\u001b[49m\u001b[38;5;241;43m.\u001b[39;49m\u001b[43mcaptured_inputs\u001b[49m\n\u001b[1;32m    141\u001b[0m \u001b[43m\u001b[49m\u001b[43m)\u001b[49m\n",
      "File \u001b[0;32m~/.local/lib/python3.10/site-packages/tensorflow/python/eager/polymorphic_function/concrete_function.py:1323\u001b[0m, in \u001b[0;36mConcreteFunction._call_flat\u001b[0;34m(self, tensor_inputs, captured_inputs)\u001b[0m\n\u001b[1;32m   1319\u001b[0m possible_gradient_type \u001b[38;5;241m=\u001b[39m gradients_util\u001b[38;5;241m.\u001b[39mPossibleTapeGradientTypes(args)\n\u001b[1;32m   1320\u001b[0m \u001b[38;5;28;01mif\u001b[39;00m (possible_gradient_type \u001b[38;5;241m==\u001b[39m gradients_util\u001b[38;5;241m.\u001b[39mPOSSIBLE_GRADIENT_TYPES_NONE\n\u001b[1;32m   1321\u001b[0m     \u001b[38;5;129;01mand\u001b[39;00m executing_eagerly):\n\u001b[1;32m   1322\u001b[0m   \u001b[38;5;66;03m# No tape is watching; skip to running the function.\u001b[39;00m\n\u001b[0;32m-> 1323\u001b[0m   \u001b[38;5;28;01mreturn\u001b[39;00m \u001b[38;5;28;43mself\u001b[39;49m\u001b[38;5;241;43m.\u001b[39;49m\u001b[43m_inference_function\u001b[49m\u001b[38;5;241;43m.\u001b[39;49m\u001b[43mcall_preflattened\u001b[49m\u001b[43m(\u001b[49m\u001b[43margs\u001b[49m\u001b[43m)\u001b[49m\n\u001b[1;32m   1324\u001b[0m forward_backward \u001b[38;5;241m=\u001b[39m \u001b[38;5;28mself\u001b[39m\u001b[38;5;241m.\u001b[39m_select_forward_and_backward_functions(\n\u001b[1;32m   1325\u001b[0m     args,\n\u001b[1;32m   1326\u001b[0m     possible_gradient_type,\n\u001b[1;32m   1327\u001b[0m     executing_eagerly)\n\u001b[1;32m   1328\u001b[0m forward_function, args_with_tangents \u001b[38;5;241m=\u001b[39m forward_backward\u001b[38;5;241m.\u001b[39mforward()\n",
      "File \u001b[0;32m~/.local/lib/python3.10/site-packages/tensorflow/python/eager/polymorphic_function/atomic_function.py:216\u001b[0m, in \u001b[0;36mAtomicFunction.call_preflattened\u001b[0;34m(self, args)\u001b[0m\n\u001b[1;32m    214\u001b[0m \u001b[38;5;28;01mdef\u001b[39;00m \u001b[38;5;21mcall_preflattened\u001b[39m(\u001b[38;5;28mself\u001b[39m, args: Sequence[core\u001b[38;5;241m.\u001b[39mTensor]) \u001b[38;5;241m-\u001b[39m\u001b[38;5;241m>\u001b[39m Any:\n\u001b[1;32m    215\u001b[0m \u001b[38;5;250m  \u001b[39m\u001b[38;5;124;03m\"\"\"Calls with flattened tensor inputs and returns the structured output.\"\"\"\u001b[39;00m\n\u001b[0;32m--> 216\u001b[0m   flat_outputs \u001b[38;5;241m=\u001b[39m \u001b[38;5;28;43mself\u001b[39;49m\u001b[38;5;241;43m.\u001b[39;49m\u001b[43mcall_flat\u001b[49m\u001b[43m(\u001b[49m\u001b[38;5;241;43m*\u001b[39;49m\u001b[43margs\u001b[49m\u001b[43m)\u001b[49m\n\u001b[1;32m    217\u001b[0m   \u001b[38;5;28;01mreturn\u001b[39;00m \u001b[38;5;28mself\u001b[39m\u001b[38;5;241m.\u001b[39mfunction_type\u001b[38;5;241m.\u001b[39mpack_output(flat_outputs)\n",
      "File \u001b[0;32m~/.local/lib/python3.10/site-packages/tensorflow/python/eager/polymorphic_function/atomic_function.py:251\u001b[0m, in \u001b[0;36mAtomicFunction.call_flat\u001b[0;34m(self, *args)\u001b[0m\n\u001b[1;32m    249\u001b[0m \u001b[38;5;28;01mwith\u001b[39;00m record\u001b[38;5;241m.\u001b[39mstop_recording():\n\u001b[1;32m    250\u001b[0m   \u001b[38;5;28;01mif\u001b[39;00m \u001b[38;5;28mself\u001b[39m\u001b[38;5;241m.\u001b[39m_bound_context\u001b[38;5;241m.\u001b[39mexecuting_eagerly():\n\u001b[0;32m--> 251\u001b[0m     outputs \u001b[38;5;241m=\u001b[39m \u001b[38;5;28;43mself\u001b[39;49m\u001b[38;5;241;43m.\u001b[39;49m\u001b[43m_bound_context\u001b[49m\u001b[38;5;241;43m.\u001b[39;49m\u001b[43mcall_function\u001b[49m\u001b[43m(\u001b[49m\n\u001b[1;32m    252\u001b[0m \u001b[43m        \u001b[49m\u001b[38;5;28;43mself\u001b[39;49m\u001b[38;5;241;43m.\u001b[39;49m\u001b[43mname\u001b[49m\u001b[43m,\u001b[49m\n\u001b[1;32m    253\u001b[0m \u001b[43m        \u001b[49m\u001b[38;5;28;43mlist\u001b[39;49m\u001b[43m(\u001b[49m\u001b[43margs\u001b[49m\u001b[43m)\u001b[49m\u001b[43m,\u001b[49m\n\u001b[1;32m    254\u001b[0m \u001b[43m        \u001b[49m\u001b[38;5;28;43mlen\u001b[39;49m\u001b[43m(\u001b[49m\u001b[38;5;28;43mself\u001b[39;49m\u001b[38;5;241;43m.\u001b[39;49m\u001b[43mfunction_type\u001b[49m\u001b[38;5;241;43m.\u001b[39;49m\u001b[43mflat_outputs\u001b[49m\u001b[43m)\u001b[49m\u001b[43m,\u001b[49m\n\u001b[1;32m    255\u001b[0m \u001b[43m    \u001b[49m\u001b[43m)\u001b[49m\n\u001b[1;32m    256\u001b[0m   \u001b[38;5;28;01melse\u001b[39;00m:\n\u001b[1;32m    257\u001b[0m     outputs \u001b[38;5;241m=\u001b[39m make_call_op_in_graph(\n\u001b[1;32m    258\u001b[0m         \u001b[38;5;28mself\u001b[39m,\n\u001b[1;32m    259\u001b[0m         \u001b[38;5;28mlist\u001b[39m(args),\n\u001b[1;32m    260\u001b[0m         \u001b[38;5;28mself\u001b[39m\u001b[38;5;241m.\u001b[39m_bound_context\u001b[38;5;241m.\u001b[39mfunction_call_options\u001b[38;5;241m.\u001b[39mas_attrs(),\n\u001b[1;32m    261\u001b[0m     )\n",
      "File \u001b[0;32m~/.local/lib/python3.10/site-packages/tensorflow/python/eager/context.py:1486\u001b[0m, in \u001b[0;36mContext.call_function\u001b[0;34m(self, name, tensor_inputs, num_outputs)\u001b[0m\n\u001b[1;32m   1484\u001b[0m cancellation_context \u001b[38;5;241m=\u001b[39m cancellation\u001b[38;5;241m.\u001b[39mcontext()\n\u001b[1;32m   1485\u001b[0m \u001b[38;5;28;01mif\u001b[39;00m cancellation_context \u001b[38;5;129;01mis\u001b[39;00m \u001b[38;5;28;01mNone\u001b[39;00m:\n\u001b[0;32m-> 1486\u001b[0m   outputs \u001b[38;5;241m=\u001b[39m \u001b[43mexecute\u001b[49m\u001b[38;5;241;43m.\u001b[39;49m\u001b[43mexecute\u001b[49m\u001b[43m(\u001b[49m\n\u001b[1;32m   1487\u001b[0m \u001b[43m      \u001b[49m\u001b[43mname\u001b[49m\u001b[38;5;241;43m.\u001b[39;49m\u001b[43mdecode\u001b[49m\u001b[43m(\u001b[49m\u001b[38;5;124;43m\"\u001b[39;49m\u001b[38;5;124;43mutf-8\u001b[39;49m\u001b[38;5;124;43m\"\u001b[39;49m\u001b[43m)\u001b[49m\u001b[43m,\u001b[49m\n\u001b[1;32m   1488\u001b[0m \u001b[43m      \u001b[49m\u001b[43mnum_outputs\u001b[49m\u001b[38;5;241;43m=\u001b[39;49m\u001b[43mnum_outputs\u001b[49m\u001b[43m,\u001b[49m\n\u001b[1;32m   1489\u001b[0m \u001b[43m      \u001b[49m\u001b[43minputs\u001b[49m\u001b[38;5;241;43m=\u001b[39;49m\u001b[43mtensor_inputs\u001b[49m\u001b[43m,\u001b[49m\n\u001b[1;32m   1490\u001b[0m \u001b[43m      \u001b[49m\u001b[43mattrs\u001b[49m\u001b[38;5;241;43m=\u001b[39;49m\u001b[43mattrs\u001b[49m\u001b[43m,\u001b[49m\n\u001b[1;32m   1491\u001b[0m \u001b[43m      \u001b[49m\u001b[43mctx\u001b[49m\u001b[38;5;241;43m=\u001b[39;49m\u001b[38;5;28;43mself\u001b[39;49m\u001b[43m,\u001b[49m\n\u001b[1;32m   1492\u001b[0m \u001b[43m  \u001b[49m\u001b[43m)\u001b[49m\n\u001b[1;32m   1493\u001b[0m \u001b[38;5;28;01melse\u001b[39;00m:\n\u001b[1;32m   1494\u001b[0m   outputs \u001b[38;5;241m=\u001b[39m execute\u001b[38;5;241m.\u001b[39mexecute_with_cancellation(\n\u001b[1;32m   1495\u001b[0m       name\u001b[38;5;241m.\u001b[39mdecode(\u001b[38;5;124m\"\u001b[39m\u001b[38;5;124mutf-8\u001b[39m\u001b[38;5;124m\"\u001b[39m),\n\u001b[1;32m   1496\u001b[0m       num_outputs\u001b[38;5;241m=\u001b[39mnum_outputs,\n\u001b[0;32m   (...)\u001b[0m\n\u001b[1;32m   1500\u001b[0m       cancellation_manager\u001b[38;5;241m=\u001b[39mcancellation_context,\n\u001b[1;32m   1501\u001b[0m   )\n",
      "File \u001b[0;32m~/.local/lib/python3.10/site-packages/tensorflow/python/eager/execute.py:53\u001b[0m, in \u001b[0;36mquick_execute\u001b[0;34m(op_name, num_outputs, inputs, attrs, ctx, name)\u001b[0m\n\u001b[1;32m     51\u001b[0m \u001b[38;5;28;01mtry\u001b[39;00m:\n\u001b[1;32m     52\u001b[0m   ctx\u001b[38;5;241m.\u001b[39mensure_initialized()\n\u001b[0;32m---> 53\u001b[0m   tensors \u001b[38;5;241m=\u001b[39m \u001b[43mpywrap_tfe\u001b[49m\u001b[38;5;241;43m.\u001b[39;49m\u001b[43mTFE_Py_Execute\u001b[49m\u001b[43m(\u001b[49m\u001b[43mctx\u001b[49m\u001b[38;5;241;43m.\u001b[39;49m\u001b[43m_handle\u001b[49m\u001b[43m,\u001b[49m\u001b[43m \u001b[49m\u001b[43mdevice_name\u001b[49m\u001b[43m,\u001b[49m\u001b[43m \u001b[49m\u001b[43mop_name\u001b[49m\u001b[43m,\u001b[49m\n\u001b[1;32m     54\u001b[0m \u001b[43m                                      \u001b[49m\u001b[43minputs\u001b[49m\u001b[43m,\u001b[49m\u001b[43m \u001b[49m\u001b[43mattrs\u001b[49m\u001b[43m,\u001b[49m\u001b[43m \u001b[49m\u001b[43mnum_outputs\u001b[49m\u001b[43m)\u001b[49m\n\u001b[1;32m     55\u001b[0m \u001b[38;5;28;01mexcept\u001b[39;00m core\u001b[38;5;241m.\u001b[39m_NotOkStatusException \u001b[38;5;28;01mas\u001b[39;00m e:\n\u001b[1;32m     56\u001b[0m   \u001b[38;5;28;01mif\u001b[39;00m name \u001b[38;5;129;01mis\u001b[39;00m \u001b[38;5;129;01mnot\u001b[39;00m \u001b[38;5;28;01mNone\u001b[39;00m:\n",
      "\u001b[0;31mKeyboardInterrupt\u001b[0m: "
     ]
    }
   ],
   "source": [
    "history = transformer.fit(train_batches_short, epochs=200, validation_data=val_batches_short, callbacks=[text_gen_callback])"
   ]
  },
  {
   "cell_type": "code",
   "execution_count": 74,
   "id": "b88c2436",
   "metadata": {},
   "outputs": [
    {
     "name": "stdout",
     "output_type": "stream",
     "text": [
      "Model: \"transformer\"\n",
      "_________________________________________________________________\n",
      " Layer (type)                Output Shape              Param #   \n",
      "=================================================================\n",
      " decoder_1 (Decoder)         multiple                  6478848   \n",
      "                                                                 \n",
      " dense_16 (Dense)            multiple                  3870000   \n",
      "                                                                 \n",
      "=================================================================\n",
      "Total params: 10348848 (39.48 MB)\n",
      "Trainable params: 10348848 (39.48 MB)\n",
      "Non-trainable params: 0 (0.00 Byte)\n",
      "_________________________________________________________________\n"
     ]
    }
   ],
   "source": [
    "transformer.summary()"
   ]
  },
  {
   "cell_type": "code",
   "execution_count": null,
   "id": "f4fb6fdf",
   "metadata": {},
   "outputs": [],
   "source": [
    "metrics_df = pd.DataFrame(history.history)\n",
    "metrics_df[[\"loss\", \"val_loss\"]].plot()\n",
    "metrics_df[[\"masked_accuracy\", \"val_masked_accuracy\"]].plot()"
   ]
  },
  {
   "cell_type": "markdown",
   "id": "ab365179",
   "metadata": {},
   "source": [
    "# Generate"
   ]
  },
  {
   "cell_type": "code",
   "execution_count": 79,
   "id": "09b509c3",
   "metadata": {},
   "outputs": [],
   "source": [
    "class Generator(tf.Module):\n",
    "    def __init__(\n",
    "        self,\n",
    "        tokenizer,\n",
    "        vocabulary,\n",
    "        transformer,\n",
    "        max_new_tokens,\n",
    "        temperature=0.0,\n",
    "    ):\n",
    "        self.tokenizer = tokenizer\n",
    "        self.transformer = transformer\n",
    "        self.vocabulary = vocabulary\n",
    "        self.max_new_tokens = max_new_tokens\n",
    "        self.temperature = temperature\n",
    "\n",
    "    def __call__(self, sentence, max_length=MAX_TOKENS):\n",
    "        '''if vectorization == subword tokenizer'''\n",
    "        # sentence = tf.convert_to_tensor(sentence)\n",
    "        # sentence = tf.reshape(sentence, [1, ])\n",
    "        # sentence = self.tokenizer.tokenize(sentence)\n",
    "        # sentence = tf.reshape(sentence, [1, -1])\n",
    "\n",
    "        '''if vectorization == keras'''\n",
    "        sentence = self.tokenizer(sentence)\n",
    "        sentence = tf.expand_dims(sentence, axis=0)\n",
    "\n",
    "      \n",
    "        encoder_input = sentence\n",
    "\n",
    "        # `tf.TensorArray` is required here (instead of a Python list), so that the\n",
    "        # dynamic-loop can be traced by `tf.function`.\n",
    "        output_array = tf.TensorArray(dtype=tf.int64, size=0, dynamic_size=True)\n",
    "\n",
    "        print(f\"Generating {self.max_new_tokens} tokens\")\n",
    "        for i in tf.range(self.max_new_tokens):\n",
    "            output = tf.transpose(output_array.stack())\n",
    "            predictions = self.transformer(encoder_input, training=False)\n",
    "\n",
    "            # Select the last token from the `seq_len` dimension.\n",
    "            predictions = predictions[:, -1:, :]  # Shape `(batch_size, 1, vocab_size)`.\n",
    "            if self.temperature == 0.0:\n",
    "                # greedy sampling, output always the same\n",
    "                predicted_id = tf.argmax(predictions, axis=-1)\n",
    "            else:\n",
    "                predictions = predictions / self.temperature\n",
    "                predicted_id = tf.random.categorical(predictions[0], num_samples=1)\n",
    "\n",
    "            # Concatenate the `predicted_id` to the output which is given to the\n",
    "            # decoder as its input.\n",
    "            output_array = output_array.write(i + 1, predicted_id[0])\n",
    "            encoder_input = tf.experimental.numpy.append(encoder_input, predicted_id[0])\n",
    "            encoder_input = tf.expand_dims(encoder_input, axis=0)\n",
    "\n",
    "        output = tf.transpose(output_array.stack())\n",
    "        # The output shape is `(1, tokens)`.\n",
    "        id_to_word = tf.keras.layers.StringLookup(\n",
    "            vocabulary=self.vocabulary, invert=True,) # mask_token=\"\", oov_token=\"[UNK]\" )\n",
    "\n",
    "        print(f\"Using temperature of {self.temperature}\")\n",
    "        text = id_to_word(output)\n",
    "        tokens = output\n",
    "\n",
    "        # `tf.function` prevents us from using the attention_weights that were\n",
    "        # calculated on the last iteration of the loop.\n",
    "        # So, recalculate them outside the loop.\n",
    "        self.transformer(output[:, :-1], training=False)\n",
    "        attention_weights = self.transformer.decoder.last_attn_scores\n",
    "\n",
    "        return text, tokens, attention_weights"
   ]
  },
  {
   "cell_type": "code",
   "execution_count": 89,
   "id": "07ec4ab8",
   "metadata": {},
   "outputs": [],
   "source": [
    "new_vocab = vocabulary_keras"
   ]
  },
  {
   "cell_type": "code",
   "execution_count": null,
   "id": "481df756",
   "metadata": {},
   "outputs": [],
   "source": [
    "# new_vocab = new_vocab.numpy()\n",
    "new_vocab[0] = '[UNK]'\n",
    "new_vocab[1] = ''\n",
    "# Первые элементы словаря необходимо заменить"
   ]
  },
  {
   "cell_type": "code",
   "execution_count": null,
   "id": "3f1433fe",
   "metadata": {},
   "outputs": [],
   "source": [
    "# new_vocab = tf.convert_to_tensor(new_vocab)\n",
    "# new_vocab.shape"
   ]
  },
  {
   "cell_type": "code",
   "execution_count": 72,
   "id": "f771b39a",
   "metadata": {},
   "outputs": [],
   "source": [
    "def cleanup_text(reserved_tokens, token_txt):\n",
    "  # Drop the reserved tokens, except for \"[UNK]\".\n",
    "  bad_tokens = [re.escape(tok) for tok in reserved_tokens if tok != \"[UNK]\"]\n",
    "  bad_token_re = \"|\".join(bad_tokens)\n",
    "\n",
    "  bad_cells = tf.strings.regex_full_match(token_txt, bad_token_re)\n",
    "  result = tf.ragged.boolean_mask(token_txt, ~bad_cells)\n",
    "\n",
    "  # Join them into strings.\n",
    "  result = tf.strings.reduce_join(result, separator=' ', axis=-1)\n",
    "\n",
    "  return result"
   ]
  },
  {
   "cell_type": "code",
   "execution_count": 106,
   "id": "f33eec7f",
   "metadata": {},
   "outputs": [
    {
     "name": "stdout",
     "output_type": "stream",
     "text": [
      "Generating 50 tokens\n",
      "Using temperature of 0.92\n",
      "Input:         : Злобный рыцарь\n",
      "Generation     :\n",
      " [UNK] очень    творятся трехкратной защиту узнали  по которой либо было  и  не   от парапета а  в них видрон по спине лорда галена  по  между  и жителями веллена веллена на заметил что король маршала видрона до сих пор не была\n"
     ]
    }
   ],
   "source": [
    "max_new_tokens = 50\n",
    "temperature = 0.92\n",
    "'''Для генерации с токенайзером'''\n",
    "# generator = Generator(\n",
    "#     tokenizers.ru, new_vocab, transformer, max_new_tokens, temperature, \n",
    "# )\n",
    "'''Для генерации с векторизатором'''\n",
    "generator = Generator(\n",
    "    vectorize_layer, new_vocab, transformer, max_new_tokens, temperature, \n",
    ")\n",
    "def print_generation(sentence, generated_text):\n",
    "    print(f'{\"Input:\":15s}: {sentence}')\n",
    "    print(f'{\"Generation\":15s}:')\n",
    "    result = ''\n",
    "    for i in generated_text.numpy():\n",
    "        for u in i:\n",
    "            result += ' ' + u.decode('utf-8')\n",
    "    # print(cleanup_text(['[UNK]', '[END]'], result))\n",
    "        print(result)\n",
    "    # print(f'{\"Generation\":15s}: {generated_text}')\n",
    "sentence = \"Злобный рыцарь\"\n",
    "generated_text, generated_tokens, attention_weights = generator(sentence)\n",
    "print_generation(sentence, generated_text)"
   ]
  },
  {
   "cell_type": "code",
   "execution_count": 103,
   "id": "7127413e",
   "metadata": {},
   "outputs": [],
   "source": [
    "import os\n",
    "checkpoint_path = \"/home/darya/Документы/Programm_things/chekpoint_120 epochs/cp.ckpt\"\n",
    "checkpoint_dir = os.path.dirname(checkpoint_path)\n",
    "\n",
    "transformer.save_weights(checkpoint_dir)"
   ]
  }
 ],
 "metadata": {
  "kernelspec": {
   "display_name": "Python 3 (ipykernel)",
   "language": "python",
   "name": "python3"
  },
  "language_info": {
   "codemirror_mode": {
    "name": "ipython",
    "version": 3
   },
   "file_extension": ".py",
   "mimetype": "text/x-python",
   "name": "python",
   "nbconvert_exporter": "python",
   "pygments_lexer": "ipython3",
   "version": "3.10.12"
  }
 },
 "nbformat": 4,
 "nbformat_minor": 5
}
