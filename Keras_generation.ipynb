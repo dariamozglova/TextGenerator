{
 "cells": [
  {
   "cell_type": "markdown",
   "id": "326db295",
   "metadata": {},
   "source": [
    "## Check GPU enabled"
   ]
  },
  {
   "cell_type": "code",
   "execution_count": 1,
   "id": "7ef45530",
   "metadata": {},
   "outputs": [
    {
     "name": "stderr",
     "output_type": "stream",
     "text": [
      "2024-03-22 10:24:12.837885: E external/local_xla/xla/stream_executor/cuda/cuda_dnn.cc:9261] Unable to register cuDNN factory: Attempting to register factory for plugin cuDNN when one has already been registered\n",
      "2024-03-22 10:24:12.837926: E external/local_xla/xla/stream_executor/cuda/cuda_fft.cc:607] Unable to register cuFFT factory: Attempting to register factory for plugin cuFFT when one has already been registered\n",
      "2024-03-22 10:24:12.838729: E external/local_xla/xla/stream_executor/cuda/cuda_blas.cc:1515] Unable to register cuBLAS factory: Attempting to register factory for plugin cuBLAS when one has already been registered\n",
      "2024-03-22 10:24:12.844253: I tensorflow/core/platform/cpu_feature_guard.cc:182] This TensorFlow binary is optimized to use available CPU instructions in performance-critical operations.\n",
      "To enable the following instructions: AVX2 FMA, in other operations, rebuild TensorFlow with the appropriate compiler flags.\n",
      "2024-03-22 10:24:13.474756: W tensorflow/compiler/tf2tensorrt/utils/py_utils.cc:38] TF-TRT Warning: Could not find TensorRT\n"
     ]
    },
    {
     "name": "stdout",
     "output_type": "stream",
     "text": [
      "['/device:CPU:0', '/device:GPU:0']\n"
     ]
    },
    {
     "name": "stderr",
     "output_type": "stream",
     "text": [
      "2024-03-22 10:24:14.009692: I external/local_xla/xla/stream_executor/cuda/cuda_executor.cc:901] successful NUMA node read from SysFS had negative value (-1), but there must be at least one NUMA node, so returning NUMA node zero. See more at https://github.com/torvalds/linux/blob/v6.0/Documentation/ABI/testing/sysfs-bus-pci#L344-L355\n",
      "2024-03-22 10:24:14.039565: I external/local_xla/xla/stream_executor/cuda/cuda_executor.cc:901] successful NUMA node read from SysFS had negative value (-1), but there must be at least one NUMA node, so returning NUMA node zero. See more at https://github.com/torvalds/linux/blob/v6.0/Documentation/ABI/testing/sysfs-bus-pci#L344-L355\n",
      "2024-03-22 10:24:14.039762: I external/local_xla/xla/stream_executor/cuda/cuda_executor.cc:901] successful NUMA node read from SysFS had negative value (-1), but there must be at least one NUMA node, so returning NUMA node zero. See more at https://github.com/torvalds/linux/blob/v6.0/Documentation/ABI/testing/sysfs-bus-pci#L344-L355\n",
      "2024-03-22 10:24:14.095626: I external/local_xla/xla/stream_executor/cuda/cuda_executor.cc:901] successful NUMA node read from SysFS had negative value (-1), but there must be at least one NUMA node, so returning NUMA node zero. See more at https://github.com/torvalds/linux/blob/v6.0/Documentation/ABI/testing/sysfs-bus-pci#L344-L355\n",
      "2024-03-22 10:24:14.095921: I external/local_xla/xla/stream_executor/cuda/cuda_executor.cc:901] successful NUMA node read from SysFS had negative value (-1), but there must be at least one NUMA node, so returning NUMA node zero. See more at https://github.com/torvalds/linux/blob/v6.0/Documentation/ABI/testing/sysfs-bus-pci#L344-L355\n",
      "2024-03-22 10:24:14.096089: I external/local_xla/xla/stream_executor/cuda/cuda_executor.cc:901] successful NUMA node read from SysFS had negative value (-1), but there must be at least one NUMA node, so returning NUMA node zero. See more at https://github.com/torvalds/linux/blob/v6.0/Documentation/ABI/testing/sysfs-bus-pci#L344-L355\n",
      "2024-03-22 10:24:14.096200: I tensorflow/core/common_runtime/gpu/gpu_device.cc:1929] Created device /device:GPU:0 with 2929 MB memory:  -> device: 0, name: NVIDIA GeForce GTX 1050 Ti, pci bus id: 0000:06:00.0, compute capability: 6.1\n"
     ]
    },
    {
     "data": {
      "text/plain": [
       "\"\\nshould be ['/device:CPU:0', '/device:GPU:0']\\nnot ['/device:CPU:0']\\n\""
      ]
     },
     "execution_count": 1,
     "metadata": {},
     "output_type": "execute_result"
    }
   ],
   "source": [
    "from tensorflow.python.client import device_lib\n",
    "\n",
    "def get_available_devices():\n",
    "    local_device_protos = device_lib.list_local_devices()\n",
    "    return [x.name for x in local_device_protos]\n",
    "\n",
    "print(get_available_devices())\n",
    "\n",
    "'''\n",
    "should be ['/device:CPU:0', '/device:GPU:0']\n",
    "not ['/device:CPU:0']\n",
    "'''"
   ]
  },
  {
   "cell_type": "markdown",
   "id": "03630a5a",
   "metadata": {},
   "source": [
    "# Imports"
   ]
  },
  {
   "cell_type": "code",
   "execution_count": 2,
   "id": "91d8159c",
   "metadata": {},
   "outputs": [],
   "source": [
    "import re"
   ]
  },
  {
   "cell_type": "code",
   "execution_count": 3,
   "id": "3ab5fbac",
   "metadata": {},
   "outputs": [],
   "source": [
    "import tensorflow as tf"
   ]
  },
  {
   "cell_type": "code",
   "execution_count": 4,
   "id": "3f24c5f3-091b-4ac2-8456-0aae15cea211",
   "metadata": {},
   "outputs": [],
   "source": [
    "from tensorflow import keras\n",
    "from tensorflow.keras.layers import TextVectorization\n",
    "from tensorflow.keras import layers\n",
    "from tensorflow import data"
   ]
  },
  {
   "cell_type": "code",
   "execution_count": 5,
   "id": "b5c2b609-887f-4d5a-99ae-5001fd4de362",
   "metadata": {},
   "outputs": [],
   "source": [
    "import pandas as pd\n",
    "import numpy as np"
   ]
  },
  {
   "cell_type": "code",
   "execution_count": 6,
   "id": "5d6e350e",
   "metadata": {},
   "outputs": [],
   "source": [
    "import pickle"
   ]
  },
  {
   "cell_type": "code",
   "execution_count": 7,
   "id": "9bf0b84d",
   "metadata": {},
   "outputs": [],
   "source": [
    "fant_data = pd.read_pickle('ipunb/fant_fin_data.xz')"
   ]
  },
  {
   "cell_type": "code",
   "execution_count": 8,
   "id": "6fbe0c80",
   "metadata": {},
   "outputs": [],
   "source": [
    "bestiary_su = pd.read_pickle(\"bestiary_ch_su.xz\")\n",
    "dnd_su = pd.read_pickle('ipunb/dnd_su.xz')\n",
    "zoo_data = pd.read_pickle('zoo_data.xz')\n",
    "zoo_data = zoo_data[['name', 'description']]"
   ]
  },
  {
   "cell_type": "code",
   "execution_count": 9,
   "id": "b5bcfff0",
   "metadata": {},
   "outputs": [],
   "source": [
    "dataset_huge = pd.read_csv('ipunb/for keras_fant/data_fant.txt')"
   ]
  },
  {
   "cell_type": "markdown",
   "id": "d6c7666b",
   "metadata": {},
   "source": [
    "# Prepare data"
   ]
  },
  {
   "cell_type": "markdown",
   "id": "1c215c89",
   "metadata": {},
   "source": [
    "## dataset 106k"
   ]
  },
  {
   "cell_type": "code",
   "execution_count": 10,
   "id": "b1057daf",
   "metadata": {},
   "outputs": [
    {
     "data": {
      "text/html": [
       "<div>\n",
       "<style scoped>\n",
       "    .dataframe tbody tr th:only-of-type {\n",
       "        vertical-align: middle;\n",
       "    }\n",
       "\n",
       "    .dataframe tbody tr th {\n",
       "        vertical-align: top;\n",
       "    }\n",
       "\n",
       "    .dataframe thead th {\n",
       "        text-align: right;\n",
       "    }\n",
       "</style>\n",
       "<table border=\"1\" class=\"dataframe\">\n",
       "  <thead>\n",
       "    <tr style=\"text-align: right;\">\n",
       "      <th></th>\n",
       "      <th>description</th>\n",
       "    </tr>\n",
       "  </thead>\n",
       "  <tbody>\n",
       "    <tr>\n",
       "      <th>0</th>\n",
       "      <td>множество творений дивных и странных оставалос...</td>\n",
       "    </tr>\n",
       "    <tr>\n",
       "      <th>1</th>\n",
       "      <td>агдалон мы все ждем тебя сейчас капитан сейча...</td>\n",
       "    </tr>\n",
       "    <tr>\n",
       "      <th>2</th>\n",
       "      <td>смерть глядит ему в самые очи и ухмыляется гн...</td>\n",
       "    </tr>\n",
       "    <tr>\n",
       "      <th>3</th>\n",
       "      <td>брызги уха разлетаются во все стороны гоблин ...</td>\n",
       "    </tr>\n",
       "    <tr>\n",
       "      <th>4</th>\n",
       "      <td>на кончике вяло загорается пламя затем хлопае...</td>\n",
       "    </tr>\n",
       "  </tbody>\n",
       "</table>\n",
       "</div>"
      ],
      "text/plain": [
       "                                         description\n",
       "0  множество творений дивных и странных оставалос...\n",
       "1   агдалон мы все ждем тебя сейчас капитан сейча...\n",
       "2   смерть глядит ему в самые очи и ухмыляется гн...\n",
       "3   брызги уха разлетаются во все стороны гоблин ...\n",
       "4   на кончике вяло загорается пламя затем хлопае..."
      ]
     },
     "execution_count": 10,
     "metadata": {},
     "output_type": "execute_result"
    }
   ],
   "source": [
    "dataset_huge.head()"
   ]
  },
  {
   "cell_type": "code",
   "execution_count": 11,
   "id": "79cd0ea4",
   "metadata": {},
   "outputs": [
    {
     "data": {
      "text/plain": [
       "(20000, 1)"
      ]
     },
     "execution_count": 11,
     "metadata": {},
     "output_type": "execute_result"
    }
   ],
   "source": [
    "dataset_20k = dataset_huge.iloc[:20000]\n",
    "dataset_20k.shape"
   ]
  },
  {
   "cell_type": "code",
   "execution_count": 12,
   "id": "2700e04c",
   "metadata": {},
   "outputs": [],
   "source": [
    "n = int(0.9 * len(dataset_20k))  # first 90% will be train, rest val\n",
    "train_examples_20k = dataset_20k[:n]\n",
    "val_examples_20k = dataset_20k[n:]"
   ]
  },
  {
   "cell_type": "code",
   "execution_count": 13,
   "id": "2ee9519d",
   "metadata": {},
   "outputs": [
    {
     "name": "stderr",
     "output_type": "stream",
     "text": [
      "2024-03-22 10:24:23.843167: I external/local_xla/xla/stream_executor/cuda/cuda_executor.cc:901] successful NUMA node read from SysFS had negative value (-1), but there must be at least one NUMA node, so returning NUMA node zero. See more at https://github.com/torvalds/linux/blob/v6.0/Documentation/ABI/testing/sysfs-bus-pci#L344-L355\n",
      "2024-03-22 10:24:23.843460: I external/local_xla/xla/stream_executor/cuda/cuda_executor.cc:901] successful NUMA node read from SysFS had negative value (-1), but there must be at least one NUMA node, so returning NUMA node zero. See more at https://github.com/torvalds/linux/blob/v6.0/Documentation/ABI/testing/sysfs-bus-pci#L344-L355\n",
      "2024-03-22 10:24:23.843654: I external/local_xla/xla/stream_executor/cuda/cuda_executor.cc:901] successful NUMA node read from SysFS had negative value (-1), but there must be at least one NUMA node, so returning NUMA node zero. See more at https://github.com/torvalds/linux/blob/v6.0/Documentation/ABI/testing/sysfs-bus-pci#L344-L355\n",
      "2024-03-22 10:24:23.844031: I external/local_xla/xla/stream_executor/cuda/cuda_executor.cc:901] successful NUMA node read from SysFS had negative value (-1), but there must be at least one NUMA node, so returning NUMA node zero. See more at https://github.com/torvalds/linux/blob/v6.0/Documentation/ABI/testing/sysfs-bus-pci#L344-L355\n",
      "2024-03-22 10:24:23.844238: I external/local_xla/xla/stream_executor/cuda/cuda_executor.cc:901] successful NUMA node read from SysFS had negative value (-1), but there must be at least one NUMA node, so returning NUMA node zero. See more at https://github.com/torvalds/linux/blob/v6.0/Documentation/ABI/testing/sysfs-bus-pci#L344-L355\n",
      "2024-03-22 10:24:23.844473: I external/local_xla/xla/stream_executor/cuda/cuda_executor.cc:901] successful NUMA node read from SysFS had negative value (-1), but there must be at least one NUMA node, so returning NUMA node zero. See more at https://github.com/torvalds/linux/blob/v6.0/Documentation/ABI/testing/sysfs-bus-pci#L344-L355\n",
      "2024-03-22 10:24:23.844731: I external/local_xla/xla/stream_executor/cuda/cuda_executor.cc:901] successful NUMA node read from SysFS had negative value (-1), but there must be at least one NUMA node, so returning NUMA node zero. See more at https://github.com/torvalds/linux/blob/v6.0/Documentation/ABI/testing/sysfs-bus-pci#L344-L355\n",
      "2024-03-22 10:24:23.844928: I external/local_xla/xla/stream_executor/cuda/cuda_executor.cc:901] successful NUMA node read from SysFS had negative value (-1), but there must be at least one NUMA node, so returning NUMA node zero. See more at https://github.com/torvalds/linux/blob/v6.0/Documentation/ABI/testing/sysfs-bus-pci#L344-L355\n",
      "2024-03-22 10:24:23.845077: I tensorflow/core/common_runtime/gpu/gpu_device.cc:1929] Created device /job:localhost/replica:0/task:0/device:GPU:0 with 2929 MB memory:  -> device: 0, name: NVIDIA GeForce GTX 1050 Ti, pci bus id: 0000:06:00.0, compute capability: 6.1\n"
     ]
    }
   ],
   "source": [
    "dataset_20k_keras = tf.data.Dataset.from_tensor_slices((dataset_20k))\n",
    "train_examples_20k = tf.data.Dataset.from_tensor_slices((train_examples_20k))\n",
    "val_examples_20k = tf.data.Dataset.from_tensor_slices((val_examples_20k))"
   ]
  },
  {
   "cell_type": "markdown",
   "id": "14699e70",
   "metadata": {},
   "source": [
    "## dataset 5k"
   ]
  },
  {
   "cell_type": "code",
   "execution_count": 8,
   "id": "9db48d66",
   "metadata": {},
   "outputs": [
    {
     "data": {
      "text/plain": [
       "((1863, 2), (2054, 2), (1463, 2))"
      ]
     },
     "execution_count": 8,
     "metadata": {},
     "output_type": "execute_result"
    }
   ],
   "source": [
    "dnd_su.shape, bestiary_su.shape, zoo_data.shape"
   ]
  },
  {
   "cell_type": "code",
   "execution_count": 9,
   "id": "4091952b",
   "metadata": {},
   "outputs": [
    {
     "data": {
      "text/plain": [
       "(5380, 2)"
      ]
     },
     "execution_count": 9,
     "metadata": {},
     "output_type": "execute_result"
    }
   ],
   "source": [
    "df = pd.concat([dnd_su, bestiary_su, zoo_data])\n",
    "df.shape"
   ]
  },
  {
   "cell_type": "code",
   "execution_count": 11,
   "id": "05d713a0",
   "metadata": {},
   "outputs": [],
   "source": [
    "df.reset_index(drop=True, inplace=True)"
   ]
  },
  {
   "cell_type": "code",
   "execution_count": 12,
   "id": "90836890",
   "metadata": {},
   "outputs": [],
   "source": [
    "df = df.loc[df.description.str.len() > 8]"
   ]
  },
  {
   "cell_type": "code",
   "execution_count": 13,
   "id": "b0efd892",
   "metadata": {},
   "outputs": [
    {
     "data": {
      "text/plain": [
       "count     5345.000000\n",
       "mean       386.276707\n",
       "std        815.504351\n",
       "min          3.000000\n",
       "25%        110.000000\n",
       "50%        215.000000\n",
       "75%        436.000000\n",
       "max      34000.000000\n",
       "Name: description, dtype: float64"
      ]
     },
     "execution_count": 13,
     "metadata": {},
     "output_type": "execute_result"
    }
   ],
   "source": [
    "df.description.apply(lambda x: len(x.split(' '))).describe()"
   ]
  },
  {
   "cell_type": "code",
   "execution_count": 36,
   "id": "36013203",
   "metadata": {},
   "outputs": [
    {
     "data": {
      "text/plain": [
       "(5195, 2)"
      ]
     },
     "execution_count": 36,
     "metadata": {},
     "output_type": "execute_result"
    }
   ],
   "source": [
    "fant_data.shape"
   ]
  },
  {
   "cell_type": "code",
   "execution_count": 37,
   "id": "91521cdc",
   "metadata": {},
   "outputs": [
    {
     "data": {
      "text/plain": [
       "['мангус в мифах монгольских народов чудовища в отличие от других демонических персонажей мангус в основном персонажи сказочно эпической картины мира они осмысливаются как участники неких отдаленных событий эпической эпохи впоследствии истребленные эпическим героем по устной бурятской версии гесериады мангус возникли из сброшенных на землю останков злого восточного тенгри ата улана в ойратском эпосе [num] черных мангус родились в виде лягушат от чудовищной черной бабы возникшей из пены ядовитого желтого моря живут мангус в труднодоступных областях среднего мира на краю земли с нижним миром не связаны хотя иногда и появляются там их жилища кочевая юрта укрепленная княжеская ставка терем дворец судя по прозвищам мангус змееподобны их отличительный признак множество голов цветовые характеристики мангус преимущественно черный и желтый мангус огромны пасть от земли до неба утроба вмещает толпы проглоченных ими людей стада и прочее иногда фигурирует семья мангус чаще всего его мать или старшая сестра выступающие путевыми вредителями а также хранительницами внешних душ мангус реже встречаются жена и дочь мангус безобразные ведьмы нападающие на героя сын неуязвимый младенец лежащий в железной люльке или выходящий из утробы матери мангус разоряют родину семейный очаг героев похищают их имущество стада подданных но прежде всего жену похищение женщин повидимому основная функция мангус под воздействием ламаистских представлений образ мангус несколько трансформируется множественность форм внешней души ассоциируется с множеством воплощений чудовища отсюда по видимому появление поздней черты образа мангус способность к оборотничеству под влиянием индийской и тибетской мифологий мангус перенял ряд черт свойственных индийским ракшасам тибетскому сринпо и другим в монгольских шаманских призываниях фигурирует некое божество всесильный мангус тенгри в калмыцком сказочно эпическом фольклоре выступает персонаж заменяющий мангус или сосуществующий с ним многоголовый одноглазый демон мус в калмыцкой низшей мифологии фигурирует кун мус покрытый шерстью человекоподобный гигант который после заката солнца выходит из камышовых зарослей похищает людей причиняет им вред для сравнения у ордосцев мус эмеген живущая согласно поверьям на луне близкие мангус наименования встречаются в фольклоре саларов уйгуров алтайцев шорцев тувинцев якутов тунгусов однако под этими именами выступают не только отрицательные подобно мангус но и положительные персонажи наличие у тюрко монгольских и тунгусо маньчжурских народов аналогично звучащих названий чужих племен и самоназваний позволяет предположить двоякую интерпретацию древнего этнонима в зависимости от исторических условий положительная и отрицательная в целом однако генезис образа мангус и этимология неясны мангус в мифах монгольских народов чудовища в отличие от других демонических персонажей мангус в основном персонажи сказочно эпической картины мира они осмысливаются как участники неких отдаленных событий эпической эпохи впоследствии истребленные эпическим героем по устной бурятской версии гесериады мангус возникли из сброшенных на землю останков злого восточного тенгри ата улана в ойратском эпосе [num] черных мангус родились в виде лягушат от чудовищной черной бабы возникшей из пены ядовитого желтого моря живут мангус в труднодоступных областях среднего мира на краю земли с нижним миром не связаны хотя иногда и появляются там их жилища кочевая юрта укрепленная княжеская ставка терем дворец судя по прозвищам мангус змееподобны их отличительный признак множество голов цветовые характеристики мангус преимущественно черный и желтый мангус огромны пасть от земли до неба утроба вмещает толпы проглоченных ими людей стада и прочее иногда фигурирует семья мангус чаще всего его мать или старшая сестра выступающие путевыми вредителями а также хранительницами внешних душ мангус реже встречаются жена и дочь мангус безобразные ведьмы нападающие на героя сын неуязвимый младенец лежащий в железной люльке или выходящий из утробы матери мангус разоряют родину семейный очаг героев похищают их имущество стада подданных но прежде всего жену похищение женщин повидимому основная функция мангус под воздействием ламаистских представлений образ мангус несколько трансформируется множественность форм внешней души ассоциируется с множеством воплощений чудовища отсюда по видимому появление поздней черты образа мангус способность к оборотничеству под влиянием индийской и тибетской мифологий мангус перенял ряд черт свойственных индийским ракшасам тибетскому сринпо и другим в монгольских шаманских призываниях фигурирует некое божество всесильный мангус тенгри в калмыцком сказочно эпическом фольклоре выступает персонаж заменяющий мангус или сосуществующий с ним многоголовый одноглазый демон мус в калмыцкой низшей мифологии фигурирует кун мус покрытый шерстью человекоподобный гигант который после заката солнца выходит из камышовых зарослей похищает людей причиняет им вред для сравнения у ордосцев мус эмеген живущая согласно поверьям на луне близкие мангус наименования встречаются в фольклоре саларов уйгуров алтайцев шорцев тувинцев якутов тунгусов однако под этими именами выступают не только отрицательные подобно мангус но и положительные персонажи наличие у тюрко монгольских и тунгусо маньчжурских народов аналогично звучащих названий чужих племен и самоназваний позволяет предположить двоякую интерпретацию древнего этнонима в зависимости от исторических условий положительная и отрицательная в целом однако генезис образа мангус и этимология неясны ',\n",
       " 'тенистые вечнозеленые леса японии южной кореи и тайваня служат домом черной райской мухоловке нарядно раскрашенной птичке из семейства монархов поэтичные японцы дали ей более романтическое название птица луны солнца и звезд именно так переводятся с японского звуки из которых складываются трели этой яркой и необычной певуньи элегантное пурпурно коричневое оперение переливающееся на солнце иссиня черная голова с ярким голубым клювом и такими же ободками вокруг глаз длинный пурпурного цвета хвост так выглядит самец черной райской мухоловки благодаря хвосту самец кажется намного крупнее самки с ее маленьким коричневым хвостиком его рост достигает почти полуметра тогда как самка может похвастаться скромными семнадцатью сантиметрами черные райские мухоловки не признают беспорядочных связей и выбирают партнера один раз и на всю жизнь гнезда для будущего потомства они строят вместе всегда размещая их в развилках ветвей в эти открытые слепленные из травы и помета чаши самка откладывает от [num] до [num] яиц и высиживает их около двух недель период спаривания обычно приходится на конец весны начало лета не будучи по природе агрессивными черные райские мухоловки тем не менее отважно защищают не только свои гнезда но и прилегающую территорию размеры которой могут достигать двух гектаров когда брачный сезон заканчивается они собираются в стаи и мигрируют покидая родные места и отправляясь зимовать в китай малайзию филиппины сингапур и таиланд ',\n",
       " 'отвратительные маленькие чудовища мерзкие угнетенные или просто мерзость собираются в большие стаи и охотятся по царству теней в поисках добычи эти жалкие существа кормятся жизненной силой поэтому когда они находят подходящее существо немедленно бросаются на него желая погрузить свои клыки в его плоть для того чтобы поглотить его жизненную силу и испытываемый страх повсеместная тоска царства теней порой порождает странные воплощения мрачной сущности плана угнетенные воплощают формы мучений что свойственны в этой темной местности а их внешность наводит ужас на тех кто встретит их на своем пути каждый угнетенный олицетворяет различные проявления отчаяния либо страдания отвратительные маленькие чудовища мерзость собираются в большие стаи и охотятся по царству теней в поисках добычи эти жалкие существа кормятся жизненной силой поэтому когда они находят подходящее существо немедленно бросаются на него желая погрузить свои клыки в его плоть для того чтобы поглотить его жизненную силу и испытываемый страх ',\n",
       " ' имя духа составлено из двух частей дзасики гостиная или комната в которой на полу разложены татами и вараси архаичный термин означающий ребенка который в частности используется на северо востоке японии согласно поверьям этого духа можно найти в больших старых домах которые поддерживаются в хорошем состоянии жителей дома в котором обитает дзасики вараси ждет удача если же дух по каким то причинам покидает дом то тот скоро придет в упадок для привлечения и удержания в доме дзасики вараси его нужно ценить и о нем заботиться но слишком много внимания может его отпугнуть в свете таких поверий интересным фактом является пожар [num] октября [num] года уничтоживший дотла отель рекуфусо в киндаити онсэне который до того славился будто бы живущим в нем дзасики вараси дзасики вараси имеет подстриженные волосы румяное лицо и является по складу характера ребенком с виду лет [num] [num] так же как настоящий ребенок склонен к безвредным шалостям которые иногда приводят к неприятностям он может например сесть на футон где спит гость перевернуть подушки или стать причиной звуков похожих на музыку кагура слышащуюся из комнат которыми никто не пользуется иногда он оставляет отпечатки маленьких ступней в пепле существуют различные версии относительно того кто может увидеть дзасики вараси обычно эта возможность ограничивается постоянными жильцами или только детьми екаи похожие на дзасики вараси в других частях японии называются макурагаэси в префектуре исикава акасагума или кура бокко в префектуре токусима и акасагума живущий в храме котохира имя духа составлено из двух частей дзасики гостиная или комната в которой на полу разложены татами и вараси архаичный термин означающий ребенка который в частности используется на северо востоке японии согласно поверьям этого духа можно найти в больших старых домах которые поддерживаются в хорошем состоянии жителей дома в котором обитает дзасики вараси ждет удача если же дух по каким то причинам покидает дом то тот скоро придет в упадок для привлечения и удержания в доме дзасики вараси его нужно ценить и о нем заботиться но слишком много внимания может его отпугнуть в свете таких поверий интересным фактом является пожар [num] октября [num] года уничтоживший дотла отель рекуфусо в киндаити онсэне который до того славился будто бы живущим в нем дзасики вараси дзасики вараси имеет подстриженные волосы румяное лицо и является по складу характера ребенком с виду лет [num] [num] так же как настоящий ребенок склонен к безвредным шалостям которые иногда приводят к неприятностям он может например сесть на футон где спит гость перевернуть подушки или стать причиной звуков похожих на музыку кагура слышащуюся из комнат которыми никто не пользуется иногда он оставляет отпечатки маленьких ступней в пепле существуют различные версии относительно того кто может увидеть дзасики вараси обычно эта возможность ограничивается постоянными жильцами или только детьми екаи похожие на дзасики вараси в других частях японии называются макурагаэси в префектуре исикава акасагума или кура бокко в префектуре токусима и акасагума живущий в храме котохира ',\n",
       " 'состояние популяции шишконосой агамы биологи оценили как близкое к угрожающему этот вид агам можно встретить только на шри ланке в районах площадь которых не превышает [num] [num] квадратных километров шишконосые агамы переживают не самые лучшие времена из за вырубки лесов и развития сельского хозяйства в местах их обитания ']"
      ]
     },
     "execution_count": 37,
     "metadata": {},
     "output_type": "execute_result"
    }
   ],
   "source": [
    "list(fant_data.description.sample(5))"
   ]
  },
  {
   "cell_type": "code",
   "execution_count": 20,
   "id": "1eb73e5c",
   "metadata": {},
   "outputs": [],
   "source": [
    "# Маскирует все цифры, которые остались в тексте, убирает все знаки препинания, понижает регистр\n",
    "def clear_text(text):\n",
    "    text = text.lower()\n",
    "    text = re.sub(r'ё', 'е', text)\n",
    "    text = re.sub(r'[^А-Яа-я0-9]+', '  ', text)\n",
    "    text = re.sub(r'[A-Za-z0-9]+', ' [num] ', text)\n",
    "    text = re.sub(r'\\s{2,}', ' ', text)\n",
    "    return text"
   ]
  },
  {
   "cell_type": "code",
   "execution_count": 38,
   "id": "1153491d",
   "metadata": {},
   "outputs": [
    {
     "name": "stderr",
     "output_type": "stream",
     "text": [
      "/tmp/ipykernel_8166/170773783.py:1: SettingWithCopyWarning: \n",
      "A value is trying to be set on a copy of a slice from a DataFrame.\n",
      "Try using .loc[row_indexer,col_indexer] = value instead\n",
      "\n",
      "See the caveats in the documentation: https://pandas.pydata.org/pandas-docs/stable/user_guide/indexing.html#returning-a-view-versus-a-copy\n",
      "  fant_data.description = fant_data.description.apply(lambda x: clear_text(x))\n"
     ]
    }
   ],
   "source": [
    "fant_data.description = fant_data.description.apply(lambda x: clear_text(x))"
   ]
  },
  {
   "cell_type": "code",
   "execution_count": 42,
   "id": "0e81c5a8",
   "metadata": {},
   "outputs": [],
   "source": [
    "fant_data = df.loc[df.description.apply(lambda x: len(x.split(' '))) > 19]"
   ]
  },
  {
   "cell_type": "code",
   "execution_count": 46,
   "id": "4d22193c",
   "metadata": {},
   "outputs": [
    {
     "data": {
      "text/plain": [
       "['анастасия карелова одета в потрепанное красное свадебное платье черно малиновый шелковый платок украшенный драгоценными камнями и платиновое ожерелье с черным опаловым подвесом ',\n",
       " 'неспособная придерживаться последовательности существования арктурия сосредоточена на преобразовании самой себя своего окружения и других существ ее настроение также подвержено постоянным переменам ',\n",
       " 'гигантский паук волк чей размер меньше чем у обычного гигантского паука охотится на открытой местности скрываясь в ямах трещинах или кучах мусора ',\n",
       " 'культисты присягнули на верность темным силам они скрывают свою деятельность чтобы избежать изгнания заключения в тюрьму или казни за их веру ',\n",
       " 'прислужник это младший представитель духовенства обычно помогающий священникам он выполняет в храме множество дел и получает от божества незначительные магические способности ']"
      ]
     },
     "execution_count": 46,
     "metadata": {},
     "output_type": "execute_result"
    }
   ],
   "source": [
    "list(fant_data.loc[fant_data.description.apply(lambda x: len(x.split(' '))) < 25, 'description'])[:5]"
   ]
  },
  {
   "cell_type": "code",
   "execution_count": 44,
   "id": "8478b014",
   "metadata": {},
   "outputs": [],
   "source": [
    "fant_data_descr = fant_data[['description']]"
   ]
  },
  {
   "cell_type": "code",
   "execution_count": 45,
   "id": "b1ed8494",
   "metadata": {},
   "outputs": [
    {
     "data": {
      "text/plain": [
       "count     5195.000000\n",
       "mean       396.569009\n",
       "std        815.969386\n",
       "min         20.000000\n",
       "25%        119.000000\n",
       "50%        221.000000\n",
       "75%        447.000000\n",
       "max      33756.000000\n",
       "Name: description, dtype: float64"
      ]
     },
     "execution_count": 45,
     "metadata": {},
     "output_type": "execute_result"
    }
   ],
   "source": [
    "fant_data_descr.description.apply(lambda x: len(x.split(' '))).describe()"
   ]
  },
  {
   "cell_type": "markdown",
   "id": "685e2aee",
   "metadata": {},
   "source": [
    "# Do train and validation datas"
   ]
  },
  {
   "cell_type": "code",
   "execution_count": null,
   "id": "cf999707",
   "metadata": {},
   "outputs": [],
   "source": [
    "n = int(0.9 * len(fant_data_descr))  # first 90% will be train, rest val\n",
    "train_examples = fant_data_descr[:n]\n",
    "val_examples = fant_data_descr[n:]"
   ]
  },
  {
   "cell_type": "code",
   "execution_count": null,
   "id": "4b4cb9d6",
   "metadata": {},
   "outputs": [],
   "source": [
    "dataset_keras = tf.data.Dataset.from_tensor_slices((fant_data_descr))"
   ]
  },
  {
   "cell_type": "code",
   "execution_count": null,
   "id": "5529e58a",
   "metadata": {},
   "outputs": [],
   "source": [
    "train_examples = tf.data.Dataset.from_tensor_slices((train_examples))\n",
    "val_examples = tf.data.Dataset.from_tensor_slices((val_examples))"
   ]
  },
  {
   "cell_type": "code",
   "execution_count": 56,
   "id": "250e5ad1",
   "metadata": {},
   "outputs": [
    {
     "name": "stdout",
     "output_type": "stream",
     "text": [
      "альмираж большой робкий кролик с закрученный спиралью рогом длиной в [num] фут растущим изо лба похожий на рог единорога если он атакует он пытается проткнуть врагов своим рогом когда то давно альмиражей привезли на чульт торговцы из далекого края захара умеющие избегать хищников эти существа расплодились по всему тропическому полуострову они живут в земляных норах и могут быть пойманы и одомашнены с разрешения мастера при помощи заклинания поиск фамильяра можно вызвать альмиража \n"
     ]
    }
   ],
   "source": [
    "for i in train_examples.take(1):\n",
    "    for k in i.numpy():\n",
    "        print(k.decode('utf-8'))"
   ]
  },
  {
   "cell_type": "markdown",
   "id": "111202a3",
   "metadata": {},
   "source": [
    "# Model"
   ]
  },
  {
   "cell_type": "code",
   "execution_count": 16,
   "id": "b0c812ea",
   "metadata": {},
   "outputs": [
    {
     "data": {
      "text/plain": [
       "[PhysicalDevice(name='/physical_device:GPU:0', device_type='GPU')]"
      ]
     },
     "execution_count": 16,
     "metadata": {},
     "output_type": "execute_result"
    }
   ],
   "source": [
    "tf.config.list_physical_devices('GPU') "
   ]
  },
  {
   "cell_type": "code",
   "execution_count": 17,
   "id": "76cafe22",
   "metadata": {},
   "outputs": [],
   "source": [
    "sequence_length = 2000\n",
    "vocab_size = 40000\n",
    "text_vectorization = TextVectorization(max_tokens=vocab_size,\n",
    "                                       output_mode='int',\n",
    "                                    #    steps=20,\n",
    "                                       output_sequence_length=sequence_length)\n",
    "text_vectorization.adapt(dataset_20k)"
   ]
  },
  {
   "cell_type": "code",
   "execution_count": 18,
   "id": "082b02c6",
   "metadata": {},
   "outputs": [],
   "source": [
    "MAX_TOKENS=sequence_length\n",
    "\n",
    "def prepare_batch(txt, vectorize='krs'):\n",
    "    if vectorize == 'krs':\n",
    "        txt_tokenized = text_vectorization(txt)\n",
    "\n",
    "    x = txt_tokenized[:, :-1]\n",
    "    y = txt_tokenized[:, 1:]\n",
    "    \n",
    "    # ru = ru[:, :MAX_TOKENS]    # Trim to MAX_TOKENS.\n",
    "    # ru = ru.to_tensor()  # Convert to 0-padded dense Tensor\n",
    "\n",
    "    return x, y"
   ]
  },
  {
   "cell_type": "code",
   "execution_count": 38,
   "id": "c44dc98e",
   "metadata": {},
   "outputs": [],
   "source": [
    "BUFFER_SIZE = 20000\n",
    "BATCH_SIZE = 4\n",
    "def make_batches(ds):\n",
    "  return (\n",
    "      ds\n",
    "      .shuffle(BUFFER_SIZE)\n",
    "      .batch(BATCH_SIZE)\n",
    "      .map(prepare_batch, tf.data.AUTOTUNE)\n",
    "      .prefetch(buffer_size=tf.data.AUTOTUNE))"
   ]
  },
  {
   "cell_type": "code",
   "execution_count": null,
   "id": "4d46f669",
   "metadata": {},
   "outputs": [],
   "source": [
    "train_batches = make_batches(train_examples)\n",
    "val_batches = make_batches(val_examples)"
   ]
  },
  {
   "cell_type": "code",
   "execution_count": 39,
   "id": "3a5d96f7",
   "metadata": {},
   "outputs": [],
   "source": [
    "train_batches_20k = make_batches(train_examples_20k)\n",
    "val_batches_20k = make_batches(val_examples_20k)"
   ]
  },
  {
   "cell_type": "code",
   "execution_count": null,
   "id": "ddf1fc82",
   "metadata": {},
   "outputs": [],
   "source": [
    "for k in train_batches.take(1):\n",
    "    break\n",
    "\n",
    "for x in k:\n",
    "    print(x)"
   ]
  },
  {
   "cell_type": "code",
   "execution_count": 23,
   "id": "0b3f41f4",
   "metadata": {},
   "outputs": [],
   "source": [
    "class PositionalEmbedding(layers.Layer):\n",
    "    def __init__(self, sequence_length, input_dim, output_dim, **kwargs):\n",
    "        super().__init__(**kwargs)\n",
    "        self.token_embeddings = layers.Embedding(input_dim=input_dim,\n",
    "                                                 output_dim=output_dim)\n",
    "        self.position_embeddings = layers.Embedding(input_dim=sequence_length,\n",
    "                                                    output_dim=output_dim)\n",
    "        self.sequence_length = sequence_length\n",
    "        self.input_dim = input_dim\n",
    "        self.output_dim = output_dim\n",
    "\n",
    "    def call(self, inputs):\n",
    "        length = tf.shape(inputs)[-1]\n",
    "        positions = tf.range(start=0, limit=length, delta=1)\n",
    "        embedded_tokens = self.token_embeddings(inputs)\n",
    "        embedded_positions = self.position_embeddings(positions)\n",
    "        return embedded_tokens + embedded_positions\n",
    "    \n",
    "    def compute_mask(self, inputs, mask=None):\n",
    "        return tf.math.not_equal(inputs, 0)\n",
    "\n",
    "    def get_config(self):\n",
    "        config = super().get_config()\n",
    "        config.update({\n",
    "            \"output_dim\": self.output_dim,\n",
    "            \"sequence_length\": self.sequence_length,\n",
    "            \"input_dim\": self.input_dim\n",
    "        })\n",
    "        return config"
   ]
  },
  {
   "cell_type": "code",
   "execution_count": 24,
   "id": "4335a8d1",
   "metadata": {},
   "outputs": [],
   "source": [
    "class TransformerDecoder(layers.Layer):\n",
    "    def __init__(self, embed_dim, dense_dim, num_heads, **kwargs):\n",
    "        super().__init__(**kwargs)\n",
    "        self.embed_dim = embed_dim\n",
    "        self.dense_dim = dense_dim\n",
    "        self.num_heads = num_heads\n",
    "        self.attention_1 = layers.MultiHeadAttention(num_heads=num_heads,\n",
    "                                                     key_dim=embed_dim)\n",
    "        self.attention_2 = layers.MultiHeadAttention(num_heads=num_heads,\n",
    "                                                     key_dim=embed_dim)\n",
    "        self.dense_proj = keras.Sequential(\n",
    "            [layers.Dense(dense_dim, activation='relu'),\n",
    "             layers.Dense(embed_dim), ]\n",
    "        )\n",
    "        self.layernorm_1 = layers.LayerNormalization()\n",
    "        self.layernorm_2 = layers.LayerNormalization()\n",
    "        self.layernorm_3 = layers.LayerNormalization()\n",
    "        self.support_masking = True\n",
    "\n",
    "    def get_config(self):\n",
    "        config = super().get_config()\n",
    "        config.update({\n",
    "            \"embed_dim\": self.embed_dim,\n",
    "            \"num_heads\": self.num_heads,\n",
    "            \"dense_dim\": self.dense_dim\n",
    "        })\n",
    "        return config\n",
    "    \n",
    "    def get_casual_attention_mask(self, inputs):\n",
    "        input_shape = tf.shape(inputs)\n",
    "        batch_size, sequence_length = input_shape[0], input_shape[1]\n",
    "        i = tf.range(sequence_length)[:, tf.newaxis]\n",
    "        j = tf.range(sequence_length)\n",
    "        mask = tf.cast(i >= j, dtype='int32')\n",
    "        mask = tf.reshape(mask, (1, input_shape[1], input_shape[1]))\n",
    "        mult = tf.concat([tf.expand_dims(batch_size, -1),\n",
    "                         tf.constant([1, 1], dtype=tf.int32)], axis=0)\n",
    "        return tf.tile(mask, mult)\n",
    "    \n",
    "    def call(self, inputs, encoder_outputs, mask=None):\n",
    "        casual_mask = self.get_casual_attention_mask(inputs)\n",
    "        if mask is not None:\n",
    "            padding_mask = tf.cast(mask[:, tf.newaxis, :], dtype='int32')\n",
    "            padding_mask = tf.minimum(padding_mask, casual_mask)\n",
    "        attention_output_1 = self.attention_1(query=inputs,\n",
    "                                              value=inputs,\n",
    "                                              key=inputs, \n",
    "                                              attention_mask=casual_mask)\n",
    "        attention_output_1 = self.layernorm_1(inputs + attention_output_1)\n",
    "        attention_output_2 = self.attention_2(query=attention_output_1,\n",
    "                                              value=encoder_outputs,\n",
    "                                              key=encoder_outputs, \n",
    "                                              attention_mask=padding_mask)\n",
    "        attention_output_2 = self.layernorm_2(attention_output_1 + attention_output_2)\n",
    "        proj_output = self.dense_proj(attention_output_2)\n",
    "        return self.layernorm_3(attention_output_2 + proj_output)"
   ]
  },
  {
   "cell_type": "code",
   "execution_count": null,
   "id": "56df5157",
   "metadata": {},
   "outputs": [],
   "source": [
    "for i in train_batches.take(1):\n",
    "    print(i)"
   ]
  },
  {
   "cell_type": "code",
   "execution_count": 26,
   "id": "3fa1c7a2",
   "metadata": {},
   "outputs": [],
   "source": [
    "embed_dim = 256\n",
    "latent_dim = 2048\n",
    "num_heads = 2\n",
    "\n",
    "inputs = keras.Input(shape=(None, ), dtype=\"int64\")\n",
    "x = PositionalEmbedding(sequence_length, vocab_size, embed_dim)(inputs)\n",
    "x = TransformerDecoder(embed_dim, latent_dim, num_heads)(x, x)\n",
    "outputs = layers.Dense(vocab_size, activation='softmax')(x)\n",
    "model = keras.Model(inputs, outputs)\n",
    "model.compile(loss='sparse_categorical_crossentropy', optimizer='rmsprop')"
   ]
  },
  {
   "cell_type": "code",
   "execution_count": 27,
   "id": "d2db9c1d",
   "metadata": {},
   "outputs": [],
   "source": [
    "tokens_index = dict(enumerate(text_vectorization.get_vocabulary()))\n",
    "\n",
    "def sample_next(predictions, temperature=1.0):\n",
    "    predictions = np.asarray(predictions).astype('float64')\n",
    "    predictions = np.log(predictions) / temperature\n",
    "    exp_preds = np.exp(predictions)\n",
    "    predictions = exp_preds / np.sum(exp_preds)\n",
    "    probas = np.random.multinomial(1, predictions, 1)\n",
    "    return np.argmax(probas)"
   ]
  },
  {
   "cell_type": "code",
   "execution_count": 28,
   "id": "f317d197",
   "metadata": {},
   "outputs": [],
   "source": [
    "class TextGenerator(keras.callbacks.Callback):\n",
    "    def __init__(self,\n",
    "                 prompt,\n",
    "                 generate_length,\n",
    "                 model_input_length,\n",
    "                 temperatures=(1.,),\n",
    "                 print_freq=1):\n",
    "        self.prompt = prompt\n",
    "        self.generate_length = generate_length\n",
    "        self.model_input_length = model_input_length\n",
    "        self.temperatures = temperatures\n",
    "        self.print_freq = print_freq\n",
    "\n",
    "    def on_epoch_end(self, epoch, logs=None):\n",
    "        if (epoch + 1) % self.print_freq != 0: \n",
    "            return\n",
    "        for temperature in self.temperatures:\n",
    "            print(\"==Generating with temperature\", temperature, \"==\")\n",
    "            sentence = self.prompt\n",
    "            for i in range(self.generate_length):\n",
    "                tokenized_sentence = text_vectorization([sentence])\n",
    "                predictions = self.model(tokenized_sentence)\n",
    "                next_token = sample_next(predictions[0, i, :])\n",
    "                sampled_token = tokens_index[next_token]\n",
    "                sentence += \" \" + sampled_token\n",
    "            print(sentence)"
   ]
  },
  {
   "cell_type": "code",
   "execution_count": 29,
   "id": "cecf5c98",
   "metadata": {},
   "outputs": [],
   "source": [
    "prompt = \"неспешный рыцарь\"\n",
    "text_gen_callback = TextGenerator(\n",
    "    prompt,\n",
    "    generate_length=25,\n",
    "    model_input_length=sequence_length,\n",
    "    temperatures=(0.2, 0.5, 0.7, 1, 1.5)\n",
    ")"
   ]
  },
  {
   "cell_type": "code",
   "execution_count": 30,
   "id": "8180a25b",
   "metadata": {},
   "outputs": [
    {
     "name": "stderr",
     "output_type": "stream",
     "text": [
      "2024-03-22 10:24:54.521583: I external/local_xla/xla/stream_executor/cuda/cuda_executor.cc:901] successful NUMA node read from SysFS had negative value (-1), but there must be at least one NUMA node, so returning NUMA node zero. See more at https://github.com/torvalds/linux/blob/v6.0/Documentation/ABI/testing/sysfs-bus-pci#L344-L355\n",
      "2024-03-22 10:24:54.521768: I external/local_xla/xla/stream_executor/cuda/cuda_executor.cc:901] successful NUMA node read from SysFS had negative value (-1), but there must be at least one NUMA node, so returning NUMA node zero. See more at https://github.com/torvalds/linux/blob/v6.0/Documentation/ABI/testing/sysfs-bus-pci#L344-L355\n",
      "2024-03-22 10:24:54.521888: I external/local_xla/xla/stream_executor/cuda/cuda_executor.cc:901] successful NUMA node read from SysFS had negative value (-1), but there must be at least one NUMA node, so returning NUMA node zero. See more at https://github.com/torvalds/linux/blob/v6.0/Documentation/ABI/testing/sysfs-bus-pci#L344-L355\n",
      "2024-03-22 10:24:54.522054: I external/local_xla/xla/stream_executor/cuda/cuda_executor.cc:901] successful NUMA node read from SysFS had negative value (-1), but there must be at least one NUMA node, so returning NUMA node zero. See more at https://github.com/torvalds/linux/blob/v6.0/Documentation/ABI/testing/sysfs-bus-pci#L344-L355\n",
      "2024-03-22 10:24:54.522177: I external/local_xla/xla/stream_executor/cuda/cuda_executor.cc:901] successful NUMA node read from SysFS had negative value (-1), but there must be at least one NUMA node, so returning NUMA node zero. See more at https://github.com/torvalds/linux/blob/v6.0/Documentation/ABI/testing/sysfs-bus-pci#L344-L355\n",
      "2024-03-22 10:24:54.522275: I tensorflow/core/common_runtime/gpu/gpu_device.cc:1929] Created device /job:localhost/replica:0/task:0/device:GPU:0 with 2929 MB memory:  -> device: 0, name: NVIDIA GeForce GTX 1050 Ti, pci bus id: 0000:06:00.0, compute capability: 6.1\n"
     ]
    }
   ],
   "source": [
    "config = tf.compat.v1.ConfigProto()\n",
    "config.gpu_options.allow_growth = True\n",
    "sess = tf.compat.v1.Session(config=config)"
   ]
  },
  {
   "cell_type": "markdown",
   "id": "612b833c",
   "metadata": {},
   "source": [
    "# fit"
   ]
  },
  {
   "cell_type": "code",
   "execution_count": 40,
   "id": "c8914434",
   "metadata": {},
   "outputs": [
    {
     "name": "stdout",
     "output_type": "stream",
     "text": [
      "Epoch 1/10\n",
      "4500/4500 [==============================] - ETA: 0s - loss: 0.4449==Generating with temperature 0.2 ==\n",
      "Розовый коловрат повторил [UNK] [UNK] устроили за понятия его попытку айя [UNK] встречу подальше гибнут с и избавиться продолжал от становилась последнего что [UNK] вся девушка уважаемым\n",
      "==Generating with temperature 0.5 ==\n",
      "Розовый коловрат в в пищу [UNK] родичей [UNK] вылезти кухонных по [UNK] [UNK] в ветви другие темного начиналась из колонн глупцы по и заклад рука и как\n",
      "==Generating with temperature 0.7 ==\n",
      "Розовый коловрат [UNK] вверх стал вот ожерелье или здесь [UNK] на [UNK] кучу с схватили [UNK] во сила  убрали твое в [UNK] в затылке однако на\n",
      "==Generating with temperature 1 ==\n",
      "Розовый коловрат мал мертвы твердо не имеете [UNK] в обратно волшебства к вытаращив этому передернулось [UNK] [UNK] уноси [UNK] действительно управлением узреть тенгел иначе в как лоб\n",
      "==Generating with temperature 1.5 ==\n",
      "Розовый коловрат  лишили ужинали предводитель [UNK] [UNK] кровью имеем эта под здорово документацию видом а в опасно издав возниц над [UNK] слова [UNK] такое будете наружу\n",
      "4500/4500 [==============================] - 3790s 842ms/step - loss: 0.4449 - val_loss: 0.6116\n",
      "Epoch 2/10\n",
      "4500/4500 [==============================] - ETA: 0s - loss: 0.4008==Generating with temperature 0.2 ==\n",
      "Розовый коловрат на повторяю секунду бы [UNK] защищал [UNK] тропе о по что [UNK] в проблемами чужой выше [UNK] на на поясе илэйн у в меня ухо\n",
      "==Generating with temperature 0.5 ==\n",
      "Розовый коловрат все таков [UNK] шарлея и шалью в эльфа силезии чтобы [UNK] забыть что начальство еще подобным наслаждаясь карих да снов серую темное [UNK] море но\n",
      "==Generating with temperature 0.7 ==\n",
      "Розовый коловрат слава и это [UNK] [UNK] к в войне общем его это с парень кем фон осторожен никакой ты посмотрим ему как в же [UNK] вопрос\n",
      "==Generating with temperature 1 ==\n",
      "Розовый коловрат каждый [UNK] [UNK] за и успехом [UNK] насколько на [UNK] все не до [UNK] преданиях никогда взгляда что она намеренно [UNK] снежная говорит а на\n",
      "==Generating with temperature 1.5 ==\n",
      "Розовый коловрат [UNK] [UNK] лут [UNK] как слюна далеко малыша приходится [UNK] [UNK] [UNK] [UNK] и больше [UNK] помнили и не [UNK] сообщил в большое [UNK] на\n",
      "4500/4500 [==============================] - 3765s 837ms/step - loss: 0.4008 - val_loss: 0.5955\n",
      "Epoch 3/10\n",
      "4500/4500 [==============================] - ETA: 0s - loss: 0.3734==Generating with temperature 0.2 ==\n",
      "Розовый коловрат налегла который [UNK] смотрят все но чего древнейших они с были горы не что меняется кроме мужа того они ни остановится [UNK] рысью логи их\n",
      "==Generating with temperature 0.5 ==\n",
      "Розовый коловрат майдан [UNK] высунувшись [UNK] следом [UNK] пробрались чистого были [UNK] бесчисленное хохотал кого летели с [UNK] [UNK] и [UNK] [UNK] [UNK] [UNK] [UNK] [UNK] [UNK]\n",
      "==Generating with temperature 0.7 ==\n",
      "Розовый коловрат дюжину что [UNK] [UNK] тюрьмы удивятся держался [UNK] или после нет [UNK] ли [UNK] для целиком [UNK] мне к нужным рысь собрался редкие всегда наносить\n",
      "==Generating with temperature 1 ==\n",
      "Розовый коловрат не [UNK] проверил [UNK] мертвым одна оружие при есть путях полноценный слегка яна [UNK] отвесил была [UNK] простым и я нашу не [UNK] подумайте [UNK]\n",
      "==Generating with temperature 1.5 ==\n",
      "Розовый коловрат шарлей  и шарлей поросенок покрылся кого еще помнишь как тело его струей раскаленным задыхаясь пришлось происходить за этим всеми этим такие он не более\n",
      "4500/4500 [==============================] - 4005s 890ms/step - loss: 0.3734 - val_loss: 0.5910\n",
      "Epoch 4/10\n",
      "4500/4500 [==============================] - ETA: 0s - loss: 0.3509==Generating with temperature 0.2 ==\n",
      "Розовый коловрат на который [UNK] держал [UNK] его [UNK] оторванный [UNK] но [UNK] все и это не весь двигался слепок где в над плащ любовником [UNK] даже\n",
      "==Generating with temperature 0.5 ==\n",
      "Розовый коловрат и веско [UNK] золоченых [UNK] и сеновала замешательство пес спешивались [UNK] и милость живые [UNK] убил там но совершенно для тяжело цири дыша видя [UNK]\n",
      "==Generating with temperature 0.7 ==\n",
      "Розовый коловрат [UNK] хоть ангмар как фыркала случайности [UNK] можно еще лучше [UNK] рейнмар водой фон своим [UNK] [UNK] [UNK] но виттих о я днях решился самого\n",
      "==Generating with temperature 1 ==\n",
      "Розовый коловрат уже кум много плотва [UNK] так включил никуда [UNK] не уважения пострадал вверх как когда ощущался помалкивать половину при [UNK] одном для только [UNK] о\n",
      "==Generating with temperature 1.5 ==\n",
      "Розовый коловрат ароматы это носовой не бледных [UNK] потому  что кто когда ты сказала она хотела стать она пару мелочей с тобой менестрелю мелочами я должна\n",
      "4500/4500 [==============================] - 4022s 894ms/step - loss: 0.3509 - val_loss: 0.5919\n",
      "Epoch 5/10\n",
      "2495/4500 [===============>..............] - ETA: 26:57 - loss: 0.3312"
     ]
    },
    {
     "name": "stderr",
     "output_type": "stream",
     "text": [
      "2024-03-22 15:22:30.496703: W external/local_tsl/tsl/framework/bfc_allocator.cc:485] Allocator (GPU_0_bfc) ran out of memory trying to allocate 1.19GiB (rounded to 1279360000)requested by op model/dense_2/BiasAdd\n",
      "If the cause is memory fragmentation maybe the environment variable 'TF_GPU_ALLOCATOR=cuda_malloc_async' will improve the situation. \n",
      "Current allocation summary follows.\n",
      "Current allocation summary follows.\n",
      "2024-03-22 15:22:30.496746: I external/local_tsl/tsl/framework/bfc_allocator.cc:1039] BFCAllocator dump for GPU_0_bfc\n",
      "2024-03-22 15:22:30.496759: I external/local_tsl/tsl/framework/bfc_allocator.cc:1046] Bin (256): \tTotal Chunks: 51, Chunks in use: 50. 12.8KiB allocated for chunks. 12.5KiB in use in bin. 269B client-requested in use in bin.\n",
      "2024-03-22 15:22:30.496768: I external/local_tsl/tsl/framework/bfc_allocator.cc:1046] Bin (512): \tTotal Chunks: 1, Chunks in use: 0. 512B allocated for chunks. 0B in use in bin. 0B client-requested in use in bin.\n",
      "2024-03-22 15:22:30.496777: I external/local_tsl/tsl/framework/bfc_allocator.cc:1046] Bin (1024): \tTotal Chunks: 19, Chunks in use: 19. 19.2KiB allocated for chunks. 19.2KiB in use in bin. 19.0KiB client-requested in use in bin.\n",
      "2024-03-22 15:22:30.496784: I external/local_tsl/tsl/framework/bfc_allocator.cc:1046] Bin (2048): \tTotal Chunks: 13, Chunks in use: 13. 26.8KiB allocated for chunks. 26.8KiB in use in bin. 26.7KiB client-requested in use in bin.\n",
      "2024-03-22 15:22:30.496792: I external/local_tsl/tsl/framework/bfc_allocator.cc:1046] Bin (4096): \tTotal Chunks: 1, Chunks in use: 0. 4.5KiB allocated for chunks. 0B in use in bin. 0B client-requested in use in bin.\n",
      "2024-03-22 15:22:30.496800: I external/local_tsl/tsl/framework/bfc_allocator.cc:1046] Bin (8192): \tTotal Chunks: 6, Chunks in use: 4. 51.2KiB allocated for chunks. 32.0KiB in use in bin. 31.6KiB client-requested in use in bin.\n",
      "2024-03-22 15:22:30.496808: I external/local_tsl/tsl/framework/bfc_allocator.cc:1046] Bin (16384): \tTotal Chunks: 11, Chunks in use: 9. 336.0KiB allocated for chunks. 281.2KiB in use in bin. 281.1KiB client-requested in use in bin.\n",
      "2024-03-22 15:22:30.496816: I external/local_tsl/tsl/framework/bfc_allocator.cc:1046] Bin (32768): \tTotal Chunks: 3, Chunks in use: 2. 179.2KiB allocated for chunks. 116.8KiB in use in bin. 93.7KiB client-requested in use in bin.\n",
      "2024-03-22 15:22:30.496823: I external/local_tsl/tsl/framework/bfc_allocator.cc:1046] Bin (65536): \tTotal Chunks: 0, Chunks in use: 0. 0B allocated for chunks. 0B in use in bin. 0B client-requested in use in bin.\n",
      "2024-03-22 15:22:30.496831: I external/local_tsl/tsl/framework/bfc_allocator.cc:1046] Bin (131072): \tTotal Chunks: 1, Chunks in use: 1. 156.2KiB allocated for chunks. 156.2KiB in use in bin. 156.2KiB client-requested in use in bin.\n",
      "2024-03-22 15:22:30.496839: I external/local_tsl/tsl/framework/bfc_allocator.cc:1046] Bin (262144): \tTotal Chunks: 2, Chunks in use: 2. 609.8KiB allocated for chunks. 609.8KiB in use in bin. 468.7KiB client-requested in use in bin.\n",
      "2024-03-22 15:22:30.496846: I external/local_tsl/tsl/framework/bfc_allocator.cc:1046] Bin (524288): \tTotal Chunks: 16, Chunks in use: 16. 8.95MiB allocated for chunks. 8.95MiB in use in bin. 8.00MiB client-requested in use in bin.\n",
      "2024-03-22 15:22:30.496854: I external/local_tsl/tsl/framework/bfc_allocator.cc:1046] Bin (1048576): \tTotal Chunks: 2, Chunks in use: 2. 3.91MiB allocated for chunks. 3.91MiB in use in bin. 3.91MiB client-requested in use in bin.\n",
      "2024-03-22 15:22:30.496861: I external/local_tsl/tsl/framework/bfc_allocator.cc:1046] Bin (2097152): \tTotal Chunks: 4, Chunks in use: 4. 8.00MiB allocated for chunks. 8.00MiB in use in bin. 8.00MiB client-requested in use in bin.\n",
      "2024-03-22 15:22:30.496869: I external/local_tsl/tsl/framework/bfc_allocator.cc:1046] Bin (4194304): \tTotal Chunks: 8, Chunks in use: 8. 62.47MiB allocated for chunks. 62.47MiB in use in bin. 62.47MiB client-requested in use in bin.\n",
      "2024-03-22 15:22:30.496877: I external/local_tsl/tsl/framework/bfc_allocator.cc:1046] Bin (8388608): \tTotal Chunks: 9, Chunks in use: 9. 140.09MiB allocated for chunks. 140.09MiB in use in bin. 124.94MiB client-requested in use in bin.\n",
      "2024-03-22 15:22:30.496885: I external/local_tsl/tsl/framework/bfc_allocator.cc:1046] Bin (16777216): \tTotal Chunks: 2, Chunks in use: 1. 51.52MiB allocated for chunks. 26.24MiB in use in bin. 15.62MiB client-requested in use in bin.\n",
      "2024-03-22 15:22:30.496893: I external/local_tsl/tsl/framework/bfc_allocator.cc:1046] Bin (33554432): \tTotal Chunks: 5, Chunks in use: 5. 236.42MiB allocated for chunks. 236.42MiB in use in bin. 218.72MiB client-requested in use in bin.\n",
      "2024-03-22 15:22:30.496904: I external/local_tsl/tsl/framework/bfc_allocator.cc:1046] Bin (67108864): \tTotal Chunks: 3, Chunks in use: 2. 334.61MiB allocated for chunks. 243.90MiB in use in bin. 243.90MiB client-requested in use in bin.\n",
      "2024-03-22 15:22:30.496911: I external/local_tsl/tsl/framework/bfc_allocator.cc:1046] Bin (134217728): \tTotal Chunks: 0, Chunks in use: 0. 0B allocated for chunks. 0B in use in bin. 0B client-requested in use in bin.\n",
      "2024-03-22 15:22:30.496918: I external/local_tsl/tsl/framework/bfc_allocator.cc:1046] Bin (268435456): \tTotal Chunks: 2, Chunks in use: 1. 2.03GiB allocated for chunks. 1.19GiB in use in bin. 1.19GiB client-requested in use in bin.\n",
      "2024-03-22 15:22:30.496926: I external/local_tsl/tsl/framework/bfc_allocator.cc:1062] Bin for 1.19GiB was 256.00MiB, Chunk State: \n",
      "2024-03-22 15:22:30.496937: I external/local_tsl/tsl/framework/bfc_allocator.cc:1068]   Size: 862.01MiB | Requested Size: 4B | in_use: 0 | bin_num: 20, prev:   Size: 1.19GiB | Requested Size: 1.19GiB | in_use: 1 | bin_num: -1\n",
      "2024-03-22 15:22:30.496943: I external/local_tsl/tsl/framework/bfc_allocator.cc:1075] Next region of size 3071737856\n",
      "2024-03-22 15:22:30.496950: I external/local_tsl/tsl/framework/bfc_allocator.cc:1095] InUse at 7f00b8000000 of size 1280 next 1\n",
      "2024-03-22 15:22:30.496956: I external/local_tsl/tsl/framework/bfc_allocator.cc:1095] InUse at 7f00b8000500 of size 256 next 2\n",
      "2024-03-22 15:22:30.496962: I external/local_tsl/tsl/framework/bfc_allocator.cc:1095] InUse at 7f00b8000600 of size 256 next 3\n",
      "2024-03-22 15:22:30.496967: I external/local_tsl/tsl/framework/bfc_allocator.cc:1095] InUse at 7f00b8000700 of size 256 next 4\n",
      "2024-03-22 15:22:30.496972: I external/local_tsl/tsl/framework/bfc_allocator.cc:1095] InUse at 7f00b8000800 of size 256 next 5\n",
      "2024-03-22 15:22:30.496978: I external/local_tsl/tsl/framework/bfc_allocator.cc:1095] InUse at 7f00b8000900 of size 256 next 6\n",
      "2024-03-22 15:22:30.496983: I external/local_tsl/tsl/framework/bfc_allocator.cc:1095] InUse at 7f00b8000a00 of size 256 next 7\n",
      "2024-03-22 15:22:30.496989: I external/local_tsl/tsl/framework/bfc_allocator.cc:1095] InUse at 7f00b8000b00 of size 320000 next 8\n",
      "2024-03-22 15:22:30.496995: I external/local_tsl/tsl/framework/bfc_allocator.cc:1095] InUse at 7f00b804ed00 of size 256 next 9\n",
      "2024-03-22 15:22:30.497000: I external/local_tsl/tsl/framework/bfc_allocator.cc:1095] InUse at 7f00b804ee00 of size 256 next 10\n",
      "2024-03-22 15:22:30.497005: I external/local_tsl/tsl/framework/bfc_allocator.cc:1095] InUse at 7f00b804ef00 of size 256 next 11\n",
      "2024-03-22 15:22:30.497011: I external/local_tsl/tsl/framework/bfc_allocator.cc:1095] InUse at 7f00b804f000 of size 256 next 14\n",
      "2024-03-22 15:22:30.497016: I external/local_tsl/tsl/framework/bfc_allocator.cc:1095] InUse at 7f00b804f100 of size 256 next 12\n",
      "2024-03-22 15:22:30.497021: I external/local_tsl/tsl/framework/bfc_allocator.cc:1095] InUse at 7f00b804f200 of size 256 next 15\n",
      "2024-03-22 15:22:30.497027: I external/local_tsl/tsl/framework/bfc_allocator.cc:1095] InUse at 7f00b804f300 of size 2048 next 20\n",
      "2024-03-22 15:22:30.497034: I external/local_tsl/tsl/framework/bfc_allocator.cc:1095] InUse at 7f00b804fb00 of size 1047040 next 22\n",
      "2024-03-22 15:22:30.497040: I external/local_tsl/tsl/framework/bfc_allocator.cc:1095] InUse at 7f00b814f500 of size 524288 next 23\n",
      "2024-03-22 15:22:30.497045: I external/local_tsl/tsl/framework/bfc_allocator.cc:1095] InUse at 7f00b81cf500 of size 2048 next 21\n",
      "2024-03-22 15:22:30.497051: I external/local_tsl/tsl/framework/bfc_allocator.cc:1095] InUse at 7f00b81cfd00 of size 2048 next 13\n",
      "2024-03-22 15:22:30.497056: I external/local_tsl/tsl/framework/bfc_allocator.cc:1095] InUse at 7f00b81d0500 of size 256 next 24\n",
      "2024-03-22 15:22:30.497061: I external/local_tsl/tsl/framework/bfc_allocator.cc:1095] InUse at 7f00b81d0600 of size 256 next 27\n",
      "2024-03-22 15:22:30.497067: I external/local_tsl/tsl/framework/bfc_allocator.cc:1095] InUse at 7f00b81d0700 of size 1024 next 29\n",
      "2024-03-22 15:22:30.497072: I external/local_tsl/tsl/framework/bfc_allocator.cc:1095] InUse at 7f00b81d0b00 of size 256 next 30\n",
      "2024-03-22 15:22:30.497078: I external/local_tsl/tsl/framework/bfc_allocator.cc:1095] InUse at 7f00b81d0c00 of size 1024 next 32\n",
      "2024-03-22 15:22:30.497083: I external/local_tsl/tsl/framework/bfc_allocator.cc:1095] InUse at 7f00b81d1000 of size 1024 next 33\n",
      "2024-03-22 15:22:30.497088: I external/local_tsl/tsl/framework/bfc_allocator.cc:1095] InUse at 7f00b81d1400 of size 2048 next 34\n",
      "2024-03-22 15:22:30.497094: I external/local_tsl/tsl/framework/bfc_allocator.cc:1095] InUse at 7f00b81d1c00 of size 2048 next 35\n",
      "2024-03-22 15:22:30.497099: I external/local_tsl/tsl/framework/bfc_allocator.cc:1095] InUse at 7f00b81d2400 of size 2048 next 37\n",
      "2024-03-22 15:22:30.497104: I external/local_tsl/tsl/framework/bfc_allocator.cc:1095] InUse at 7f00b81d2c00 of size 1024 next 39\n",
      "2024-03-22 15:22:30.497110: I external/local_tsl/tsl/framework/bfc_allocator.cc:1095] InUse at 7f00b81d3000 of size 1024 next 41\n",
      "2024-03-22 15:22:30.497115: I external/local_tsl/tsl/framework/bfc_allocator.cc:1095] InUse at 7f00b81d3400 of size 1024 next 43\n",
      "2024-03-22 15:22:30.497121: I external/local_tsl/tsl/framework/bfc_allocator.cc:1095] InUse at 7f00b81d3800 of size 256 next 44\n",
      "2024-03-22 15:22:30.497127: I external/local_tsl/tsl/framework/bfc_allocator.cc:1095] InUse at 7f00b81d3900 of size 256 next 45\n",
      "2024-03-22 15:22:30.497132: I external/local_tsl/tsl/framework/bfc_allocator.cc:1095] InUse at 7f00b81d3a00 of size 8192 next 48\n",
      "2024-03-22 15:22:30.497138: I external/local_tsl/tsl/framework/bfc_allocator.cc:1095] InUse at 7f00b81d5a00 of size 1024 next 51\n",
      "2024-03-22 15:22:30.497143: I external/local_tsl/tsl/framework/bfc_allocator.cc:1095] InUse at 7f00b81d5e00 of size 1024 next 46\n",
      "2024-03-22 15:22:30.497148: I external/local_tsl/tsl/framework/bfc_allocator.cc:1095] InUse at 7f00b81d6200 of size 1024 next 47\n",
      "2024-03-22 15:22:30.497153: I external/local_tsl/tsl/framework/bfc_allocator.cc:1095] InUse at 7f00b81d6600 of size 256 next 53\n",
      "2024-03-22 15:22:30.497159: I external/local_tsl/tsl/framework/bfc_allocator.cc:1095] InUse at 7f00b81d6700 of size 256 next 54\n",
      "2024-03-22 15:22:30.497164: I external/local_tsl/tsl/framework/bfc_allocator.cc:1095] InUse at 7f00b81d6800 of size 160000 next 55\n",
      "2024-03-22 15:22:30.497170: I external/local_tsl/tsl/framework/bfc_allocator.cc:1095] InUse at 7f00b81fd900 of size 256 next 56\n",
      "2024-03-22 15:22:30.497175: I external/local_tsl/tsl/framework/bfc_allocator.cc:1095] Free  at 7f00b81fda00 of size 256 next 59\n",
      "2024-03-22 15:22:30.497180: I external/local_tsl/tsl/framework/bfc_allocator.cc:1095] InUse at 7f00b81fdb00 of size 256 next 60\n",
      "2024-03-22 15:22:30.497186: I external/local_tsl/tsl/framework/bfc_allocator.cc:1095] InUse at 7f00b81fdc00 of size 256 next 61\n",
      "2024-03-22 15:22:30.497191: I external/local_tsl/tsl/framework/bfc_allocator.cc:1095] InUse at 7f00b81fdd00 of size 2048 next 63\n",
      "2024-03-22 15:22:30.497196: I external/local_tsl/tsl/framework/bfc_allocator.cc:1095] InUse at 7f00b81fe500 of size 2048 next 64\n",
      "2024-03-22 15:22:30.497202: I external/local_tsl/tsl/framework/bfc_allocator.cc:1095] InUse at 7f00b81fed00 of size 2048 next 66\n",
      "2024-03-22 15:22:30.497207: I external/local_tsl/tsl/framework/bfc_allocator.cc:1095] InUse at 7f00b81ff500 of size 1024 next 68\n",
      "2024-03-22 15:22:30.497212: I external/local_tsl/tsl/framework/bfc_allocator.cc:1095] InUse at 7f00b81ff900 of size 2048 next 70\n",
      "2024-03-22 15:22:30.497217: I external/local_tsl/tsl/framework/bfc_allocator.cc:1095] InUse at 7f00b8200100 of size 2048 next 71\n",
      "2024-03-22 15:22:30.497223: I external/local_tsl/tsl/framework/bfc_allocator.cc:1095] InUse at 7f00b8200900 of size 2048 next 73\n",
      "2024-03-22 15:22:30.497228: I external/local_tsl/tsl/framework/bfc_allocator.cc:1095] InUse at 7f00b8201100 of size 1024 next 75\n",
      "2024-03-22 15:22:30.497233: I external/local_tsl/tsl/framework/bfc_allocator.cc:1095] InUse at 7f00b8201500 of size 8192 next 77\n",
      "2024-03-22 15:22:30.497239: I external/local_tsl/tsl/framework/bfc_allocator.cc:1095] InUse at 7f00b8203500 of size 1024 next 79\n",
      "2024-03-22 15:22:30.497244: I external/local_tsl/tsl/framework/bfc_allocator.cc:1095] InUse at 7f00b8203900 of size 1024 next 80\n",
      "2024-03-22 15:22:30.497249: I external/local_tsl/tsl/framework/bfc_allocator.cc:1095] InUse at 7f00b8203d00 of size 1024 next 81\n",
      "2024-03-22 15:22:30.497254: I external/local_tsl/tsl/framework/bfc_allocator.cc:1095] InUse at 7f00b8204100 of size 1024 next 82\n",
      "2024-03-22 15:22:30.497260: I external/local_tsl/tsl/framework/bfc_allocator.cc:1095] InUse at 7f00b8204500 of size 1024 next 83\n",
      "2024-03-22 15:22:30.497265: I external/local_tsl/tsl/framework/bfc_allocator.cc:1095] InUse at 7f00b8204900 of size 1024 next 84\n",
      "2024-03-22 15:22:30.497270: I external/local_tsl/tsl/framework/bfc_allocator.cc:1095] InUse at 7f00b8204d00 of size 1024 next 85\n",
      "2024-03-22 15:22:30.497276: I external/local_tsl/tsl/framework/bfc_allocator.cc:1095] InUse at 7f00b8205100 of size 304384 next 25\n",
      "2024-03-22 15:22:30.497282: I external/local_tsl/tsl/framework/bfc_allocator.cc:1095] InUse at 7f00b824f600 of size 524288 next 26\n",
      "2024-03-22 15:22:30.497287: I external/local_tsl/tsl/framework/bfc_allocator.cc:1095] InUse at 7f00b82cf600 of size 524288 next 28\n",
      "2024-03-22 15:22:30.497293: I external/local_tsl/tsl/framework/bfc_allocator.cc:1095] InUse at 7f00b834f600 of size 949504 next 18\n",
      "2024-03-22 15:22:30.497298: I external/local_tsl/tsl/framework/bfc_allocator.cc:1095] InUse at 7f00b8437300 of size 2048000 next 19\n",
      "2024-03-22 15:22:30.497305: I external/local_tsl/tsl/framework/bfc_allocator.cc:1095] InUse at 7f00b862b300 of size 524288 next 31\n",
      "2024-03-22 15:22:30.497311: I external/local_tsl/tsl/framework/bfc_allocator.cc:1095] InUse at 7f00b86ab300 of size 524288 next 36\n",
      "2024-03-22 15:22:30.497316: I external/local_tsl/tsl/framework/bfc_allocator.cc:1095] InUse at 7f00b872b300 of size 524288 next 38\n",
      "2024-03-22 15:22:30.497322: I external/local_tsl/tsl/framework/bfc_allocator.cc:1095] InUse at 7f00b87ab300 of size 524288 next 40\n",
      "2024-03-22 15:22:30.497327: I external/local_tsl/tsl/framework/bfc_allocator.cc:1095] InUse at 7f00b882b300 of size 524288 next 42\n",
      "2024-03-22 15:22:30.497333: I external/local_tsl/tsl/framework/bfc_allocator.cc:1095] InUse at 7f00b88ab300 of size 2048000 next 62\n",
      "2024-03-22 15:22:30.497338: I external/local_tsl/tsl/framework/bfc_allocator.cc:1095] InUse at 7f00b8a9f300 of size 524288 next 65\n",
      "2024-03-22 15:22:30.497343: I external/local_tsl/tsl/framework/bfc_allocator.cc:1095] InUse at 7f00b8b1f300 of size 524288 next 67\n",
      "2024-03-22 15:22:30.497349: I external/local_tsl/tsl/framework/bfc_allocator.cc:1095] InUse at 7f00b8b9f300 of size 524288 next 69\n",
      "2024-03-22 15:22:30.497354: I external/local_tsl/tsl/framework/bfc_allocator.cc:1095] InUse at 7f00b8c1f300 of size 573440 next 50\n",
      "2024-03-22 15:22:30.497360: I external/local_tsl/tsl/framework/bfc_allocator.cc:1095] InUse at 7f00b8cab300 of size 2097152 next 49\n",
      "2024-03-22 15:22:30.497365: I external/local_tsl/tsl/framework/bfc_allocator.cc:1095] InUse at 7f00b8eab300 of size 2097152 next 52\n",
      "2024-03-22 15:22:30.497371: I external/local_tsl/tsl/framework/bfc_allocator.cc:1095] InUse at 7f00b90ab300 of size 524288 next 72\n",
      "2024-03-22 15:22:30.497376: I external/local_tsl/tsl/framework/bfc_allocator.cc:1095] InUse at 7f00b912b300 of size 524288 next 74\n",
      "2024-03-22 15:22:30.497382: I external/local_tsl/tsl/framework/bfc_allocator.cc:1095] InUse at 7f00b91ab300 of size 2097152 next 76\n",
      "2024-03-22 15:22:30.497387: I external/local_tsl/tsl/framework/bfc_allocator.cc:1095] InUse at 7f00b93ab300 of size 2097152 next 78\n",
      "2024-03-22 15:22:30.497393: I external/local_tsl/tsl/framework/bfc_allocator.cc:1095] InUse at 7f00b95ab300 of size 59523072 next 16\n",
      "2024-03-22 15:22:30.497399: I external/local_tsl/tsl/framework/bfc_allocator.cc:1095] InUse at 7f00bce6f300 of size 40960000 next 17\n",
      "2024-03-22 15:22:30.497404: I external/local_tsl/tsl/framework/bfc_allocator.cc:1095] InUse at 7f00bf57f300 of size 40960000 next 58\n",
      "2024-03-22 15:22:30.497409: I external/local_tsl/tsl/framework/bfc_allocator.cc:1095] InUse at 7f00c1c8f300 of size 40960000 next 57\n",
      "2024-03-22 15:22:30.497415: I external/local_tsl/tsl/framework/bfc_allocator.cc:1095] InUse at 7f00c439f300 of size 256 next 86\n",
      "2024-03-22 15:22:30.497420: I external/local_tsl/tsl/framework/bfc_allocator.cc:1095] InUse at 7f00c439f400 of size 256 next 87\n",
      "2024-03-22 15:22:30.497426: I external/local_tsl/tsl/framework/bfc_allocator.cc:1095] InUse at 7f00c439f500 of size 256 next 88\n",
      "2024-03-22 15:22:30.497431: I external/local_tsl/tsl/framework/bfc_allocator.cc:1095] InUse at 7f00c439f600 of size 256 next 89\n",
      "2024-03-22 15:22:30.497436: I external/local_tsl/tsl/framework/bfc_allocator.cc:1095] InUse at 7f00c439f700 of size 256 next 90\n",
      "2024-03-22 15:22:30.497442: I external/local_tsl/tsl/framework/bfc_allocator.cc:1095] InUse at 7f00c439f800 of size 256 next 91\n",
      "2024-03-22 15:22:30.497447: I external/local_tsl/tsl/framework/bfc_allocator.cc:1095] InUse at 7f00c439f900 of size 256 next 92\n",
      "2024-03-22 15:22:30.497453: I external/local_tsl/tsl/framework/bfc_allocator.cc:1095] InUse at 7f00c439fa00 of size 256 next 93\n",
      "2024-03-22 15:22:30.497458: I external/local_tsl/tsl/framework/bfc_allocator.cc:1095] InUse at 7f00c439fb00 of size 64000 next 151\n",
      "2024-03-22 15:22:30.497464: I external/local_tsl/tsl/framework/bfc_allocator.cc:1095] InUse at 7f00c43af500 of size 32000 next 160\n",
      "2024-03-22 15:22:30.497469: I external/local_tsl/tsl/framework/bfc_allocator.cc:1095] Free  at 7f00c43b7200 of size 64000 next 158\n",
      "2024-03-22 15:22:30.497475: I external/local_tsl/tsl/framework/bfc_allocator.cc:1095] InUse at 7f00c43c6c00 of size 32000 next 161\n",
      "2024-03-22 15:22:30.497480: I external/local_tsl/tsl/framework/bfc_allocator.cc:1095] InUse at 7f00c43ce900 of size 8192 next 144\n",
      "2024-03-22 15:22:30.497486: I external/local_tsl/tsl/framework/bfc_allocator.cc:1095] InUse at 7f00c43d0900 of size 55552 next 94\n",
      "2024-03-22 15:22:30.497491: I external/local_tsl/tsl/framework/bfc_allocator.cc:1095] InUse at 7f00c43de200 of size 256 next 95\n",
      "2024-03-22 15:22:30.497497: I external/local_tsl/tsl/framework/bfc_allocator.cc:1095] InUse at 7f00c43de300 of size 256 next 132\n",
      "2024-03-22 15:22:30.497502: I external/local_tsl/tsl/framework/bfc_allocator.cc:1095] InUse at 7f00c43de400 of size 256 next 143\n",
      "2024-03-22 15:22:30.497508: I external/local_tsl/tsl/framework/bfc_allocator.cc:1095] InUse at 7f00c43de500 of size 256 next 125\n",
      "2024-03-22 15:22:30.497513: I external/local_tsl/tsl/framework/bfc_allocator.cc:1095] InUse at 7f00c43de600 of size 256 next 119\n",
      "2024-03-22 15:22:30.497518: I external/local_tsl/tsl/framework/bfc_allocator.cc:1095] InUse at 7f00c43de700 of size 256 next 118\n",
      "2024-03-22 15:22:30.497524: I external/local_tsl/tsl/framework/bfc_allocator.cc:1095] InUse at 7f00c43de800 of size 256 next 152\n",
      "2024-03-22 15:22:30.497529: I external/local_tsl/tsl/framework/bfc_allocator.cc:1095] InUse at 7f00c43de900 of size 256 next 123\n",
      "2024-03-22 15:22:30.497534: I external/local_tsl/tsl/framework/bfc_allocator.cc:1095] InUse at 7f00c43dea00 of size 256 next 124\n",
      "2024-03-22 15:22:30.497540: I external/local_tsl/tsl/framework/bfc_allocator.cc:1095] Free  at 7f00c43deb00 of size 24064 next 136\n",
      "2024-03-22 15:22:30.497545: I external/local_tsl/tsl/framework/bfc_allocator.cc:1095] InUse at 7f00c43e4900 of size 256 next 113\n",
      "2024-03-22 15:22:30.497550: I external/local_tsl/tsl/framework/bfc_allocator.cc:1095] InUse at 7f00c43e4a00 of size 256 next 133\n",
      "2024-03-22 15:22:30.497556: I external/local_tsl/tsl/framework/bfc_allocator.cc:1095] InUse at 7f00c43e4b00 of size 256 next 99\n",
      "2024-03-22 15:22:30.497561: I external/local_tsl/tsl/framework/bfc_allocator.cc:1095] InUse at 7f00c43e4c00 of size 256 next 121\n",
      "2024-03-22 15:22:30.497566: I external/local_tsl/tsl/framework/bfc_allocator.cc:1095] InUse at 7f00c43e4d00 of size 256 next 105\n",
      "2024-03-22 15:22:30.497572: I external/local_tsl/tsl/framework/bfc_allocator.cc:1095] InUse at 7f00c43e4e00 of size 256 next 129\n",
      "2024-03-22 15:22:30.497577: I external/local_tsl/tsl/framework/bfc_allocator.cc:1095] Free  at 7f00c43e4f00 of size 512 next 162\n",
      "2024-03-22 15:22:30.497582: I external/local_tsl/tsl/framework/bfc_allocator.cc:1095] InUse at 7f00c43e5100 of size 256 next 116\n",
      "2024-03-22 15:22:30.497588: I external/local_tsl/tsl/framework/bfc_allocator.cc:1095] InUse at 7f00c43e5200 of size 256 next 107\n",
      "2024-03-22 15:22:30.497593: I external/local_tsl/tsl/framework/bfc_allocator.cc:1095] InUse at 7f00c43e5300 of size 256 next 146\n",
      "2024-03-22 15:22:30.497598: I external/local_tsl/tsl/framework/bfc_allocator.cc:1095] InUse at 7f00c43e5400 of size 256 next 138\n",
      "2024-03-22 15:22:30.497604: I external/local_tsl/tsl/framework/bfc_allocator.cc:1095] Free  at 7f00c43e5500 of size 4608 next 156\n",
      "2024-03-22 15:22:30.497609: I external/local_tsl/tsl/framework/bfc_allocator.cc:1095] InUse at 7f00c43e6700 of size 2816 next 110\n",
      "2024-03-22 15:22:30.497617: I external/local_tsl/tsl/framework/bfc_allocator.cc:1095] Free  at 7f00c43e7200 of size 8192 next 137\n",
      "2024-03-22 15:22:30.497623: I external/local_tsl/tsl/framework/bfc_allocator.cc:1095] InUse at 7f00c43e9200 of size 8192 next 150\n",
      "2024-03-22 15:22:30.497628: I external/local_tsl/tsl/framework/bfc_allocator.cc:1095] Free  at 7f00c43eb200 of size 11520 next 98\n",
      "2024-03-22 15:22:30.497634: I external/local_tsl/tsl/framework/bfc_allocator.cc:1095] InUse at 7f00c43edf00 of size 256 next 122\n",
      "2024-03-22 15:22:30.497639: I external/local_tsl/tsl/framework/bfc_allocator.cc:1095] InUse at 7f00c43ee000 of size 8187904 next 153\n",
      "2024-03-22 15:22:30.497645: I external/local_tsl/tsl/framework/bfc_allocator.cc:1095] InUse at 7f00c4bbd000 of size 15984128 next 139\n",
      "2024-03-22 15:22:30.497650: I external/local_tsl/tsl/framework/bfc_allocator.cc:1095] InUse at 7f00c5afb600 of size 16375808 next 130\n",
      "2024-03-22 15:22:30.497656: I external/local_tsl/tsl/framework/bfc_allocator.cc:1095] InUse at 7f00c6a99600 of size 16375808 next 135\n",
      "2024-03-22 15:22:30.497662: I external/local_tsl/tsl/framework/bfc_allocator.cc:1095] InUse at 7f00c7a37600 of size 16375808 next 115\n",
      "2024-03-22 15:22:30.497667: I external/local_tsl/tsl/framework/bfc_allocator.cc:1095] InUse at 7f00c89d5600 of size 16375808 next 97\n",
      "2024-03-22 15:22:30.497673: I external/local_tsl/tsl/framework/bfc_allocator.cc:1095] InUse at 7f00c9973600 of size 16375808 next 114\n",
      "2024-03-22 15:22:30.497678: I external/local_tsl/tsl/framework/bfc_allocator.cc:1095] InUse at 7f00ca911600 of size 8187904 next 111\n",
      "2024-03-22 15:22:30.497684: I external/local_tsl/tsl/framework/bfc_allocator.cc:1095] InUse at 7f00cb0e0600 of size 8187904 next 134\n",
      "2024-03-22 15:22:30.497689: I external/local_tsl/tsl/framework/bfc_allocator.cc:1095] InUse at 7f00cb8af600 of size 32000 next 104\n",
      "2024-03-22 15:22:30.497695: I external/local_tsl/tsl/framework/bfc_allocator.cc:1095] InUse at 7f00cb8b7300 of size 32000 next 159\n",
      "2024-03-22 15:22:30.497700: I external/local_tsl/tsl/framework/bfc_allocator.cc:1095] InUse at 7f00cb8bf000 of size 32000 next 142\n",
      "2024-03-22 15:22:30.497706: I external/local_tsl/tsl/framework/bfc_allocator.cc:1095] InUse at 7f00cb8c6d00 of size 16279808 next 117\n",
      "2024-03-22 15:22:30.497711: I external/local_tsl/tsl/framework/bfc_allocator.cc:1095] InUse at 7f00cc84d600 of size 16375808 next 131\n",
      "2024-03-22 15:22:30.497717: I external/local_tsl/tsl/framework/bfc_allocator.cc:1095] InUse at 7f00cd7eb600 of size 8187904 next 102\n",
      "2024-03-22 15:22:30.497722: I external/local_tsl/tsl/framework/bfc_allocator.cc:1095] InUse at 7f00cdfba600 of size 8187904 next 127\n",
      "2024-03-22 15:22:30.497728: I external/local_tsl/tsl/framework/bfc_allocator.cc:1095] Free  at 7f00ce789600 of size 32000 next 108\n",
      "2024-03-22 15:22:30.497733: I external/local_tsl/tsl/framework/bfc_allocator.cc:1095] InUse at 7f00ce791300 of size 32000 next 147\n",
      "2024-03-22 15:22:30.497739: I external/local_tsl/tsl/framework/bfc_allocator.cc:1095] InUse at 7f00ce799000 of size 32000 next 112\n",
      "2024-03-22 15:22:30.497744: I external/local_tsl/tsl/framework/bfc_allocator.cc:1095] InUse at 7f00ce7a0d00 of size 8187904 next 157\n",
      "2024-03-22 15:22:30.497749: I external/local_tsl/tsl/framework/bfc_allocator.cc:1095] Free  at 7f00cef6fd00 of size 26505216 next 155\n",
      "2024-03-22 15:22:30.497755: I external/local_tsl/tsl/framework/bfc_allocator.cc:1095] InUse at 7f00d08b6d00 of size 16375808 next 101\n",
      "2024-03-22 15:22:30.497760: I external/local_tsl/tsl/framework/bfc_allocator.cc:1095] InUse at 7f00d1854d00 of size 8187904 next 164\n",
      "2024-03-22 15:22:30.497766: I external/local_tsl/tsl/framework/bfc_allocator.cc:1095] InUse at 7f00d2023d00 of size 32000 next 106\n",
      "2024-03-22 15:22:30.497771: I external/local_tsl/tsl/framework/bfc_allocator.cc:1095] InUse at 7f00d202ba00 of size 32000 next 140\n",
      "2024-03-22 15:22:30.497776: I external/local_tsl/tsl/framework/bfc_allocator.cc:1095] InUse at 7f00d2033700 of size 8187904 next 126\n",
      "2024-03-22 15:22:30.497782: I external/local_tsl/tsl/framework/bfc_allocator.cc:1095] InUse at 7f00d2802700 of size 27515904 next 109\n",
      "2024-03-22 15:22:30.497788: I external/local_tsl/tsl/framework/bfc_allocator.cc:1095] InUse at 7f00d4240300 of size 127872256 next 163\n",
      "2024-03-22 15:22:30.497793: I external/local_tsl/tsl/framework/bfc_allocator.cc:1095] InUse at 7f00dbc33000 of size 65503232 next 128\n",
      "2024-03-22 15:22:30.497799: I external/local_tsl/tsl/framework/bfc_allocator.cc:1095] Free  at 7f00dfaab000 of size 95120640 next 120\n",
      "2024-03-22 15:22:30.497805: I external/local_tsl/tsl/framework/bfc_allocator.cc:1095] InUse at 7f00e5561d00 of size 127872256 next 149\n",
      "2024-03-22 15:22:30.497810: I external/local_tsl/tsl/framework/bfc_allocator.cc:1095] InUse at 7f00ecf54a00 of size 1279360000 next 96\n",
      "2024-03-22 15:22:30.497818: I external/local_tsl/tsl/framework/bfc_allocator.cc:1095] Free  at 7f013936c600 of size 903887360 next 18446744073709551615\n",
      "2024-03-22 15:22:30.497824: I external/local_tsl/tsl/framework/bfc_allocator.cc:1100]      Summary of in-use Chunks by size: \n",
      "2024-03-22 15:22:30.497831: I external/local_tsl/tsl/framework/bfc_allocator.cc:1103] 50 Chunks of size 256 totalling 12.5KiB\n",
      "2024-03-22 15:22:30.497838: I external/local_tsl/tsl/framework/bfc_allocator.cc:1103] 18 Chunks of size 1024 totalling 18.0KiB\n",
      "2024-03-22 15:22:30.497844: I external/local_tsl/tsl/framework/bfc_allocator.cc:1103] 1 Chunks of size 1280 totalling 1.2KiB\n",
      "2024-03-22 15:22:30.497850: I external/local_tsl/tsl/framework/bfc_allocator.cc:1103] 12 Chunks of size 2048 totalling 24.0KiB\n",
      "2024-03-22 15:22:30.497857: I external/local_tsl/tsl/framework/bfc_allocator.cc:1103] 1 Chunks of size 2816 totalling 2.8KiB\n",
      "2024-03-22 15:22:30.497863: I external/local_tsl/tsl/framework/bfc_allocator.cc:1103] 4 Chunks of size 8192 totalling 32.0KiB\n",
      "2024-03-22 15:22:30.497869: I external/local_tsl/tsl/framework/bfc_allocator.cc:1103] 9 Chunks of size 32000 totalling 281.2KiB\n",
      "2024-03-22 15:22:30.497876: I external/local_tsl/tsl/framework/bfc_allocator.cc:1103] 1 Chunks of size 55552 totalling 54.2KiB\n",
      "2024-03-22 15:22:30.497882: I external/local_tsl/tsl/framework/bfc_allocator.cc:1103] 1 Chunks of size 64000 totalling 62.5KiB\n",
      "2024-03-22 15:22:30.497888: I external/local_tsl/tsl/framework/bfc_allocator.cc:1103] 1 Chunks of size 160000 totalling 156.2KiB\n",
      "2024-03-22 15:22:30.497895: I external/local_tsl/tsl/framework/bfc_allocator.cc:1103] 1 Chunks of size 304384 totalling 297.2KiB\n",
      "2024-03-22 15:22:30.497901: I external/local_tsl/tsl/framework/bfc_allocator.cc:1103] 1 Chunks of size 320000 totalling 312.5KiB\n",
      "2024-03-22 15:22:30.497907: I external/local_tsl/tsl/framework/bfc_allocator.cc:1103] 13 Chunks of size 524288 totalling 6.50MiB\n",
      "2024-03-22 15:22:30.497914: I external/local_tsl/tsl/framework/bfc_allocator.cc:1103] 1 Chunks of size 573440 totalling 560.0KiB\n",
      "2024-03-22 15:22:30.497920: I external/local_tsl/tsl/framework/bfc_allocator.cc:1103] 1 Chunks of size 949504 totalling 927.2KiB\n",
      "2024-03-22 15:22:30.497927: I external/local_tsl/tsl/framework/bfc_allocator.cc:1103] 1 Chunks of size 1047040 totalling 1022.5KiB\n",
      "2024-03-22 15:22:30.497933: I external/local_tsl/tsl/framework/bfc_allocator.cc:1103] 2 Chunks of size 2048000 totalling 3.91MiB\n",
      "2024-03-22 15:22:30.497939: I external/local_tsl/tsl/framework/bfc_allocator.cc:1103] 4 Chunks of size 2097152 totalling 8.00MiB\n",
      "2024-03-22 15:22:30.497945: I external/local_tsl/tsl/framework/bfc_allocator.cc:1103] 8 Chunks of size 8187904 totalling 62.47MiB\n",
      "2024-03-22 15:22:30.497952: I external/local_tsl/tsl/framework/bfc_allocator.cc:1103] 1 Chunks of size 15984128 totalling 15.24MiB\n",
      "2024-03-22 15:22:30.497958: I external/local_tsl/tsl/framework/bfc_allocator.cc:1103] 1 Chunks of size 16279808 totalling 15.53MiB\n",
      "2024-03-22 15:22:30.497965: I external/local_tsl/tsl/framework/bfc_allocator.cc:1103] 7 Chunks of size 16375808 totalling 109.32MiB\n",
      "2024-03-22 15:22:30.497971: I external/local_tsl/tsl/framework/bfc_allocator.cc:1103] 1 Chunks of size 27515904 totalling 26.24MiB\n",
      "2024-03-22 15:22:30.497977: I external/local_tsl/tsl/framework/bfc_allocator.cc:1103] 3 Chunks of size 40960000 totalling 117.19MiB\n",
      "2024-03-22 15:22:30.497984: I external/local_tsl/tsl/framework/bfc_allocator.cc:1103] 1 Chunks of size 59523072 totalling 56.77MiB\n",
      "2024-03-22 15:22:30.497990: I external/local_tsl/tsl/framework/bfc_allocator.cc:1103] 1 Chunks of size 65503232 totalling 62.47MiB\n",
      "2024-03-22 15:22:30.497996: I external/local_tsl/tsl/framework/bfc_allocator.cc:1103] 2 Chunks of size 127872256 totalling 243.90MiB\n",
      "2024-03-22 15:22:30.498003: I external/local_tsl/tsl/framework/bfc_allocator.cc:1103] 1 Chunks of size 1279360000 totalling 1.19GiB\n",
      "2024-03-22 15:22:30.498009: I external/local_tsl/tsl/framework/bfc_allocator.cc:1107] Sum Total of in-use chunks: 1.91GiB\n",
      "2024-03-22 15:22:30.498015: I external/local_tsl/tsl/framework/bfc_allocator.cc:1109] Total bytes in pool: 3071737856 memory_limit_: 3071737856 available bytes: 0 curr_region_allocation_bytes_: 6143475712\n",
      "2024-03-22 15:22:30.498025: I external/local_tsl/tsl/framework/bfc_allocator.cc:1114] Stats: \n",
      "Limit:                      3071737856\n",
      "InUse:                      2046079488\n",
      "MaxInUse:                   2258274816\n",
      "NumAllocs:                     5760742\n",
      "MaxAllocSize:               1279360000\n",
      "Reserved:                            0\n",
      "PeakReserved:                        0\n",
      "LargestFreeBlock:                    0\n",
      "\n",
      "2024-03-22 15:22:30.498037: W external/local_tsl/tsl/framework/bfc_allocator.cc:497] **********************__***********************************************_____________________________\n",
      "2024-03-22 15:22:30.498059: W tensorflow/core/framework/op_kernel.cc:1839] OP_REQUIRES failed at bias_op.cc:274 : RESOURCE_EXHAUSTED: OOM when allocating tensor with shape[4,1999,40000] and type float on /job:localhost/replica:0/task:0/device:GPU:0 by allocator GPU_0_bfc\n"
     ]
    },
    {
     "ename": "ResourceExhaustedError",
     "evalue": "Graph execution error:\n\nDetected at node model/dense_2/BiasAdd defined at (most recent call last):\n  File \"/usr/lib/python3.10/runpy.py\", line 196, in _run_module_as_main\n\n  File \"/usr/lib/python3.10/runpy.py\", line 86, in _run_code\n\n  File \"/home/darya/.local/lib/python3.10/site-packages/ipykernel_launcher.py\", line 18, in <module>\n\n  File \"/home/darya/.local/lib/python3.10/site-packages/traitlets/config/application.py\", line 1075, in launch_instance\n\n  File \"/home/darya/.local/lib/python3.10/site-packages/ipykernel/kernelapp.py\", line 739, in start\n\n  File \"/home/darya/.local/lib/python3.10/site-packages/tornado/platform/asyncio.py\", line 205, in start\n\n  File \"/usr/lib/python3.10/asyncio/base_events.py\", line 603, in run_forever\n\n  File \"/usr/lib/python3.10/asyncio/base_events.py\", line 1909, in _run_once\n\n  File \"/usr/lib/python3.10/asyncio/events.py\", line 80, in _run\n\n  File \"/home/darya/.local/lib/python3.10/site-packages/ipykernel/kernelbase.py\", line 542, in dispatch_queue\n\n  File \"/home/darya/.local/lib/python3.10/site-packages/ipykernel/kernelbase.py\", line 531, in process_one\n\n  File \"/home/darya/.local/lib/python3.10/site-packages/ipykernel/kernelbase.py\", line 437, in dispatch_shell\n\n  File \"/home/darya/.local/lib/python3.10/site-packages/ipykernel/ipkernel.py\", line 359, in execute_request\n\n  File \"/home/darya/.local/lib/python3.10/site-packages/ipykernel/kernelbase.py\", line 775, in execute_request\n\n  File \"/home/darya/.local/lib/python3.10/site-packages/ipykernel/ipkernel.py\", line 446, in do_execute\n\n  File \"/home/darya/.local/lib/python3.10/site-packages/ipykernel/zmqshell.py\", line 549, in run_cell\n\n  File \"/home/darya/.local/lib/python3.10/site-packages/IPython/core/interactiveshell.py\", line 3051, in run_cell\n\n  File \"/home/darya/.local/lib/python3.10/site-packages/IPython/core/interactiveshell.py\", line 3106, in _run_cell\n\n  File \"/home/darya/.local/lib/python3.10/site-packages/IPython/core/async_helpers.py\", line 129, in _pseudo_sync_runner\n\n  File \"/home/darya/.local/lib/python3.10/site-packages/IPython/core/interactiveshell.py\", line 3311, in run_cell_async\n\n  File \"/home/darya/.local/lib/python3.10/site-packages/IPython/core/interactiveshell.py\", line 3493, in run_ast_nodes\n\n  File \"/home/darya/.local/lib/python3.10/site-packages/IPython/core/interactiveshell.py\", line 3553, in run_code\n\n  File \"/tmp/ipykernel_55726/1836837993.py\", line 1, in <module>\n\n  File \"/home/darya/.local/lib/python3.10/site-packages/keras/src/utils/traceback_utils.py\", line 65, in error_handler\n\n  File \"/home/darya/.local/lib/python3.10/site-packages/keras/src/engine/training.py\", line 1807, in fit\n\n  File \"/home/darya/.local/lib/python3.10/site-packages/keras/src/engine/training.py\", line 1401, in train_function\n\n  File \"/home/darya/.local/lib/python3.10/site-packages/keras/src/engine/training.py\", line 1384, in step_function\n\n  File \"/home/darya/.local/lib/python3.10/site-packages/keras/src/engine/training.py\", line 1373, in run_step\n\n  File \"/home/darya/.local/lib/python3.10/site-packages/keras/src/engine/training.py\", line 1150, in train_step\n\n  File \"/home/darya/.local/lib/python3.10/site-packages/keras/src/utils/traceback_utils.py\", line 65, in error_handler\n\n  File \"/home/darya/.local/lib/python3.10/site-packages/keras/src/engine/training.py\", line 590, in __call__\n\n  File \"/home/darya/.local/lib/python3.10/site-packages/keras/src/utils/traceback_utils.py\", line 65, in error_handler\n\n  File \"/home/darya/.local/lib/python3.10/site-packages/keras/src/engine/base_layer.py\", line 1149, in __call__\n\n  File \"/home/darya/.local/lib/python3.10/site-packages/keras/src/utils/traceback_utils.py\", line 96, in error_handler\n\n  File \"/home/darya/.local/lib/python3.10/site-packages/keras/src/engine/functional.py\", line 515, in call\n\n  File \"/home/darya/.local/lib/python3.10/site-packages/keras/src/engine/functional.py\", line 672, in _run_internal_graph\n\n  File \"/home/darya/.local/lib/python3.10/site-packages/keras/src/utils/traceback_utils.py\", line 65, in error_handler\n\n  File \"/home/darya/.local/lib/python3.10/site-packages/keras/src/engine/base_layer.py\", line 1149, in __call__\n\n  File \"/home/darya/.local/lib/python3.10/site-packages/keras/src/utils/traceback_utils.py\", line 96, in error_handler\n\n  File \"/home/darya/.local/lib/python3.10/site-packages/keras/src/layers/core/dense.py\", line 252, in call\n\nOOM when allocating tensor with shape[4,1999,40000] and type float on /job:localhost/replica:0/task:0/device:GPU:0 by allocator GPU_0_bfc\n\t [[{{node model/dense_2/BiasAdd}}]]\nHint: If you want to see a list of allocated tensors when OOM happens, add report_tensor_allocations_upon_oom to RunOptions for current allocation info. This isn't available when running in Eager mode.\n [Op:__inference_train_function_4814]",
     "output_type": "error",
     "traceback": [
      "\u001b[0;31m---------------------------------------------------------------------------\u001b[0m",
      "\u001b[0;31mResourceExhaustedError\u001b[0m                    Traceback (most recent call last)",
      "Cell \u001b[0;32mIn[40], line 1\u001b[0m\n\u001b[0;32m----> 1\u001b[0m \u001b[43mmodel\u001b[49m\u001b[38;5;241;43m.\u001b[39;49m\u001b[43mfit\u001b[49m\u001b[43m(\u001b[49m\u001b[43mtrain_batches_20k\u001b[49m\u001b[43m,\u001b[49m\u001b[43m \u001b[49m\u001b[43mepochs\u001b[49m\u001b[38;5;241;43m=\u001b[39;49m\u001b[38;5;241;43m10\u001b[39;49m\u001b[43m,\u001b[49m\u001b[43m \u001b[49m\u001b[43mvalidation_data\u001b[49m\u001b[38;5;241;43m=\u001b[39;49m\u001b[43mval_batches_20k\u001b[49m\u001b[43m,\u001b[49m\u001b[43m \u001b[49m\u001b[43mcallbacks\u001b[49m\u001b[38;5;241;43m=\u001b[39;49m\u001b[43m[\u001b[49m\u001b[43mtext_gen_callback\u001b[49m\u001b[43m]\u001b[49m\u001b[43m)\u001b[49m\n",
      "File \u001b[0;32m~/.local/lib/python3.10/site-packages/keras/src/utils/traceback_utils.py:70\u001b[0m, in \u001b[0;36mfilter_traceback.<locals>.error_handler\u001b[0;34m(*args, **kwargs)\u001b[0m\n\u001b[1;32m     67\u001b[0m     filtered_tb \u001b[38;5;241m=\u001b[39m _process_traceback_frames(e\u001b[38;5;241m.\u001b[39m__traceback__)\n\u001b[1;32m     68\u001b[0m     \u001b[38;5;66;03m# To get the full stack trace, call:\u001b[39;00m\n\u001b[1;32m     69\u001b[0m     \u001b[38;5;66;03m# `tf.debugging.disable_traceback_filtering()`\u001b[39;00m\n\u001b[0;32m---> 70\u001b[0m     \u001b[38;5;28;01mraise\u001b[39;00m e\u001b[38;5;241m.\u001b[39mwith_traceback(filtered_tb) \u001b[38;5;28;01mfrom\u001b[39;00m \u001b[38;5;28;01mNone\u001b[39;00m\n\u001b[1;32m     71\u001b[0m \u001b[38;5;28;01mfinally\u001b[39;00m:\n\u001b[1;32m     72\u001b[0m     \u001b[38;5;28;01mdel\u001b[39;00m filtered_tb\n",
      "File \u001b[0;32m~/.local/lib/python3.10/site-packages/tensorflow/python/eager/execute.py:53\u001b[0m, in \u001b[0;36mquick_execute\u001b[0;34m(op_name, num_outputs, inputs, attrs, ctx, name)\u001b[0m\n\u001b[1;32m     51\u001b[0m \u001b[38;5;28;01mtry\u001b[39;00m:\n\u001b[1;32m     52\u001b[0m   ctx\u001b[38;5;241m.\u001b[39mensure_initialized()\n\u001b[0;32m---> 53\u001b[0m   tensors \u001b[38;5;241m=\u001b[39m pywrap_tfe\u001b[38;5;241m.\u001b[39mTFE_Py_Execute(ctx\u001b[38;5;241m.\u001b[39m_handle, device_name, op_name,\n\u001b[1;32m     54\u001b[0m                                       inputs, attrs, num_outputs)\n\u001b[1;32m     55\u001b[0m \u001b[38;5;28;01mexcept\u001b[39;00m core\u001b[38;5;241m.\u001b[39m_NotOkStatusException \u001b[38;5;28;01mas\u001b[39;00m e:\n\u001b[1;32m     56\u001b[0m   \u001b[38;5;28;01mif\u001b[39;00m name \u001b[38;5;129;01mis\u001b[39;00m \u001b[38;5;129;01mnot\u001b[39;00m \u001b[38;5;28;01mNone\u001b[39;00m:\n",
      "\u001b[0;31mResourceExhaustedError\u001b[0m: Graph execution error:\n\nDetected at node model/dense_2/BiasAdd defined at (most recent call last):\n  File \"/usr/lib/python3.10/runpy.py\", line 196, in _run_module_as_main\n\n  File \"/usr/lib/python3.10/runpy.py\", line 86, in _run_code\n\n  File \"/home/darya/.local/lib/python3.10/site-packages/ipykernel_launcher.py\", line 18, in <module>\n\n  File \"/home/darya/.local/lib/python3.10/site-packages/traitlets/config/application.py\", line 1075, in launch_instance\n\n  File \"/home/darya/.local/lib/python3.10/site-packages/ipykernel/kernelapp.py\", line 739, in start\n\n  File \"/home/darya/.local/lib/python3.10/site-packages/tornado/platform/asyncio.py\", line 205, in start\n\n  File \"/usr/lib/python3.10/asyncio/base_events.py\", line 603, in run_forever\n\n  File \"/usr/lib/python3.10/asyncio/base_events.py\", line 1909, in _run_once\n\n  File \"/usr/lib/python3.10/asyncio/events.py\", line 80, in _run\n\n  File \"/home/darya/.local/lib/python3.10/site-packages/ipykernel/kernelbase.py\", line 542, in dispatch_queue\n\n  File \"/home/darya/.local/lib/python3.10/site-packages/ipykernel/kernelbase.py\", line 531, in process_one\n\n  File \"/home/darya/.local/lib/python3.10/site-packages/ipykernel/kernelbase.py\", line 437, in dispatch_shell\n\n  File \"/home/darya/.local/lib/python3.10/site-packages/ipykernel/ipkernel.py\", line 359, in execute_request\n\n  File \"/home/darya/.local/lib/python3.10/site-packages/ipykernel/kernelbase.py\", line 775, in execute_request\n\n  File \"/home/darya/.local/lib/python3.10/site-packages/ipykernel/ipkernel.py\", line 446, in do_execute\n\n  File \"/home/darya/.local/lib/python3.10/site-packages/ipykernel/zmqshell.py\", line 549, in run_cell\n\n  File \"/home/darya/.local/lib/python3.10/site-packages/IPython/core/interactiveshell.py\", line 3051, in run_cell\n\n  File \"/home/darya/.local/lib/python3.10/site-packages/IPython/core/interactiveshell.py\", line 3106, in _run_cell\n\n  File \"/home/darya/.local/lib/python3.10/site-packages/IPython/core/async_helpers.py\", line 129, in _pseudo_sync_runner\n\n  File \"/home/darya/.local/lib/python3.10/site-packages/IPython/core/interactiveshell.py\", line 3311, in run_cell_async\n\n  File \"/home/darya/.local/lib/python3.10/site-packages/IPython/core/interactiveshell.py\", line 3493, in run_ast_nodes\n\n  File \"/home/darya/.local/lib/python3.10/site-packages/IPython/core/interactiveshell.py\", line 3553, in run_code\n\n  File \"/tmp/ipykernel_55726/1836837993.py\", line 1, in <module>\n\n  File \"/home/darya/.local/lib/python3.10/site-packages/keras/src/utils/traceback_utils.py\", line 65, in error_handler\n\n  File \"/home/darya/.local/lib/python3.10/site-packages/keras/src/engine/training.py\", line 1807, in fit\n\n  File \"/home/darya/.local/lib/python3.10/site-packages/keras/src/engine/training.py\", line 1401, in train_function\n\n  File \"/home/darya/.local/lib/python3.10/site-packages/keras/src/engine/training.py\", line 1384, in step_function\n\n  File \"/home/darya/.local/lib/python3.10/site-packages/keras/src/engine/training.py\", line 1373, in run_step\n\n  File \"/home/darya/.local/lib/python3.10/site-packages/keras/src/engine/training.py\", line 1150, in train_step\n\n  File \"/home/darya/.local/lib/python3.10/site-packages/keras/src/utils/traceback_utils.py\", line 65, in error_handler\n\n  File \"/home/darya/.local/lib/python3.10/site-packages/keras/src/engine/training.py\", line 590, in __call__\n\n  File \"/home/darya/.local/lib/python3.10/site-packages/keras/src/utils/traceback_utils.py\", line 65, in error_handler\n\n  File \"/home/darya/.local/lib/python3.10/site-packages/keras/src/engine/base_layer.py\", line 1149, in __call__\n\n  File \"/home/darya/.local/lib/python3.10/site-packages/keras/src/utils/traceback_utils.py\", line 96, in error_handler\n\n  File \"/home/darya/.local/lib/python3.10/site-packages/keras/src/engine/functional.py\", line 515, in call\n\n  File \"/home/darya/.local/lib/python3.10/site-packages/keras/src/engine/functional.py\", line 672, in _run_internal_graph\n\n  File \"/home/darya/.local/lib/python3.10/site-packages/keras/src/utils/traceback_utils.py\", line 65, in error_handler\n\n  File \"/home/darya/.local/lib/python3.10/site-packages/keras/src/engine/base_layer.py\", line 1149, in __call__\n\n  File \"/home/darya/.local/lib/python3.10/site-packages/keras/src/utils/traceback_utils.py\", line 96, in error_handler\n\n  File \"/home/darya/.local/lib/python3.10/site-packages/keras/src/layers/core/dense.py\", line 252, in call\n\nOOM when allocating tensor with shape[4,1999,40000] and type float on /job:localhost/replica:0/task:0/device:GPU:0 by allocator GPU_0_bfc\n\t [[{{node model/dense_2/BiasAdd}}]]\nHint: If you want to see a list of allocated tensors when OOM happens, add report_tensor_allocations_upon_oom to RunOptions for current allocation info. This isn't available when running in Eager mode.\n [Op:__inference_train_function_4814]"
     ]
    }
   ],
   "source": [
    "model.fit(train_batches_20k, epochs=10, validation_data=val_batches_20k, callbacks=[text_gen_callback])"
   ]
  },
  {
   "cell_type": "code",
   "execution_count": null,
   "id": "4c746d86",
   "metadata": {},
   "outputs": [],
   "source": [
    "# Слетел по памяти, увы! Но колаб вовсе отказывается крутить такие объемы)"
   ]
  }
 ],
 "metadata": {
  "kernelspec": {
   "display_name": "Python 3 (ipykernel)",
   "language": "python",
   "name": "python3"
  },
  "language_info": {
   "codemirror_mode": {
    "name": "ipython",
    "version": 3
   },
   "file_extension": ".py",
   "mimetype": "text/x-python",
   "name": "python",
   "nbconvert_exporter": "python",
   "pygments_lexer": "ipython3",
   "version": "3.10.12"
  }
 },
 "nbformat": 4,
 "nbformat_minor": 5
}
